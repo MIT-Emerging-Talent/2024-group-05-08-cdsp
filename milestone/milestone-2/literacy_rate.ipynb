{
  "cells": [
    {
      "cell_type": "markdown",
      "id": "a1d3336a",
      "metadata": {
        "id": "a1d3336a"
      },
      "source": [
        "### UNICEF LITERACY RATE\n",
        "\n",
        "<b>Definition: </b>\tLiteracy rate (SDG4.6.2) – Percentage of population that can both read and write a short, simple statement about their everyday life.\n",
        "\n",
        "<b>Unit of measure: </b>\tPercentage\n",
        "\n",
        "<b>Time frame for survey: </b>\tUNESCO Institute for Statistics (UIS) data on literacy rate from past 2 years are used. For countries with multiple years of data, the most recent year was used.\n",
        "\n",
        "<b>Data Definitions</b>\n",
        "\n",
        "<b>ISO: </b> Three-digit alphabetical codes International Standard ISO 3166-1 assigned by the International Organization for Standardization (ISO). The latest version is available online at http://www.iso.org/iso/home/standards/country_codes.htm. (column A)\n",
        "\n",
        "<b>Countries and areas: </b> The UNICEF Global databases contain a set of 202 countries as reported on through the State of the World's Children Statistical Annex 2017 (column B)\n",
        "\n",
        "<b>Region, Sub-region: </b>\tUNICEF regions (column C) and UNICEF Sub-regions (column D)\n",
        "EAP\tEast Asia and the Pacific\n",
        "ECA\tEurope and Central Asia\n",
        "EECA\tEastern Europe and Central Asia\n",
        "ESA\tEastern and Southern Africa\n",
        "LAC\tLatin America and the Caribbean\n",
        "MENA\tMiddle East and North Africa\n",
        "NA\tNorth America\n",
        "SA\tSouth Asia\n",
        "SSA\tSub-Saharan Africa\n",
        "WCA\tWest and Central Africa\n",
        "\n",
        "<b>Development regions: </b> Economies are currently divided into four income groupings: low, lower-middle, upper-middle, and high. Income is measured using gross national income (GNI) per capita, in U.S. dollars, converted from local currency using the World Bank Atlas method (column E).\n",
        "\n",
        "<b>Data Source: </b> The data source of adult and youth literacy rate is UNESCO Institute for Statistics (UIS), (column I)\n",
        "\n",
        "<b>Time period: </b> Represents the year in which the data was collected. (column J)\n",
        "\n",
        "Regional Aggregations\n",
        "Regional aggregates for which 50% or more of the corresponding youth/adult are covered are reported.\n",
        "\n",
        "Disclaimer\n",
        "All reasonable precautions have been taken to verify the information in this database. In no event shall UNICEF be liable for damages arising from its use or interpretation\n"
      ]
    },
    {
      "cell_type": "code",
      "execution_count": 63,
      "id": "b4d4c047",
      "metadata": {
        "id": "b4d4c047"
      },
      "outputs": [],
      "source": [
        "# import the required libraries\n",
        "import numpy as np\n",
        "import pandas as pd\n",
        "import matplotlib.pyplot as plt\n",
        "import seaborn as sns\n",
        "import plotly.express as px"
      ]
    },
    {
      "cell_type": "markdown",
      "id": "f9eb4a0c",
      "metadata": {
        "id": "f9eb4a0c"
      },
      "source": [
        "# Explanatory Data Analysis (EDA)"
      ]
    },
    {
      "cell_type": "code",
      "execution_count": 64,
      "id": "19b30505",
      "metadata": {
        "id": "19b30505"
      },
      "outputs": [],
      "source": [
        "# load the dataset\n",
        "df = pd.read_csv('../education_dataset/Literacy_Rate.csv')"
      ]
    },
    {
      "cell_type": "code",
      "execution_count": 65,
      "id": "5ebb3540",
      "metadata": {
        "id": "5ebb3540",
        "outputId": "849327f4-49ab-40e1-9770-7f15ae58c96b",
        "scrolled": true
      },
      "outputs": [
        {
          "data": {
            "text/html": [
              "<div>\n",
              "<style scoped>\n",
              "    .dataframe tbody tr th:only-of-type {\n",
              "        vertical-align: middle;\n",
              "    }\n",
              "\n",
              "    .dataframe tbody tr th {\n",
              "        vertical-align: top;\n",
              "    }\n",
              "\n",
              "    .dataframe thead th {\n",
              "        text-align: right;\n",
              "    }\n",
              "</style>\n",
              "<table border=\"1\" class=\"dataframe\">\n",
              "  <thead>\n",
              "    <tr style=\"text-align: right;\">\n",
              "      <th></th>\n",
              "      <th>ISO3</th>\n",
              "      <th>Countries and areas</th>\n",
              "      <th>Region</th>\n",
              "      <th>Sub-region</th>\n",
              "      <th>Development Regions</th>\n",
              "      <th>Youth_Literacy_Rate_Female</th>\n",
              "      <th>Youth_Literacy_Rate_Male</th>\n",
              "      <th>Youth_Literacy_Rate_Total</th>\n",
              "      <th>Adult_Literacy_Rate_Female</th>\n",
              "      <th>Adult_Literacy_Rate_Male</th>\n",
              "      <th>Adult_Literacy_Rate_Total</th>\n",
              "    </tr>\n",
              "  </thead>\n",
              "  <tbody>\n",
              "    <tr>\n",
              "      <th>0</th>\n",
              "      <td>AFG</td>\n",
              "      <td>Afghanistan</td>\n",
              "      <td>SA</td>\n",
              "      <td>SA</td>\n",
              "      <td>Least Developed</td>\n",
              "      <td>56.0</td>\n",
              "      <td>74.0</td>\n",
              "      <td>65.0</td>\n",
              "      <td>30.0</td>\n",
              "      <td>55.0</td>\n",
              "      <td>43.0</td>\n",
              "    </tr>\n",
              "    <tr>\n",
              "      <th>1</th>\n",
              "      <td>ALB</td>\n",
              "      <td>Albania</td>\n",
              "      <td>ECA</td>\n",
              "      <td>EECA</td>\n",
              "      <td>More Developed</td>\n",
              "      <td>100.0</td>\n",
              "      <td>99.0</td>\n",
              "      <td>99.0</td>\n",
              "      <td>98.0</td>\n",
              "      <td>99.0</td>\n",
              "      <td>98.0</td>\n",
              "    </tr>\n",
              "    <tr>\n",
              "      <th>2</th>\n",
              "      <td>DZA</td>\n",
              "      <td>Algeria</td>\n",
              "      <td>MENA</td>\n",
              "      <td>MENA</td>\n",
              "      <td>Less Developed</td>\n",
              "      <td>97.0</td>\n",
              "      <td>98.0</td>\n",
              "      <td>97.0</td>\n",
              "      <td>75.0</td>\n",
              "      <td>87.0</td>\n",
              "      <td>81.0</td>\n",
              "    </tr>\n",
              "    <tr>\n",
              "      <th>3</th>\n",
              "      <td>AND</td>\n",
              "      <td>Andorra</td>\n",
              "      <td>ECA</td>\n",
              "      <td>WE</td>\n",
              "      <td>More Developed</td>\n",
              "      <td>NaN</td>\n",
              "      <td>NaN</td>\n",
              "      <td>NaN</td>\n",
              "      <td>NaN</td>\n",
              "      <td>NaN</td>\n",
              "      <td>NaN</td>\n",
              "    </tr>\n",
              "    <tr>\n",
              "      <th>4</th>\n",
              "      <td>AGO</td>\n",
              "      <td>Angola</td>\n",
              "      <td>SSA</td>\n",
              "      <td>ESA</td>\n",
              "      <td>Least Developed</td>\n",
              "      <td>NaN</td>\n",
              "      <td>NaN</td>\n",
              "      <td>NaN</td>\n",
              "      <td>NaN</td>\n",
              "      <td>NaN</td>\n",
              "      <td>NaN</td>\n",
              "    </tr>\n",
              "  </tbody>\n",
              "</table>\n",
              "</div>"
            ],
            "text/plain": [
              "  ISO3 Countries and areas Region Sub-region Development Regions  \\\n",
              "0  AFG         Afghanistan     SA         SA     Least Developed   \n",
              "1  ALB             Albania    ECA       EECA      More Developed   \n",
              "2  DZA             Algeria   MENA       MENA      Less Developed   \n",
              "3  AND             Andorra    ECA         WE      More Developed   \n",
              "4  AGO              Angola    SSA        ESA     Least Developed   \n",
              "\n",
              "   Youth_Literacy_Rate_Female  Youth_Literacy_Rate_Male  \\\n",
              "0                        56.0                      74.0   \n",
              "1                       100.0                      99.0   \n",
              "2                        97.0                      98.0   \n",
              "3                         NaN                       NaN   \n",
              "4                         NaN                       NaN   \n",
              "\n",
              "   Youth_Literacy_Rate_Total  Adult_Literacy_Rate_Female  \\\n",
              "0                       65.0                        30.0   \n",
              "1                       99.0                        98.0   \n",
              "2                       97.0                        75.0   \n",
              "3                        NaN                         NaN   \n",
              "4                        NaN                         NaN   \n",
              "\n",
              "   Adult_Literacy_Rate_Male  Adult_Literacy_Rate_Total  \n",
              "0                      55.0                       43.0  \n",
              "1                      99.0                       98.0  \n",
              "2                      87.0                       81.0  \n",
              "3                       NaN                        NaN  \n",
              "4                       NaN                        NaN  "
            ]
          },
          "execution_count": 65,
          "metadata": {},
          "output_type": "execute_result"
        }
      ],
      "source": [
        "# display the first 5 rows\n",
        "df.head(5)"
      ]
    },
    {
      "cell_type": "markdown",
      "id": "20226a20",
      "metadata": {
        "id": "20226a20"
      },
      "source": [
        "#### Identifying the number of missing rows in the dataset\n",
        "\n",
        "There are a lot of missing values in this dataset. Therefore, we need to consider to remove these missing rows or impute them with mean, median or some statical evaluation. First, we need to identify the number of missing rows in the dataset.  "
      ]
    },
    {
      "cell_type": "code",
      "execution_count": 66,
      "id": "298bd102",
      "metadata": {
        "id": "298bd102",
        "outputId": "37519488-b2c1-42bf-cbe3-75d58f2a6fec"
      },
      "outputs": [
        {
          "data": {
            "text/plain": [
              "ISO3                            0\n",
              "Countries and areas             0\n",
              "Region                          2\n",
              "Sub-region                      2\n",
              "Development Regions             0\n",
              "Youth_Literacy_Rate_Female    124\n",
              "Youth_Literacy_Rate_Male      124\n",
              "Youth_Literacy_Rate_Total     124\n",
              "Adult_Literacy_Rate_Female    124\n",
              "Adult_Literacy_Rate_Male      124\n",
              "Adult_Literacy_Rate_Total     124\n",
              "dtype: int64"
            ]
          },
          "execution_count": 66,
          "metadata": {},
          "output_type": "execute_result"
        }
      ],
      "source": [
        "# check for the missing values\n",
        "df.isna().sum()"
      ]
    },
    {
      "cell_type": "markdown",
      "id": "0aaf4d00",
      "metadata": {
        "id": "0aaf4d00"
      },
      "source": [
        "Why there are 2 missing values in the 'Region' and 'Sub-region' columns? There were no missing value when I first checked in the Microsoft Excel. What's the problem here?"
      ]
    },
    {
      "cell_type": "code",
      "execution_count": 67,
      "id": "7b0d157e",
      "metadata": {
        "id": "7b0d157e",
        "outputId": "babbfc57-3286-4fe6-f8b0-542ea63add6f"
      },
      "outputs": [
        {
          "data": {
            "text/plain": [
              "(202, 11)"
            ]
          },
          "execution_count": 67,
          "metadata": {},
          "output_type": "execute_result"
        }
      ],
      "source": [
        "# check the no of rows and columns\n",
        "df.shape"
      ]
    },
    {
      "cell_type": "code",
      "execution_count": 68,
      "id": "46cdc4a5",
      "metadata": {
        "id": "46cdc4a5",
        "outputId": "f8a3a69a-cd31-443b-d1ea-54328966c00e"
      },
      "outputs": [
        {
          "data": {
            "text/html": [
              "<div>\n",
              "<style scoped>\n",
              "    .dataframe tbody tr th:only-of-type {\n",
              "        vertical-align: middle;\n",
              "    }\n",
              "\n",
              "    .dataframe tbody tr th {\n",
              "        vertical-align: top;\n",
              "    }\n",
              "\n",
              "    .dataframe thead th {\n",
              "        text-align: right;\n",
              "    }\n",
              "</style>\n",
              "<table border=\"1\" class=\"dataframe\">\n",
              "  <thead>\n",
              "    <tr style=\"text-align: right;\">\n",
              "      <th></th>\n",
              "      <th>ISO3</th>\n",
              "      <th>Countries and areas</th>\n",
              "      <th>Region</th>\n",
              "      <th>Sub-region</th>\n",
              "      <th>Development Regions</th>\n",
              "      <th>Youth_Literacy_Rate_Female</th>\n",
              "      <th>Youth_Literacy_Rate_Male</th>\n",
              "      <th>Youth_Literacy_Rate_Total</th>\n",
              "      <th>Adult_Literacy_Rate_Female</th>\n",
              "      <th>Adult_Literacy_Rate_Male</th>\n",
              "      <th>Adult_Literacy_Rate_Total</th>\n",
              "    </tr>\n",
              "  </thead>\n",
              "  <tbody>\n",
              "    <tr>\n",
              "      <th>33</th>\n",
              "      <td>CAN</td>\n",
              "      <td>Canada</td>\n",
              "      <td>NaN</td>\n",
              "      <td>NaN</td>\n",
              "      <td>More Developed</td>\n",
              "      <td>NaN</td>\n",
              "      <td>NaN</td>\n",
              "      <td>NaN</td>\n",
              "      <td>NaN</td>\n",
              "      <td>NaN</td>\n",
              "      <td>NaN</td>\n",
              "    </tr>\n",
              "    <tr>\n",
              "      <th>193</th>\n",
              "      <td>USA</td>\n",
              "      <td>United States</td>\n",
              "      <td>NaN</td>\n",
              "      <td>NaN</td>\n",
              "      <td>More Developed</td>\n",
              "      <td>NaN</td>\n",
              "      <td>NaN</td>\n",
              "      <td>NaN</td>\n",
              "      <td>NaN</td>\n",
              "      <td>NaN</td>\n",
              "      <td>NaN</td>\n",
              "    </tr>\n",
              "  </tbody>\n",
              "</table>\n",
              "</div>"
            ],
            "text/plain": [
              "    ISO3 Countries and areas Region Sub-region Development Regions  \\\n",
              "33   CAN              Canada    NaN        NaN      More Developed   \n",
              "193  USA       United States    NaN        NaN      More Developed   \n",
              "\n",
              "     Youth_Literacy_Rate_Female  Youth_Literacy_Rate_Male  \\\n",
              "33                          NaN                       NaN   \n",
              "193                         NaN                       NaN   \n",
              "\n",
              "     Youth_Literacy_Rate_Total  Adult_Literacy_Rate_Female  \\\n",
              "33                         NaN                         NaN   \n",
              "193                        NaN                         NaN   \n",
              "\n",
              "     Adult_Literacy_Rate_Male  Adult_Literacy_Rate_Total  \n",
              "33                        NaN                        NaN  \n",
              "193                       NaN                        NaN  "
            ]
          },
          "execution_count": 68,
          "metadata": {},
          "output_type": "execute_result"
        }
      ],
      "source": [
        "df[df['Region'].isna() == True]"
      ]
    },
    {
      "cell_type": "markdown",
      "id": "8fe09da1",
      "metadata": {
        "id": "8fe09da1"
      },
      "source": [
        "#### Caution: The Region and Sub-region code 'NA' turned into null values. Therefore, there are two missing values in these two columns. The 'NA' values turn into 'NAN'. Thus, we need to modify these values manually. Firstly, we need to identify the data types of those two columns named 'Region' and 'Sub-region'.\n"
      ]
    },
    {
      "cell_type": "code",
      "execution_count": 69,
      "id": "568769e8",
      "metadata": {
        "id": "568769e8",
        "outputId": "0eef52a3-2c5a-45d4-e342-903bc49600e8"
      },
      "outputs": [
        {
          "data": {
            "text/plain": [
              "ISO3                           object\n",
              "Countries and areas            object\n",
              "Region                         object\n",
              "Sub-region                     object\n",
              "Development Regions            object\n",
              "Youth_Literacy_Rate_Female    float64\n",
              "Youth_Literacy_Rate_Male      float64\n",
              "Youth_Literacy_Rate_Total     float64\n",
              "Adult_Literacy_Rate_Female    float64\n",
              "Adult_Literacy_Rate_Male      float64\n",
              "Adult_Literacy_Rate_Total     float64\n",
              "dtype: object"
            ]
          },
          "execution_count": 69,
          "metadata": {},
          "output_type": "execute_result"
        }
      ],
      "source": [
        "df.dtypes"
      ]
    },
    {
      "cell_type": "markdown",
      "id": "ee782918",
      "metadata": {
        "id": "ee782918"
      },
      "source": [
        "Great, they are object which means they are string. It is easy to modify these string values."
      ]
    },
    {
      "cell_type": "code",
      "execution_count": 70,
      "id": "5d654b9f",
      "metadata": {
        "id": "5d654b9f"
      },
      "outputs": [],
      "source": [
        "# clone the dataframe because we are going to change something and we don't want to mess the original dataframe\n",
        "df_new = df.copy()"
      ]
    },
    {
      "cell_type": "code",
      "execution_count": 71,
      "id": "37daabf6",
      "metadata": {
        "id": "37daabf6",
        "outputId": "4643bd5d-0191-4693-f18a-80c327b6a01f"
      },
      "outputs": [
        {
          "data": {
            "text/plain": [
              "ISO3                            0\n",
              "Countries and areas             0\n",
              "Region                          2\n",
              "Sub-region                      2\n",
              "Development Regions             0\n",
              "Youth_Literacy_Rate_Female    124\n",
              "Youth_Literacy_Rate_Male      124\n",
              "Youth_Literacy_Rate_Total     124\n",
              "Adult_Literacy_Rate_Female    124\n",
              "Adult_Literacy_Rate_Male      124\n",
              "Adult_Literacy_Rate_Total     124\n",
              "dtype: int64"
            ]
          },
          "execution_count": 71,
          "metadata": {},
          "output_type": "execute_result"
        }
      ],
      "source": [
        "# check again in the clone dataframe to make sure everything is the same as the previous\n",
        "df_new.isna().sum()"
      ]
    },
    {
      "cell_type": "code",
      "execution_count": 72,
      "id": "732d9be4",
      "metadata": {
        "id": "732d9be4"
      },
      "outputs": [],
      "source": [
        "# redefine the variables\n",
        "df_new.loc[33, 'Region'] = 'NA'\n",
        "df_new.loc[33, 'Sub-region'] = 'NA'\n",
        "df_new.loc[193,'Region'] = 'NA'\n",
        "df_new.loc[193, 'Sub-region'] = 'NA'"
      ]
    },
    {
      "cell_type": "code",
      "execution_count": 73,
      "id": "ce6f7a2b",
      "metadata": {
        "id": "ce6f7a2b",
        "outputId": "7ec5181c-5279-44cc-a33f-2b20f312f449"
      },
      "outputs": [
        {
          "data": {
            "text/plain": [
              "ISO3                            0\n",
              "Countries and areas             0\n",
              "Region                          0\n",
              "Sub-region                      0\n",
              "Development Regions             0\n",
              "Youth_Literacy_Rate_Female    124\n",
              "Youth_Literacy_Rate_Male      124\n",
              "Youth_Literacy_Rate_Total     124\n",
              "Adult_Literacy_Rate_Female    124\n",
              "Adult_Literacy_Rate_Male      124\n",
              "Adult_Literacy_Rate_Total     124\n",
              "dtype: int64"
            ]
          },
          "execution_count": 73,
          "metadata": {},
          "output_type": "execute_result"
        }
      ],
      "source": [
        "# let's recheck again\n",
        "df_new.isna().sum()"
      ]
    },
    {
      "cell_type": "code",
      "execution_count": 74,
      "id": "78f1b231",
      "metadata": {
        "id": "78f1b231",
        "outputId": "7e0bb0ce-aed1-45b8-a8aa-0043125e3d51"
      },
      "outputs": [
        {
          "name": "stdout",
          "output_type": "stream",
          "text": [
            "ISO3                                     CAN\n",
            "Countries and areas                   Canada\n",
            "Region                                    NA\n",
            "Sub-region                                NA\n",
            "Development Regions           More Developed\n",
            "Youth_Literacy_Rate_Female               NaN\n",
            "Youth_Literacy_Rate_Male                 NaN\n",
            "Youth_Literacy_Rate_Total                NaN\n",
            "Adult_Literacy_Rate_Female               NaN\n",
            "Adult_Literacy_Rate_Male                 NaN\n",
            "Adult_Literacy_Rate_Total                NaN\n",
            "Name: 33, dtype: object\n",
            "ISO3                                     USA\n",
            "Countries and areas            United States\n",
            "Region                                    NA\n",
            "Sub-region                                NA\n",
            "Development Regions           More Developed\n",
            "Youth_Literacy_Rate_Female               NaN\n",
            "Youth_Literacy_Rate_Male                 NaN\n",
            "Youth_Literacy_Rate_Total                NaN\n",
            "Adult_Literacy_Rate_Female               NaN\n",
            "Adult_Literacy_Rate_Male                 NaN\n",
            "Adult_Literacy_Rate_Total                NaN\n",
            "Name: 193, dtype: object\n"
          ]
        }
      ],
      "source": [
        "# we have successfully redefined the variables\n",
        "print(df_new.loc[33])\n",
        "print(df_new.loc[193])"
      ]
    },
    {
      "cell_type": "code",
      "execution_count": 75,
      "id": "3bff5758",
      "metadata": {
        "id": "3bff5758",
        "outputId": "419add5c-7dce-4d59-eda8-3cf979eaf90b"
      },
      "outputs": [
        {
          "name": "stdout",
          "output_type": "stream",
          "text": [
            "<class 'pandas.core.frame.DataFrame'>\n",
            "RangeIndex: 202 entries, 0 to 201\n",
            "Data columns (total 11 columns):\n",
            " #   Column                      Non-Null Count  Dtype  \n",
            "---  ------                      --------------  -----  \n",
            " 0   ISO3                        202 non-null    object \n",
            " 1   Countries and areas         202 non-null    object \n",
            " 2   Region                      202 non-null    object \n",
            " 3   Sub-region                  202 non-null    object \n",
            " 4   Development Regions         202 non-null    object \n",
            " 5   Youth_Literacy_Rate_Female  78 non-null     float64\n",
            " 6   Youth_Literacy_Rate_Male    78 non-null     float64\n",
            " 7   Youth_Literacy_Rate_Total   78 non-null     float64\n",
            " 8   Adult_Literacy_Rate_Female  78 non-null     float64\n",
            " 9   Adult_Literacy_Rate_Male    78 non-null     float64\n",
            " 10  Adult_Literacy_Rate_Total   78 non-null     float64\n",
            "dtypes: float64(6), object(5)\n",
            "memory usage: 17.5+ KB\n"
          ]
        }
      ],
      "source": [
        "# identify the dataset\n",
        "df_new.info()"
      ]
    },
    {
      "cell_type": "code",
      "execution_count": 76,
      "id": "545c259b",
      "metadata": {
        "id": "545c259b",
        "outputId": "2764dca0-6432-410b-ccf7-c64a55300e49"
      },
      "outputs": [
        {
          "data": {
            "text/html": [
              "<div>\n",
              "<style scoped>\n",
              "    .dataframe tbody tr th:only-of-type {\n",
              "        vertical-align: middle;\n",
              "    }\n",
              "\n",
              "    .dataframe tbody tr th {\n",
              "        vertical-align: top;\n",
              "    }\n",
              "\n",
              "    .dataframe thead th {\n",
              "        text-align: right;\n",
              "    }\n",
              "</style>\n",
              "<table border=\"1\" class=\"dataframe\">\n",
              "  <thead>\n",
              "    <tr style=\"text-align: right;\">\n",
              "      <th></th>\n",
              "      <th>Youth_Literacy_Rate_Female</th>\n",
              "      <th>Youth_Literacy_Rate_Male</th>\n",
              "      <th>Youth_Literacy_Rate_Total</th>\n",
              "      <th>Adult_Literacy_Rate_Female</th>\n",
              "      <th>Adult_Literacy_Rate_Male</th>\n",
              "      <th>Adult_Literacy_Rate_Total</th>\n",
              "    </tr>\n",
              "  </thead>\n",
              "  <tbody>\n",
              "    <tr>\n",
              "      <th>count</th>\n",
              "      <td>78.000000</td>\n",
              "      <td>78.000000</td>\n",
              "      <td>78.000000</td>\n",
              "      <td>78.000000</td>\n",
              "      <td>78.000000</td>\n",
              "      <td>78.000000</td>\n",
              "    </tr>\n",
              "    <tr>\n",
              "      <th>mean</th>\n",
              "      <td>90.307692</td>\n",
              "      <td>91.820513</td>\n",
              "      <td>90.987179</td>\n",
              "      <td>81.461538</td>\n",
              "      <td>87.128205</td>\n",
              "      <td>84.256410</td>\n",
              "    </tr>\n",
              "    <tr>\n",
              "      <th>std</th>\n",
              "      <td>16.986861</td>\n",
              "      <td>13.075946</td>\n",
              "      <td>15.014706</td>\n",
              "      <td>22.213657</td>\n",
              "      <td>16.115943</td>\n",
              "      <td>19.189713</td>\n",
              "    </tr>\n",
              "    <tr>\n",
              "      <th>min</th>\n",
              "      <td>29.000000</td>\n",
              "      <td>48.000000</td>\n",
              "      <td>38.000000</td>\n",
              "      <td>26.000000</td>\n",
              "      <td>40.000000</td>\n",
              "      <td>35.000000</td>\n",
              "    </tr>\n",
              "    <tr>\n",
              "      <th>25%</th>\n",
              "      <td>90.250000</td>\n",
              "      <td>90.000000</td>\n",
              "      <td>90.500000</td>\n",
              "      <td>72.000000</td>\n",
              "      <td>83.000000</td>\n",
              "      <td>77.000000</td>\n",
              "    </tr>\n",
              "    <tr>\n",
              "      <th>50%</th>\n",
              "      <td>99.000000</td>\n",
              "      <td>98.000000</td>\n",
              "      <td>99.000000</td>\n",
              "      <td>93.000000</td>\n",
              "      <td>95.000000</td>\n",
              "      <td>94.000000</td>\n",
              "    </tr>\n",
              "    <tr>\n",
              "      <th>75%</th>\n",
              "      <td>100.000000</td>\n",
              "      <td>99.000000</td>\n",
              "      <td>99.000000</td>\n",
              "      <td>96.750000</td>\n",
              "      <td>98.750000</td>\n",
              "      <td>97.750000</td>\n",
              "    </tr>\n",
              "    <tr>\n",
              "      <th>max</th>\n",
              "      <td>100.000000</td>\n",
              "      <td>100.000000</td>\n",
              "      <td>100.000000</td>\n",
              "      <td>100.000000</td>\n",
              "      <td>100.000000</td>\n",
              "      <td>100.000000</td>\n",
              "    </tr>\n",
              "  </tbody>\n",
              "</table>\n",
              "</div>"
            ],
            "text/plain": [
              "       Youth_Literacy_Rate_Female  Youth_Literacy_Rate_Male  \\\n",
              "count                   78.000000                 78.000000   \n",
              "mean                    90.307692                 91.820513   \n",
              "std                     16.986861                 13.075946   \n",
              "min                     29.000000                 48.000000   \n",
              "25%                     90.250000                 90.000000   \n",
              "50%                     99.000000                 98.000000   \n",
              "75%                    100.000000                 99.000000   \n",
              "max                    100.000000                100.000000   \n",
              "\n",
              "       Youth_Literacy_Rate_Total  Adult_Literacy_Rate_Female  \\\n",
              "count                  78.000000                   78.000000   \n",
              "mean                   90.987179                   81.461538   \n",
              "std                    15.014706                   22.213657   \n",
              "min                    38.000000                   26.000000   \n",
              "25%                    90.500000                   72.000000   \n",
              "50%                    99.000000                   93.000000   \n",
              "75%                    99.000000                   96.750000   \n",
              "max                   100.000000                  100.000000   \n",
              "\n",
              "       Adult_Literacy_Rate_Male  Adult_Literacy_Rate_Total  \n",
              "count                 78.000000                  78.000000  \n",
              "mean                  87.128205                  84.256410  \n",
              "std                   16.115943                  19.189713  \n",
              "min                   40.000000                  35.000000  \n",
              "25%                   83.000000                  77.000000  \n",
              "50%                   95.000000                  94.000000  \n",
              "75%                   98.750000                  97.750000  \n",
              "max                  100.000000                 100.000000  "
            ]
          },
          "execution_count": 76,
          "metadata": {},
          "output_type": "execute_result"
        }
      ],
      "source": [
        "# describe statistics\n",
        "df_new.describe()"
      ]
    },
    {
      "cell_type": "markdown",
      "id": "367daf5b",
      "metadata": {
        "id": "367daf5b"
      },
      "source": [
        "# Imputation\n",
        "\n",
        "In order to impute the missing values, we need to identify how many missing values are there and are they missing at random? The problem is there are rows where all the data are missing as a whole. In addition, the data are not missing at random and removing them from the dataset completely will certainly introduce certain biases.\n",
        "\n",
        "On the other hand, imputing directly as a column will introduce outliers because the dataset contains developed countries that have high literacy rate and least developed countries which have low literacy rate. If we subsitute mean / median that are calculated based on these variables to the missing values will certainly intrdouce biases to the dataset.\n",
        "\n",
        "Therefore, I will divide the countries into different groups based on their economic status <b>('Development Regions' in the dataset)</b>. This process can reduce the amount of biases because the imputation of mean or median would take in each group. For example, a certain developed countries variable which can become the outliers will not affect to other groups. This process of dividing the dataset into different groups based on a certain characteristics and performing imputation is called <b>\"Stratified Imputation\"</b>.\n",
        "\n",
        "##### Definition: Stratified imputation involves dividing the data into strata (e.g., by region, income group, or development status) and imputing missing values within each stratum separately. This approach helps account for differences in literacy rates across different groups and reduces bias.\n"
      ]
    },
    {
      "cell_type": "code",
      "execution_count": 77,
      "id": "ad57b343",
      "metadata": {
        "id": "ad57b343",
        "outputId": "c2fafce4-c7ca-46d9-e6ea-b3acb6bca4e1"
      },
      "outputs": [
        {
          "name": "stdout",
          "output_type": "stream",
          "text": [
            "['Least Developed' 'More Developed' 'Less Developed' 'Not Classified']\n"
          ]
        }
      ],
      "source": [
        "# identify different economies in the dataset\n",
        "print(df_new['Development Regions'].unique())"
      ]
    },
    {
      "cell_type": "code",
      "execution_count": 78,
      "id": "8bcc9a8e",
      "metadata": {
        "id": "8bcc9a8e"
      },
      "outputs": [],
      "source": [
        "# group the countries based on their economies\n",
        "least_developed_countries = df_new[df_new['Development Regions'] == 'Least Developed'].reset_index(drop = True)\n",
        "less_developed_countries = df_new[df_new['Development Regions'] == 'Less Developed'].reset_index(drop = True)\n",
        "more_developed_countries = df_new[df_new['Development Regions'] == 'More Developed'].reset_index(drop = True)\n",
        "unclassified_countries = df_new[df_new['Development Regions'] == 'Not Classified'].reset_index(drop = True)"
      ]
    },
    {
      "cell_type": "code",
      "execution_count": 79,
      "id": "ba8c22e1",
      "metadata": {
        "id": "ba8c22e1",
        "outputId": "5523d176-6665-4bdf-82c1-9d45b54775d4"
      },
      "outputs": [
        {
          "data": {
            "text/html": [
              "<div>\n",
              "<style scoped>\n",
              "    .dataframe tbody tr th:only-of-type {\n",
              "        vertical-align: middle;\n",
              "    }\n",
              "\n",
              "    .dataframe tbody tr th {\n",
              "        vertical-align: top;\n",
              "    }\n",
              "\n",
              "    .dataframe thead th {\n",
              "        text-align: right;\n",
              "    }\n",
              "</style>\n",
              "<table border=\"1\" class=\"dataframe\">\n",
              "  <thead>\n",
              "    <tr style=\"text-align: right;\">\n",
              "      <th></th>\n",
              "      <th>ISO3</th>\n",
              "      <th>Countries and areas</th>\n",
              "      <th>Region</th>\n",
              "      <th>Sub-region</th>\n",
              "      <th>Development Regions</th>\n",
              "      <th>Youth_Literacy_Rate_Female</th>\n",
              "      <th>Youth_Literacy_Rate_Male</th>\n",
              "      <th>Youth_Literacy_Rate_Total</th>\n",
              "      <th>Adult_Literacy_Rate_Female</th>\n",
              "      <th>Adult_Literacy_Rate_Male</th>\n",
              "      <th>Adult_Literacy_Rate_Total</th>\n",
              "    </tr>\n",
              "  </thead>\n",
              "  <tbody>\n",
              "    <tr>\n",
              "      <th>0</th>\n",
              "      <td>AFG</td>\n",
              "      <td>Afghanistan</td>\n",
              "      <td>SA</td>\n",
              "      <td>SA</td>\n",
              "      <td>Least Developed</td>\n",
              "      <td>56.0</td>\n",
              "      <td>74.0</td>\n",
              "      <td>65.0</td>\n",
              "      <td>30.0</td>\n",
              "      <td>55.0</td>\n",
              "      <td>43.0</td>\n",
              "    </tr>\n",
              "    <tr>\n",
              "      <th>1</th>\n",
              "      <td>AGO</td>\n",
              "      <td>Angola</td>\n",
              "      <td>SSA</td>\n",
              "      <td>ESA</td>\n",
              "      <td>Least Developed</td>\n",
              "      <td>NaN</td>\n",
              "      <td>NaN</td>\n",
              "      <td>NaN</td>\n",
              "      <td>NaN</td>\n",
              "      <td>NaN</td>\n",
              "      <td>NaN</td>\n",
              "    </tr>\n",
              "    <tr>\n",
              "      <th>2</th>\n",
              "      <td>BGD</td>\n",
              "      <td>Bangladesh</td>\n",
              "      <td>SA</td>\n",
              "      <td>SA</td>\n",
              "      <td>Least Developed</td>\n",
              "      <td>96.0</td>\n",
              "      <td>94.0</td>\n",
              "      <td>95.0</td>\n",
              "      <td>72.0</td>\n",
              "      <td>77.0</td>\n",
              "      <td>75.0</td>\n",
              "    </tr>\n",
              "    <tr>\n",
              "      <th>3</th>\n",
              "      <td>BEN</td>\n",
              "      <td>Benin</td>\n",
              "      <td>SSA</td>\n",
              "      <td>WCA</td>\n",
              "      <td>Least Developed</td>\n",
              "      <td>52.0</td>\n",
              "      <td>70.0</td>\n",
              "      <td>61.0</td>\n",
              "      <td>31.0</td>\n",
              "      <td>54.0</td>\n",
              "      <td>42.0</td>\n",
              "    </tr>\n",
              "    <tr>\n",
              "      <th>4</th>\n",
              "      <td>BTN</td>\n",
              "      <td>Bhutan</td>\n",
              "      <td>SA</td>\n",
              "      <td>SA</td>\n",
              "      <td>Least Developed</td>\n",
              "      <td>NaN</td>\n",
              "      <td>NaN</td>\n",
              "      <td>NaN</td>\n",
              "      <td>NaN</td>\n",
              "      <td>NaN</td>\n",
              "      <td>NaN</td>\n",
              "    </tr>\n",
              "  </tbody>\n",
              "</table>\n",
              "</div>"
            ],
            "text/plain": [
              "  ISO3 Countries and areas Region Sub-region Development Regions  \\\n",
              "0  AFG         Afghanistan     SA         SA     Least Developed   \n",
              "1  AGO              Angola    SSA        ESA     Least Developed   \n",
              "2  BGD          Bangladesh     SA         SA     Least Developed   \n",
              "3  BEN               Benin    SSA        WCA     Least Developed   \n",
              "4  BTN              Bhutan     SA         SA     Least Developed   \n",
              "\n",
              "   Youth_Literacy_Rate_Female  Youth_Literacy_Rate_Male  \\\n",
              "0                        56.0                      74.0   \n",
              "1                         NaN                       NaN   \n",
              "2                        96.0                      94.0   \n",
              "3                        52.0                      70.0   \n",
              "4                         NaN                       NaN   \n",
              "\n",
              "   Youth_Literacy_Rate_Total  Adult_Literacy_Rate_Female  \\\n",
              "0                       65.0                        30.0   \n",
              "1                        NaN                         NaN   \n",
              "2                       95.0                        72.0   \n",
              "3                       61.0                        31.0   \n",
              "4                        NaN                         NaN   \n",
              "\n",
              "   Adult_Literacy_Rate_Male  Adult_Literacy_Rate_Total  \n",
              "0                      55.0                       43.0  \n",
              "1                       NaN                        NaN  \n",
              "2                      77.0                       75.0  \n",
              "3                      54.0                       42.0  \n",
              "4                       NaN                        NaN  "
            ]
          },
          "execution_count": 79,
          "metadata": {},
          "output_type": "execute_result"
        }
      ],
      "source": [
        "# check the stratas\n",
        "least_developed_countries.head(5)"
      ]
    },
    {
      "cell_type": "code",
      "execution_count": 80,
      "id": "b47eaa4e",
      "metadata": {
        "id": "b47eaa4e",
        "outputId": "81701f37-e2eb-4ca9-cd43-b4a8e9d566b0"
      },
      "outputs": [
        {
          "data": {
            "text/html": [
              "<div>\n",
              "<style scoped>\n",
              "    .dataframe tbody tr th:only-of-type {\n",
              "        vertical-align: middle;\n",
              "    }\n",
              "\n",
              "    .dataframe tbody tr th {\n",
              "        vertical-align: top;\n",
              "    }\n",
              "\n",
              "    .dataframe thead th {\n",
              "        text-align: right;\n",
              "    }\n",
              "</style>\n",
              "<table border=\"1\" class=\"dataframe\">\n",
              "  <thead>\n",
              "    <tr style=\"text-align: right;\">\n",
              "      <th></th>\n",
              "      <th>ISO3</th>\n",
              "      <th>Countries and areas</th>\n",
              "      <th>Region</th>\n",
              "      <th>Sub-region</th>\n",
              "      <th>Development Regions</th>\n",
              "      <th>Youth_Literacy_Rate_Female</th>\n",
              "      <th>Youth_Literacy_Rate_Male</th>\n",
              "      <th>Youth_Literacy_Rate_Total</th>\n",
              "      <th>Adult_Literacy_Rate_Female</th>\n",
              "      <th>Adult_Literacy_Rate_Male</th>\n",
              "      <th>Adult_Literacy_Rate_Total</th>\n",
              "    </tr>\n",
              "  </thead>\n",
              "  <tbody>\n",
              "    <tr>\n",
              "      <th>0</th>\n",
              "      <td>DZA</td>\n",
              "      <td>Algeria</td>\n",
              "      <td>MENA</td>\n",
              "      <td>MENA</td>\n",
              "      <td>Less Developed</td>\n",
              "      <td>97.0</td>\n",
              "      <td>98.0</td>\n",
              "      <td>97.0</td>\n",
              "      <td>75.0</td>\n",
              "      <td>87.0</td>\n",
              "      <td>81.0</td>\n",
              "    </tr>\n",
              "    <tr>\n",
              "      <th>1</th>\n",
              "      <td>ATG</td>\n",
              "      <td>Antigua and Barbuda</td>\n",
              "      <td>LAC</td>\n",
              "      <td>LAC</td>\n",
              "      <td>Less Developed</td>\n",
              "      <td>NaN</td>\n",
              "      <td>NaN</td>\n",
              "      <td>NaN</td>\n",
              "      <td>NaN</td>\n",
              "      <td>NaN</td>\n",
              "      <td>NaN</td>\n",
              "    </tr>\n",
              "    <tr>\n",
              "      <th>2</th>\n",
              "      <td>ARG</td>\n",
              "      <td>Argentina</td>\n",
              "      <td>LAC</td>\n",
              "      <td>LAC</td>\n",
              "      <td>Less Developed</td>\n",
              "      <td>100.0</td>\n",
              "      <td>99.0</td>\n",
              "      <td>100.0</td>\n",
              "      <td>99.0</td>\n",
              "      <td>99.0</td>\n",
              "      <td>99.0</td>\n",
              "    </tr>\n",
              "    <tr>\n",
              "      <th>3</th>\n",
              "      <td>ARM</td>\n",
              "      <td>Armenia</td>\n",
              "      <td>ECA</td>\n",
              "      <td>EECA</td>\n",
              "      <td>Less Developed</td>\n",
              "      <td>NaN</td>\n",
              "      <td>NaN</td>\n",
              "      <td>NaN</td>\n",
              "      <td>NaN</td>\n",
              "      <td>NaN</td>\n",
              "      <td>NaN</td>\n",
              "    </tr>\n",
              "    <tr>\n",
              "      <th>4</th>\n",
              "      <td>AZE</td>\n",
              "      <td>Azerbaijan</td>\n",
              "      <td>ECA</td>\n",
              "      <td>EECA</td>\n",
              "      <td>Less Developed</td>\n",
              "      <td>NaN</td>\n",
              "      <td>NaN</td>\n",
              "      <td>NaN</td>\n",
              "      <td>NaN</td>\n",
              "      <td>NaN</td>\n",
              "      <td>NaN</td>\n",
              "    </tr>\n",
              "  </tbody>\n",
              "</table>\n",
              "</div>"
            ],
            "text/plain": [
              "  ISO3  Countries and areas Region Sub-region Development Regions  \\\n",
              "0  DZA              Algeria   MENA       MENA      Less Developed   \n",
              "1  ATG  Antigua and Barbuda    LAC        LAC      Less Developed   \n",
              "2  ARG            Argentina    LAC        LAC      Less Developed   \n",
              "3  ARM              Armenia    ECA       EECA      Less Developed   \n",
              "4  AZE           Azerbaijan    ECA       EECA      Less Developed   \n",
              "\n",
              "   Youth_Literacy_Rate_Female  Youth_Literacy_Rate_Male  \\\n",
              "0                        97.0                      98.0   \n",
              "1                         NaN                       NaN   \n",
              "2                       100.0                      99.0   \n",
              "3                         NaN                       NaN   \n",
              "4                         NaN                       NaN   \n",
              "\n",
              "   Youth_Literacy_Rate_Total  Adult_Literacy_Rate_Female  \\\n",
              "0                       97.0                        75.0   \n",
              "1                        NaN                         NaN   \n",
              "2                      100.0                        99.0   \n",
              "3                        NaN                         NaN   \n",
              "4                        NaN                         NaN   \n",
              "\n",
              "   Adult_Literacy_Rate_Male  Adult_Literacy_Rate_Total  \n",
              "0                      87.0                       81.0  \n",
              "1                       NaN                        NaN  \n",
              "2                      99.0                       99.0  \n",
              "3                       NaN                        NaN  \n",
              "4                       NaN                        NaN  "
            ]
          },
          "execution_count": 80,
          "metadata": {},
          "output_type": "execute_result"
        }
      ],
      "source": [
        "less_developed_countries.head(5)"
      ]
    },
    {
      "cell_type": "code",
      "execution_count": 81,
      "id": "1023840e",
      "metadata": {
        "id": "1023840e",
        "outputId": "b4f17a50-3383-414e-cd74-6f522883ac7d"
      },
      "outputs": [
        {
          "data": {
            "text/html": [
              "<div>\n",
              "<style scoped>\n",
              "    .dataframe tbody tr th:only-of-type {\n",
              "        vertical-align: middle;\n",
              "    }\n",
              "\n",
              "    .dataframe tbody tr th {\n",
              "        vertical-align: top;\n",
              "    }\n",
              "\n",
              "    .dataframe thead th {\n",
              "        text-align: right;\n",
              "    }\n",
              "</style>\n",
              "<table border=\"1\" class=\"dataframe\">\n",
              "  <thead>\n",
              "    <tr style=\"text-align: right;\">\n",
              "      <th></th>\n",
              "      <th>ISO3</th>\n",
              "      <th>Countries and areas</th>\n",
              "      <th>Region</th>\n",
              "      <th>Sub-region</th>\n",
              "      <th>Development Regions</th>\n",
              "      <th>Youth_Literacy_Rate_Female</th>\n",
              "      <th>Youth_Literacy_Rate_Male</th>\n",
              "      <th>Youth_Literacy_Rate_Total</th>\n",
              "      <th>Adult_Literacy_Rate_Female</th>\n",
              "      <th>Adult_Literacy_Rate_Male</th>\n",
              "      <th>Adult_Literacy_Rate_Total</th>\n",
              "    </tr>\n",
              "  </thead>\n",
              "  <tbody>\n",
              "    <tr>\n",
              "      <th>0</th>\n",
              "      <td>ALB</td>\n",
              "      <td>Albania</td>\n",
              "      <td>ECA</td>\n",
              "      <td>EECA</td>\n",
              "      <td>More Developed</td>\n",
              "      <td>100.0</td>\n",
              "      <td>99.0</td>\n",
              "      <td>99.0</td>\n",
              "      <td>98.0</td>\n",
              "      <td>99.0</td>\n",
              "      <td>98.0</td>\n",
              "    </tr>\n",
              "    <tr>\n",
              "      <th>1</th>\n",
              "      <td>AND</td>\n",
              "      <td>Andorra</td>\n",
              "      <td>ECA</td>\n",
              "      <td>WE</td>\n",
              "      <td>More Developed</td>\n",
              "      <td>NaN</td>\n",
              "      <td>NaN</td>\n",
              "      <td>NaN</td>\n",
              "      <td>NaN</td>\n",
              "      <td>NaN</td>\n",
              "      <td>NaN</td>\n",
              "    </tr>\n",
              "    <tr>\n",
              "      <th>2</th>\n",
              "      <td>AUS</td>\n",
              "      <td>Australia</td>\n",
              "      <td>EAP</td>\n",
              "      <td>EAP</td>\n",
              "      <td>More Developed</td>\n",
              "      <td>NaN</td>\n",
              "      <td>NaN</td>\n",
              "      <td>NaN</td>\n",
              "      <td>NaN</td>\n",
              "      <td>NaN</td>\n",
              "      <td>NaN</td>\n",
              "    </tr>\n",
              "    <tr>\n",
              "      <th>3</th>\n",
              "      <td>AUT</td>\n",
              "      <td>Austria</td>\n",
              "      <td>ECA</td>\n",
              "      <td>WE</td>\n",
              "      <td>More Developed</td>\n",
              "      <td>NaN</td>\n",
              "      <td>NaN</td>\n",
              "      <td>NaN</td>\n",
              "      <td>NaN</td>\n",
              "      <td>NaN</td>\n",
              "      <td>NaN</td>\n",
              "    </tr>\n",
              "    <tr>\n",
              "      <th>4</th>\n",
              "      <td>BLR</td>\n",
              "      <td>Belarus</td>\n",
              "      <td>ECA</td>\n",
              "      <td>EECA</td>\n",
              "      <td>More Developed</td>\n",
              "      <td>100.0</td>\n",
              "      <td>100.0</td>\n",
              "      <td>100.0</td>\n",
              "      <td>100.0</td>\n",
              "      <td>100.0</td>\n",
              "      <td>100.0</td>\n",
              "    </tr>\n",
              "  </tbody>\n",
              "</table>\n",
              "</div>"
            ],
            "text/plain": [
              "  ISO3 Countries and areas Region Sub-region Development Regions  \\\n",
              "0  ALB             Albania    ECA       EECA      More Developed   \n",
              "1  AND             Andorra    ECA         WE      More Developed   \n",
              "2  AUS           Australia    EAP        EAP      More Developed   \n",
              "3  AUT             Austria    ECA         WE      More Developed   \n",
              "4  BLR             Belarus    ECA       EECA      More Developed   \n",
              "\n",
              "   Youth_Literacy_Rate_Female  Youth_Literacy_Rate_Male  \\\n",
              "0                       100.0                      99.0   \n",
              "1                         NaN                       NaN   \n",
              "2                         NaN                       NaN   \n",
              "3                         NaN                       NaN   \n",
              "4                       100.0                     100.0   \n",
              "\n",
              "   Youth_Literacy_Rate_Total  Adult_Literacy_Rate_Female  \\\n",
              "0                       99.0                        98.0   \n",
              "1                        NaN                         NaN   \n",
              "2                        NaN                         NaN   \n",
              "3                        NaN                         NaN   \n",
              "4                      100.0                       100.0   \n",
              "\n",
              "   Adult_Literacy_Rate_Male  Adult_Literacy_Rate_Total  \n",
              "0                      99.0                       98.0  \n",
              "1                       NaN                        NaN  \n",
              "2                       NaN                        NaN  \n",
              "3                       NaN                        NaN  \n",
              "4                     100.0                      100.0  "
            ]
          },
          "execution_count": 81,
          "metadata": {},
          "output_type": "execute_result"
        }
      ],
      "source": [
        "more_developed_countries.head(5)"
      ]
    },
    {
      "cell_type": "code",
      "execution_count": 82,
      "id": "1759f244",
      "metadata": {
        "id": "1759f244",
        "outputId": "e2e55822-0ef2-4ca8-89c4-810b3ab9196f"
      },
      "outputs": [
        {
          "data": {
            "text/html": [
              "<div>\n",
              "<style scoped>\n",
              "    .dataframe tbody tr th:only-of-type {\n",
              "        vertical-align: middle;\n",
              "    }\n",
              "\n",
              "    .dataframe tbody tr th {\n",
              "        vertical-align: top;\n",
              "    }\n",
              "\n",
              "    .dataframe thead th {\n",
              "        text-align: right;\n",
              "    }\n",
              "</style>\n",
              "<table border=\"1\" class=\"dataframe\">\n",
              "  <thead>\n",
              "    <tr style=\"text-align: right;\">\n",
              "      <th></th>\n",
              "      <th>ISO3</th>\n",
              "      <th>Countries and areas</th>\n",
              "      <th>Region</th>\n",
              "      <th>Sub-region</th>\n",
              "      <th>Development Regions</th>\n",
              "      <th>Youth_Literacy_Rate_Female</th>\n",
              "      <th>Youth_Literacy_Rate_Male</th>\n",
              "      <th>Youth_Literacy_Rate_Total</th>\n",
              "      <th>Adult_Literacy_Rate_Female</th>\n",
              "      <th>Adult_Literacy_Rate_Male</th>\n",
              "      <th>Adult_Literacy_Rate_Total</th>\n",
              "    </tr>\n",
              "  </thead>\n",
              "  <tbody>\n",
              "    <tr>\n",
              "      <th>0</th>\n",
              "      <td>AIA</td>\n",
              "      <td>Anguilla</td>\n",
              "      <td>LAC</td>\n",
              "      <td>LAC</td>\n",
              "      <td>Not Classified</td>\n",
              "      <td>NaN</td>\n",
              "      <td>NaN</td>\n",
              "      <td>NaN</td>\n",
              "      <td>NaN</td>\n",
              "      <td>NaN</td>\n",
              "      <td>NaN</td>\n",
              "    </tr>\n",
              "    <tr>\n",
              "      <th>1</th>\n",
              "      <td>VGB</td>\n",
              "      <td>British Virgin Islands</td>\n",
              "      <td>LAC</td>\n",
              "      <td>LAC</td>\n",
              "      <td>Not Classified</td>\n",
              "      <td>NaN</td>\n",
              "      <td>NaN</td>\n",
              "      <td>NaN</td>\n",
              "      <td>NaN</td>\n",
              "      <td>NaN</td>\n",
              "      <td>NaN</td>\n",
              "    </tr>\n",
              "    <tr>\n",
              "      <th>2</th>\n",
              "      <td>VAT</td>\n",
              "      <td>Holy See</td>\n",
              "      <td>ECA</td>\n",
              "      <td>WE</td>\n",
              "      <td>Not Classified</td>\n",
              "      <td>NaN</td>\n",
              "      <td>NaN</td>\n",
              "      <td>NaN</td>\n",
              "      <td>NaN</td>\n",
              "      <td>NaN</td>\n",
              "      <td>NaN</td>\n",
              "    </tr>\n",
              "    <tr>\n",
              "      <th>3</th>\n",
              "      <td>MSR</td>\n",
              "      <td>Montserrat</td>\n",
              "      <td>LAC</td>\n",
              "      <td>LAC</td>\n",
              "      <td>Not Classified</td>\n",
              "      <td>NaN</td>\n",
              "      <td>NaN</td>\n",
              "      <td>NaN</td>\n",
              "      <td>NaN</td>\n",
              "      <td>NaN</td>\n",
              "      <td>NaN</td>\n",
              "    </tr>\n",
              "    <tr>\n",
              "      <th>4</th>\n",
              "      <td>TKL</td>\n",
              "      <td>Tokelau</td>\n",
              "      <td>EAP</td>\n",
              "      <td>EAP</td>\n",
              "      <td>Not Classified</td>\n",
              "      <td>NaN</td>\n",
              "      <td>NaN</td>\n",
              "      <td>NaN</td>\n",
              "      <td>NaN</td>\n",
              "      <td>NaN</td>\n",
              "      <td>NaN</td>\n",
              "    </tr>\n",
              "    <tr>\n",
              "      <th>5</th>\n",
              "      <td>TCA</td>\n",
              "      <td>Turks and Caicos Islands</td>\n",
              "      <td>LAC</td>\n",
              "      <td>LAC</td>\n",
              "      <td>Not Classified</td>\n",
              "      <td>NaN</td>\n",
              "      <td>NaN</td>\n",
              "      <td>NaN</td>\n",
              "      <td>NaN</td>\n",
              "      <td>NaN</td>\n",
              "      <td>NaN</td>\n",
              "    </tr>\n",
              "  </tbody>\n",
              "</table>\n",
              "</div>"
            ],
            "text/plain": [
              "  ISO3       Countries and areas Region Sub-region Development Regions  \\\n",
              "0  AIA                  Anguilla    LAC        LAC      Not Classified   \n",
              "1  VGB    British Virgin Islands    LAC        LAC      Not Classified   \n",
              "2  VAT                  Holy See    ECA         WE      Not Classified   \n",
              "3  MSR                Montserrat    LAC        LAC      Not Classified   \n",
              "4  TKL                   Tokelau    EAP        EAP      Not Classified   \n",
              "5  TCA  Turks and Caicos Islands    LAC        LAC      Not Classified   \n",
              "\n",
              "   Youth_Literacy_Rate_Female  Youth_Literacy_Rate_Male  \\\n",
              "0                         NaN                       NaN   \n",
              "1                         NaN                       NaN   \n",
              "2                         NaN                       NaN   \n",
              "3                         NaN                       NaN   \n",
              "4                         NaN                       NaN   \n",
              "5                         NaN                       NaN   \n",
              "\n",
              "   Youth_Literacy_Rate_Total  Adult_Literacy_Rate_Female  \\\n",
              "0                        NaN                         NaN   \n",
              "1                        NaN                         NaN   \n",
              "2                        NaN                         NaN   \n",
              "3                        NaN                         NaN   \n",
              "4                        NaN                         NaN   \n",
              "5                        NaN                         NaN   \n",
              "\n",
              "   Adult_Literacy_Rate_Male  Adult_Literacy_Rate_Total  \n",
              "0                       NaN                        NaN  \n",
              "1                       NaN                        NaN  \n",
              "2                       NaN                        NaN  \n",
              "3                       NaN                        NaN  \n",
              "4                       NaN                        NaN  \n",
              "5                       NaN                        NaN  "
            ]
          },
          "execution_count": 82,
          "metadata": {},
          "output_type": "execute_result"
        }
      ],
      "source": [
        "unclassified_countries.head(6)"
      ]
    },
    {
      "cell_type": "code",
      "execution_count": 83,
      "id": "55d43acd",
      "metadata": {
        "id": "55d43acd",
        "outputId": "0f613279-bfaf-4103-9737-82c1c2f23efc"
      },
      "outputs": [
        {
          "name": "stdout",
          "output_type": "stream",
          "text": [
            "No. of least developed countries:  47\n",
            "No. of leass developed countries:  99\n",
            "No. of more developed countries:  50\n",
            "No. of unclassified countries:  6\n",
            "Total:  202\n"
          ]
        }
      ],
      "source": [
        "# indentify no. of countries in each straturm\n",
        "print('No. of least developed countries: ', least_developed_countries.shape[0])\n",
        "print('No. of leass developed countries: ', less_developed_countries.shape[0])\n",
        "print('No. of more developed countries: ', more_developed_countries.shape[0])\n",
        "print('No. of unclassified countries: ', unclassified_countries.shape[0])\n",
        "print(\"Total: \", least_developed_countries.shape[0]+less_developed_countries.shape[0]+more_developed_countries.shape[0]+unclassified_countries.shape[0])"
      ]
    },
    {
      "cell_type": "markdown",
      "id": "0ab6afd5",
      "metadata": {
        "id": "0ab6afd5"
      },
      "source": [
        "Among the different imputation methods, I would like to choose the median value to impute the null values a.k.a \"NAN\". Replacing null values with mean or median of a certain column is very popular in imputation. \"The technique, in this instance, replaces the null values with mean, rounded mean, or median values determined for that feature across the whole dataset (in our case, in each group). It is advised to utilize the median rather than the mean when your dataset has a significant number of outliers (Simplilearn, 2023).\"\n",
        "\n",
        "<b>Ref:</b> https://www.simplilearn.com/data-imputation-article"
      ]
    },
    {
      "cell_type": "code",
      "execution_count": 84,
      "id": "cddf2df5",
      "metadata": {
        "id": "cddf2df5",
        "outputId": "d44d5a24-5c60-4331-b932-9fc937b5363e"
      },
      "outputs": [
        {
          "data": {
            "text/plain": [
              "ISO3                           0\n",
              "Countries and areas            0\n",
              "Region                         0\n",
              "Sub-region                     0\n",
              "Development Regions            0\n",
              "Youth_Literacy_Rate_Female    27\n",
              "Youth_Literacy_Rate_Male      27\n",
              "Youth_Literacy_Rate_Total     27\n",
              "Adult_Literacy_Rate_Female    27\n",
              "Adult_Literacy_Rate_Male      27\n",
              "Adult_Literacy_Rate_Total     27\n",
              "dtype: int64"
            ]
          },
          "execution_count": 84,
          "metadata": {},
          "output_type": "execute_result"
        }
      ],
      "source": [
        "# identify the no. of missing rows in least_developed_countries data frame\n",
        "least_developed_countries.isna().sum()"
      ]
    },
    {
      "cell_type": "code",
      "execution_count": 85,
      "id": "1ef64d95",
      "metadata": {
        "id": "1ef64d95",
        "outputId": "6811992c-bf2f-4ea6-f2d9-bac084bb06fd"
      },
      "outputs": [
        {
          "data": {
            "text/plain": [
              "Youth_Literacy_Rate_Female    79.5\n",
              "Youth_Literacy_Rate_Male      80.0\n",
              "Youth_Literacy_Rate_Total     79.5\n",
              "Adult_Literacy_Rate_Female    58.0\n",
              "Adult_Literacy_Rate_Male      68.5\n",
              "Adult_Literacy_Rate_Total     64.5\n",
              "dtype: float64"
            ]
          },
          "execution_count": 85,
          "metadata": {},
          "output_type": "execute_result"
        }
      ],
      "source": [
        "# identify median for each columns in least_developed_countries data frame\n",
        "least_developed_countries.median(numeric_only=True)"
      ]
    },
    {
      "cell_type": "code",
      "execution_count": 86,
      "id": "8e5b103a",
      "metadata": {
        "id": "8e5b103a"
      },
      "outputs": [],
      "source": [
        "# median imputation\n",
        "least_developed_countries = least_developed_countries.fillna(least_developed_countries.median(numeric_only=True))"
      ]
    },
    {
      "cell_type": "code",
      "execution_count": 87,
      "id": "b362f0bc",
      "metadata": {
        "id": "b362f0bc",
        "outputId": "fd48a891-a1a9-4454-f668-48152094718a"
      },
      "outputs": [
        {
          "data": {
            "text/html": [
              "<div>\n",
              "<style scoped>\n",
              "    .dataframe tbody tr th:only-of-type {\n",
              "        vertical-align: middle;\n",
              "    }\n",
              "\n",
              "    .dataframe tbody tr th {\n",
              "        vertical-align: top;\n",
              "    }\n",
              "\n",
              "    .dataframe thead th {\n",
              "        text-align: right;\n",
              "    }\n",
              "</style>\n",
              "<table border=\"1\" class=\"dataframe\">\n",
              "  <thead>\n",
              "    <tr style=\"text-align: right;\">\n",
              "      <th></th>\n",
              "      <th>ISO3</th>\n",
              "      <th>Countries and areas</th>\n",
              "      <th>Region</th>\n",
              "      <th>Sub-region</th>\n",
              "      <th>Development Regions</th>\n",
              "      <th>Youth_Literacy_Rate_Female</th>\n",
              "      <th>Youth_Literacy_Rate_Male</th>\n",
              "      <th>Youth_Literacy_Rate_Total</th>\n",
              "      <th>Adult_Literacy_Rate_Female</th>\n",
              "      <th>Adult_Literacy_Rate_Male</th>\n",
              "      <th>Adult_Literacy_Rate_Total</th>\n",
              "    </tr>\n",
              "  </thead>\n",
              "  <tbody>\n",
              "    <tr>\n",
              "      <th>0</th>\n",
              "      <td>AFG</td>\n",
              "      <td>Afghanistan</td>\n",
              "      <td>SA</td>\n",
              "      <td>SA</td>\n",
              "      <td>Least Developed</td>\n",
              "      <td>56.0</td>\n",
              "      <td>74.0</td>\n",
              "      <td>65.0</td>\n",
              "      <td>30.0</td>\n",
              "      <td>55.0</td>\n",
              "      <td>43.0</td>\n",
              "    </tr>\n",
              "    <tr>\n",
              "      <th>1</th>\n",
              "      <td>AGO</td>\n",
              "      <td>Angola</td>\n",
              "      <td>SSA</td>\n",
              "      <td>ESA</td>\n",
              "      <td>Least Developed</td>\n",
              "      <td>79.5</td>\n",
              "      <td>80.0</td>\n",
              "      <td>79.5</td>\n",
              "      <td>58.0</td>\n",
              "      <td>68.5</td>\n",
              "      <td>64.5</td>\n",
              "    </tr>\n",
              "    <tr>\n",
              "      <th>2</th>\n",
              "      <td>BGD</td>\n",
              "      <td>Bangladesh</td>\n",
              "      <td>SA</td>\n",
              "      <td>SA</td>\n",
              "      <td>Least Developed</td>\n",
              "      <td>96.0</td>\n",
              "      <td>94.0</td>\n",
              "      <td>95.0</td>\n",
              "      <td>72.0</td>\n",
              "      <td>77.0</td>\n",
              "      <td>75.0</td>\n",
              "    </tr>\n",
              "    <tr>\n",
              "      <th>3</th>\n",
              "      <td>BEN</td>\n",
              "      <td>Benin</td>\n",
              "      <td>SSA</td>\n",
              "      <td>WCA</td>\n",
              "      <td>Least Developed</td>\n",
              "      <td>52.0</td>\n",
              "      <td>70.0</td>\n",
              "      <td>61.0</td>\n",
              "      <td>31.0</td>\n",
              "      <td>54.0</td>\n",
              "      <td>42.0</td>\n",
              "    </tr>\n",
              "    <tr>\n",
              "      <th>4</th>\n",
              "      <td>BTN</td>\n",
              "      <td>Bhutan</td>\n",
              "      <td>SA</td>\n",
              "      <td>SA</td>\n",
              "      <td>Least Developed</td>\n",
              "      <td>79.5</td>\n",
              "      <td>80.0</td>\n",
              "      <td>79.5</td>\n",
              "      <td>58.0</td>\n",
              "      <td>68.5</td>\n",
              "      <td>64.5</td>\n",
              "    </tr>\n",
              "  </tbody>\n",
              "</table>\n",
              "</div>"
            ],
            "text/plain": [
              "  ISO3 Countries and areas Region Sub-region Development Regions  \\\n",
              "0  AFG         Afghanistan     SA         SA     Least Developed   \n",
              "1  AGO              Angola    SSA        ESA     Least Developed   \n",
              "2  BGD          Bangladesh     SA         SA     Least Developed   \n",
              "3  BEN               Benin    SSA        WCA     Least Developed   \n",
              "4  BTN              Bhutan     SA         SA     Least Developed   \n",
              "\n",
              "   Youth_Literacy_Rate_Female  Youth_Literacy_Rate_Male  \\\n",
              "0                        56.0                      74.0   \n",
              "1                        79.5                      80.0   \n",
              "2                        96.0                      94.0   \n",
              "3                        52.0                      70.0   \n",
              "4                        79.5                      80.0   \n",
              "\n",
              "   Youth_Literacy_Rate_Total  Adult_Literacy_Rate_Female  \\\n",
              "0                       65.0                        30.0   \n",
              "1                       79.5                        58.0   \n",
              "2                       95.0                        72.0   \n",
              "3                       61.0                        31.0   \n",
              "4                       79.5                        58.0   \n",
              "\n",
              "   Adult_Literacy_Rate_Male  Adult_Literacy_Rate_Total  \n",
              "0                      55.0                       43.0  \n",
              "1                      68.5                       64.5  \n",
              "2                      77.0                       75.0  \n",
              "3                      54.0                       42.0  \n",
              "4                      68.5                       64.5  "
            ]
          },
          "execution_count": 87,
          "metadata": {},
          "output_type": "execute_result"
        }
      ],
      "source": [
        "# check the imputation\n",
        "least_developed_countries.head(5)"
      ]
    },
    {
      "cell_type": "code",
      "execution_count": 88,
      "id": "00432845",
      "metadata": {
        "id": "00432845",
        "outputId": "bbbe399c-4251-4bba-d225-f5bac03cab79"
      },
      "outputs": [
        {
          "data": {
            "image/png": "[encoded data removed]",
            "text/plain": [
              "<Figure size 1200x1000 with 6 Axes>"
            ]
          },
          "metadata": {},
          "output_type": "display_data"
        }
      ],
      "source": [
        "# plot the histogram\n",
        "# define the columns for histograms\n",
        "columns_to_visualize = ['Youth_Literacy_Rate_Female',\n",
        "                        'Adult_Literacy_Rate_Female',\n",
        "                        'Youth_Literacy_Rate_Male',\n",
        "                        'Adult_Literacy_Rate_Male',\n",
        "                        'Youth_Literacy_Rate_Total',\n",
        "                        'Adult_Literacy_Rate_Total']\n",
        "\n",
        "# create a figure with multiple subplots\n",
        "fig, axes = plt.subplots(nrows=3, ncols=2, figsize=(12, 10))\n",
        "\n",
        "# iterate over each column and draw the corresponding histogram\n",
        "for i, column in enumerate(columns_to_visualize):\n",
        "\n",
        "    # compute the subplot index for the current column\n",
        "    row_index = i // 2  # integer division to get the row index\n",
        "    col_index = i % 2   # modulus operator to get the column index\n",
        "\n",
        "    # plot the histogram\n",
        "    axes[row_index, col_index].hist(least_developed_countries[column], bins=10, color='skyblue', edgecolor='black')\n",
        "\n",
        "    # add labels and title\n",
        "    axes[row_index, col_index].set_xlabel(column)\n",
        "    axes[row_index, col_index].set_ylabel('Frequency')\n",
        "    axes[row_index, col_index].set_title('Histogram of ' + column)\n",
        "\n",
        "# adjust layout\n",
        "plt.tight_layout()\n",
        "\n",
        "# show the plot\n",
        "plt.show()"
      ]
    },
    {
      "cell_type": "code",
      "execution_count": 89,
      "id": "1fb4f844",
      "metadata": {
        "id": "1fb4f844",
        "outputId": "4579d7c2-6020-4970-a352-20c92e529542"
      },
      "outputs": [
        {
          "data": {
            "text/plain": [
              "ISO3                           0\n",
              "Countries and areas            0\n",
              "Region                         0\n",
              "Sub-region                     0\n",
              "Development Regions            0\n",
              "Youth_Literacy_Rate_Female    53\n",
              "Youth_Literacy_Rate_Male      53\n",
              "Youth_Literacy_Rate_Total     53\n",
              "Adult_Literacy_Rate_Female    53\n",
              "Adult_Literacy_Rate_Male      53\n",
              "Adult_Literacy_Rate_Total     53\n",
              "dtype: int64"
            ]
          },
          "execution_count": 89,
          "metadata": {},
          "output_type": "execute_result"
        }
      ],
      "source": [
        "# identify the no. of missing rows in less_developed_countries data frame\n",
        "less_developed_countries.isna().sum()"
      ]
    },
    {
      "cell_type": "code",
      "execution_count": 90,
      "id": "258d29d1",
      "metadata": {
        "id": "258d29d1",
        "outputId": "22a5b9be-f93d-4e08-9854-1b5568e63b07"
      },
      "outputs": [
        {
          "data": {
            "text/plain": [
              "Youth_Literacy_Rate_Female    99.0\n",
              "Youth_Literacy_Rate_Male      99.0\n",
              "Youth_Literacy_Rate_Total     99.0\n",
              "Adult_Literacy_Rate_Female    94.0\n",
              "Adult_Literacy_Rate_Male      96.0\n",
              "Adult_Literacy_Rate_Total     95.0\n",
              "dtype: float64"
            ]
          },
          "execution_count": 90,
          "metadata": {},
          "output_type": "execute_result"
        }
      ],
      "source": [
        "# identify median for each columns in less_developed_countries data frame\n",
        "less_developed_countries.median(numeric_only=True)"
      ]
    },
    {
      "cell_type": "code",
      "execution_count": 91,
      "id": "ce3fa0d5",
      "metadata": {
        "id": "ce3fa0d5"
      },
      "outputs": [],
      "source": [
        "# median imputation\n",
        "less_developed_countries = less_developed_countries.fillna(less_developed_countries.median(numeric_only=True))"
      ]
    },
    {
      "cell_type": "code",
      "execution_count": 92,
      "id": "a3b87d73",
      "metadata": {
        "id": "a3b87d73",
        "outputId": "ada9039c-6e70-431b-b7a0-5159f91b75b7"
      },
      "outputs": [
        {
          "data": {
            "text/html": [
              "<div>\n",
              "<style scoped>\n",
              "    .dataframe tbody tr th:only-of-type {\n",
              "        vertical-align: middle;\n",
              "    }\n",
              "\n",
              "    .dataframe tbody tr th {\n",
              "        vertical-align: top;\n",
              "    }\n",
              "\n",
              "    .dataframe thead th {\n",
              "        text-align: right;\n",
              "    }\n",
              "</style>\n",
              "<table border=\"1\" class=\"dataframe\">\n",
              "  <thead>\n",
              "    <tr style=\"text-align: right;\">\n",
              "      <th></th>\n",
              "      <th>ISO3</th>\n",
              "      <th>Countries and areas</th>\n",
              "      <th>Region</th>\n",
              "      <th>Sub-region</th>\n",
              "      <th>Development Regions</th>\n",
              "      <th>Youth_Literacy_Rate_Female</th>\n",
              "      <th>Youth_Literacy_Rate_Male</th>\n",
              "      <th>Youth_Literacy_Rate_Total</th>\n",
              "      <th>Adult_Literacy_Rate_Female</th>\n",
              "      <th>Adult_Literacy_Rate_Male</th>\n",
              "      <th>Adult_Literacy_Rate_Total</th>\n",
              "    </tr>\n",
              "  </thead>\n",
              "  <tbody>\n",
              "    <tr>\n",
              "      <th>0</th>\n",
              "      <td>DZA</td>\n",
              "      <td>Algeria</td>\n",
              "      <td>MENA</td>\n",
              "      <td>MENA</td>\n",
              "      <td>Less Developed</td>\n",
              "      <td>97.0</td>\n",
              "      <td>98.0</td>\n",
              "      <td>97.0</td>\n",
              "      <td>75.0</td>\n",
              "      <td>87.0</td>\n",
              "      <td>81.0</td>\n",
              "    </tr>\n",
              "    <tr>\n",
              "      <th>1</th>\n",
              "      <td>ATG</td>\n",
              "      <td>Antigua and Barbuda</td>\n",
              "      <td>LAC</td>\n",
              "      <td>LAC</td>\n",
              "      <td>Less Developed</td>\n",
              "      <td>99.0</td>\n",
              "      <td>99.0</td>\n",
              "      <td>99.0</td>\n",
              "      <td>94.0</td>\n",
              "      <td>96.0</td>\n",
              "      <td>95.0</td>\n",
              "    </tr>\n",
              "    <tr>\n",
              "      <th>2</th>\n",
              "      <td>ARG</td>\n",
              "      <td>Argentina</td>\n",
              "      <td>LAC</td>\n",
              "      <td>LAC</td>\n",
              "      <td>Less Developed</td>\n",
              "      <td>100.0</td>\n",
              "      <td>99.0</td>\n",
              "      <td>100.0</td>\n",
              "      <td>99.0</td>\n",
              "      <td>99.0</td>\n",
              "      <td>99.0</td>\n",
              "    </tr>\n",
              "    <tr>\n",
              "      <th>3</th>\n",
              "      <td>ARM</td>\n",
              "      <td>Armenia</td>\n",
              "      <td>ECA</td>\n",
              "      <td>EECA</td>\n",
              "      <td>Less Developed</td>\n",
              "      <td>99.0</td>\n",
              "      <td>99.0</td>\n",
              "      <td>99.0</td>\n",
              "      <td>94.0</td>\n",
              "      <td>96.0</td>\n",
              "      <td>95.0</td>\n",
              "    </tr>\n",
              "    <tr>\n",
              "      <th>4</th>\n",
              "      <td>AZE</td>\n",
              "      <td>Azerbaijan</td>\n",
              "      <td>ECA</td>\n",
              "      <td>EECA</td>\n",
              "      <td>Less Developed</td>\n",
              "      <td>99.0</td>\n",
              "      <td>99.0</td>\n",
              "      <td>99.0</td>\n",
              "      <td>94.0</td>\n",
              "      <td>96.0</td>\n",
              "      <td>95.0</td>\n",
              "    </tr>\n",
              "  </tbody>\n",
              "</table>\n",
              "</div>"
            ],
            "text/plain": [
              "  ISO3  Countries and areas Region Sub-region Development Regions  \\\n",
              "0  DZA              Algeria   MENA       MENA      Less Developed   \n",
              "1  ATG  Antigua and Barbuda    LAC        LAC      Less Developed   \n",
              "2  ARG            Argentina    LAC        LAC      Less Developed   \n",
              "3  ARM              Armenia    ECA       EECA      Less Developed   \n",
              "4  AZE           Azerbaijan    ECA       EECA      Less Developed   \n",
              "\n",
              "   Youth_Literacy_Rate_Female  Youth_Literacy_Rate_Male  \\\n",
              "0                        97.0                      98.0   \n",
              "1                        99.0                      99.0   \n",
              "2                       100.0                      99.0   \n",
              "3                        99.0                      99.0   \n",
              "4                        99.0                      99.0   \n",
              "\n",
              "   Youth_Literacy_Rate_Total  Adult_Literacy_Rate_Female  \\\n",
              "0                       97.0                        75.0   \n",
              "1                       99.0                        94.0   \n",
              "2                      100.0                        99.0   \n",
              "3                       99.0                        94.0   \n",
              "4                       99.0                        94.0   \n",
              "\n",
              "   Adult_Literacy_Rate_Male  Adult_Literacy_Rate_Total  \n",
              "0                      87.0                       81.0  \n",
              "1                      96.0                       95.0  \n",
              "2                      99.0                       99.0  \n",
              "3                      96.0                       95.0  \n",
              "4                      96.0                       95.0  "
            ]
          },
          "execution_count": 92,
          "metadata": {},
          "output_type": "execute_result"
        }
      ],
      "source": [
        "# check the imputation\n",
        "less_developed_countries.head(5)"
      ]
    },
    {
      "cell_type": "code",
      "execution_count": 93,
      "id": "d16ed258",
      "metadata": {
        "id": "d16ed258",
        "outputId": "c2fd9e07-9cc6-43ea-951e-3701fdabfe7c"
      },
      "outputs": [
        {
          "data": {
            "image/png": "[encoded data removed]",
            "text/plain": [
              "<Figure size 1200x1000 with 6 Axes>"
            ]
          },
          "metadata": {},
          "output_type": "display_data"
        }
      ],
      "source": [
        "# plot the histogram\n",
        "# define the columns for histograms\n",
        "columns_to_visualize = ['Youth_Literacy_Rate_Female',\n",
        "                        'Adult_Literacy_Rate_Female',\n",
        "                        'Youth_Literacy_Rate_Male',\n",
        "                        'Adult_Literacy_Rate_Male',\n",
        "                        'Youth_Literacy_Rate_Total',\n",
        "                        'Adult_Literacy_Rate_Total']\n",
        "\n",
        "# create a figure with multiple subplots\n",
        "fig, axes = plt.subplots(nrows=3, ncols=2, figsize=(12, 10))\n",
        "\n",
        "# set the title for the entire figure\n",
        "fig.suptitle('Histograms of Literacy Rates In Less Developed Countries', fontsize=16)\n",
        "\n",
        "# iterate over each column and draw the corresponding histogram\n",
        "for i, column in enumerate(columns_to_visualize):\n",
        "\n",
        "    # compute the subplot index for the current column\n",
        "    row_index = i // 2  # integer division to get the row index\n",
        "    col_index = i % 2   # modulus operator to get the column index\n",
        "\n",
        "    # plot the histogram\n",
        "    axes[row_index, col_index].hist(less_developed_countries[column], bins=10, color='skyblue', edgecolor='black')\n",
        "\n",
        "    # add labels and title\n",
        "    axes[row_index, col_index].set_xlabel(column)\n",
        "    axes[row_index, col_index].set_ylabel('Frequency')\n",
        "    axes[row_index, col_index].set_title('Histogram of ' + column)\n",
        "\n",
        "# adjust layout\n",
        "plt.tight_layout()\n",
        "\n",
        "# show the plot\n",
        "plt.show()"
      ]
    },
    {
      "cell_type": "code",
      "execution_count": 94,
      "id": "c2faa757",
      "metadata": {
        "id": "c2faa757",
        "outputId": "962f8417-369b-483d-8f47-9b8fd9da45af"
      },
      "outputs": [
        {
          "data": {
            "text/plain": [
              "ISO3                           0\n",
              "Countries and areas            0\n",
              "Region                         0\n",
              "Sub-region                     0\n",
              "Development Regions            0\n",
              "Youth_Literacy_Rate_Female    38\n",
              "Youth_Literacy_Rate_Male      38\n",
              "Youth_Literacy_Rate_Total     38\n",
              "Adult_Literacy_Rate_Female    38\n",
              "Adult_Literacy_Rate_Male      38\n",
              "Adult_Literacy_Rate_Total     38\n",
              "dtype: int64"
            ]
          },
          "execution_count": 94,
          "metadata": {},
          "output_type": "execute_result"
        }
      ],
      "source": [
        "# identify the no. of missing rows in more_developed_countries data frame\n",
        "more_developed_countries.isna().sum()"
      ]
    },
    {
      "cell_type": "code",
      "execution_count": 95,
      "id": "c2582a85",
      "metadata": {
        "id": "c2582a85",
        "outputId": "f4aa58b5-969c-4566-81d7-7e2d1961b56f"
      },
      "outputs": [
        {
          "data": {
            "text/plain": [
              "Youth_Literacy_Rate_Female    100.0\n",
              "Youth_Literacy_Rate_Male      100.0\n",
              "Youth_Literacy_Rate_Total     100.0\n",
              "Adult_Literacy_Rate_Female     98.5\n",
              "Adult_Literacy_Rate_Male       99.0\n",
              "Adult_Literacy_Rate_Total      99.0\n",
              "dtype: float64"
            ]
          },
          "execution_count": 95,
          "metadata": {},
          "output_type": "execute_result"
        }
      ],
      "source": [
        "# identify median for each columns in more_developed_countries data frame\n",
        "more_developed_countries.median(numeric_only=True)"
      ]
    },
    {
      "cell_type": "code",
      "execution_count": 96,
      "id": "0800419e",
      "metadata": {
        "id": "0800419e"
      },
      "outputs": [],
      "source": [
        "# median imputation\n",
        "more_developed_countries = more_developed_countries.fillna(more_developed_countries.median(numeric_only=True))"
      ]
    },
    {
      "cell_type": "code",
      "execution_count": 97,
      "id": "9843c010",
      "metadata": {
        "id": "9843c010",
        "outputId": "30cfa519-d982-45b2-b0b3-ab0a28e774a5"
      },
      "outputs": [
        {
          "data": {
            "text/html": [
              "<div>\n",
              "<style scoped>\n",
              "    .dataframe tbody tr th:only-of-type {\n",
              "        vertical-align: middle;\n",
              "    }\n",
              "\n",
              "    .dataframe tbody tr th {\n",
              "        vertical-align: top;\n",
              "    }\n",
              "\n",
              "    .dataframe thead th {\n",
              "        text-align: right;\n",
              "    }\n",
              "</style>\n",
              "<table border=\"1\" class=\"dataframe\">\n",
              "  <thead>\n",
              "    <tr style=\"text-align: right;\">\n",
              "      <th></th>\n",
              "      <th>ISO3</th>\n",
              "      <th>Countries and areas</th>\n",
              "      <th>Region</th>\n",
              "      <th>Sub-region</th>\n",
              "      <th>Development Regions</th>\n",
              "      <th>Youth_Literacy_Rate_Female</th>\n",
              "      <th>Youth_Literacy_Rate_Male</th>\n",
              "      <th>Youth_Literacy_Rate_Total</th>\n",
              "      <th>Adult_Literacy_Rate_Female</th>\n",
              "      <th>Adult_Literacy_Rate_Male</th>\n",
              "      <th>Adult_Literacy_Rate_Total</th>\n",
              "    </tr>\n",
              "  </thead>\n",
              "  <tbody>\n",
              "    <tr>\n",
              "      <th>0</th>\n",
              "      <td>ALB</td>\n",
              "      <td>Albania</td>\n",
              "      <td>ECA</td>\n",
              "      <td>EECA</td>\n",
              "      <td>More Developed</td>\n",
              "      <td>100.0</td>\n",
              "      <td>99.0</td>\n",
              "      <td>99.0</td>\n",
              "      <td>98.0</td>\n",
              "      <td>99.0</td>\n",
              "      <td>98.0</td>\n",
              "    </tr>\n",
              "    <tr>\n",
              "      <th>1</th>\n",
              "      <td>AND</td>\n",
              "      <td>Andorra</td>\n",
              "      <td>ECA</td>\n",
              "      <td>WE</td>\n",
              "      <td>More Developed</td>\n",
              "      <td>100.0</td>\n",
              "      <td>100.0</td>\n",
              "      <td>100.0</td>\n",
              "      <td>98.5</td>\n",
              "      <td>99.0</td>\n",
              "      <td>99.0</td>\n",
              "    </tr>\n",
              "    <tr>\n",
              "      <th>2</th>\n",
              "      <td>AUS</td>\n",
              "      <td>Australia</td>\n",
              "      <td>EAP</td>\n",
              "      <td>EAP</td>\n",
              "      <td>More Developed</td>\n",
              "      <td>100.0</td>\n",
              "      <td>100.0</td>\n",
              "      <td>100.0</td>\n",
              "      <td>98.5</td>\n",
              "      <td>99.0</td>\n",
              "      <td>99.0</td>\n",
              "    </tr>\n",
              "    <tr>\n",
              "      <th>3</th>\n",
              "      <td>AUT</td>\n",
              "      <td>Austria</td>\n",
              "      <td>ECA</td>\n",
              "      <td>WE</td>\n",
              "      <td>More Developed</td>\n",
              "      <td>100.0</td>\n",
              "      <td>100.0</td>\n",
              "      <td>100.0</td>\n",
              "      <td>98.5</td>\n",
              "      <td>99.0</td>\n",
              "      <td>99.0</td>\n",
              "    </tr>\n",
              "    <tr>\n",
              "      <th>4</th>\n",
              "      <td>BLR</td>\n",
              "      <td>Belarus</td>\n",
              "      <td>ECA</td>\n",
              "      <td>EECA</td>\n",
              "      <td>More Developed</td>\n",
              "      <td>100.0</td>\n",
              "      <td>100.0</td>\n",
              "      <td>100.0</td>\n",
              "      <td>100.0</td>\n",
              "      <td>100.0</td>\n",
              "      <td>100.0</td>\n",
              "    </tr>\n",
              "  </tbody>\n",
              "</table>\n",
              "</div>"
            ],
            "text/plain": [
              "  ISO3 Countries and areas Region Sub-region Development Regions  \\\n",
              "0  ALB             Albania    ECA       EECA      More Developed   \n",
              "1  AND             Andorra    ECA         WE      More Developed   \n",
              "2  AUS           Australia    EAP        EAP      More Developed   \n",
              "3  AUT             Austria    ECA         WE      More Developed   \n",
              "4  BLR             Belarus    ECA       EECA      More Developed   \n",
              "\n",
              "   Youth_Literacy_Rate_Female  Youth_Literacy_Rate_Male  \\\n",
              "0                       100.0                      99.0   \n",
              "1                       100.0                     100.0   \n",
              "2                       100.0                     100.0   \n",
              "3                       100.0                     100.0   \n",
              "4                       100.0                     100.0   \n",
              "\n",
              "   Youth_Literacy_Rate_Total  Adult_Literacy_Rate_Female  \\\n",
              "0                       99.0                        98.0   \n",
              "1                      100.0                        98.5   \n",
              "2                      100.0                        98.5   \n",
              "3                      100.0                        98.5   \n",
              "4                      100.0                       100.0   \n",
              "\n",
              "   Adult_Literacy_Rate_Male  Adult_Literacy_Rate_Total  \n",
              "0                      99.0                       98.0  \n",
              "1                      99.0                       99.0  \n",
              "2                      99.0                       99.0  \n",
              "3                      99.0                       99.0  \n",
              "4                     100.0                      100.0  "
            ]
          },
          "execution_count": 97,
          "metadata": {},
          "output_type": "execute_result"
        }
      ],
      "source": [
        "# check the imputation\n",
        "more_developed_countries.head(5)"
      ]
    },
    {
      "cell_type": "code",
      "execution_count": 98,
      "id": "41b61779",
      "metadata": {
        "id": "41b61779",
        "outputId": "aff3a2fe-29dc-42ab-97e4-5170d3f4f97c"
      },
      "outputs": [
        {
          "data": {
            "image/png": "[encoded data removed]",
            "text/plain": [
              "<Figure size 1200x1000 with 6 Axes>"
            ]
          },
          "metadata": {},
          "output_type": "display_data"
        }
      ],
      "source": [
        "# plot the histogram\n",
        "# define the columns for histograms\n",
        "columns_to_visualize = ['Youth_Literacy_Rate_Female',\n",
        "                        'Adult_Literacy_Rate_Female',\n",
        "                        'Youth_Literacy_Rate_Male',\n",
        "                        'Adult_Literacy_Rate_Male',\n",
        "                        'Youth_Literacy_Rate_Total',\n",
        "                        'Adult_Literacy_Rate_Total']\n",
        "\n",
        "# set the title for the entire figure\n",
        "fig.suptitle('Histograms of Literacy Rates In More Developed Countries', fontsize=16)\n",
        "\n",
        "# create a figure with multiple subplots\n",
        "fig, axes = plt.subplots(nrows=3, ncols=2, figsize=(12, 10))\n",
        "\n",
        "# iterate over each column and draw the corresponding histogram\n",
        "for i, column in enumerate(columns_to_visualize):\n",
        "\n",
        "    # compute the subplot index for the current column\n",
        "    row_index = i // 2  # integer division to get the row index\n",
        "    col_index = i % 2   # modulus operator to get the column index\n",
        "\n",
        "    # plot the histogram\n",
        "    axes[row_index, col_index].hist(more_developed_countries[column], bins=10, color='skyblue', edgecolor='black')\n",
        "\n",
        "    # add labels and title\n",
        "    axes[row_index, col_index].set_xlabel(column)\n",
        "    axes[row_index, col_index].set_ylabel('Frequency')\n",
        "    axes[row_index, col_index].set_title('Histogram of ' + column)\n",
        "\n",
        "# adjust layout\n",
        "plt.tight_layout()\n",
        "\n",
        "# show the plot\n",
        "plt.show()"
      ]
    },
    {
      "cell_type": "code",
      "execution_count": 99,
      "id": "d383718b",
      "metadata": {
        "id": "d383718b",
        "outputId": "691ea9d9-0434-421d-d6e2-b50aa4501449"
      },
      "outputs": [
        {
          "data": {
            "text/html": [
              "<div>\n",
              "<style scoped>\n",
              "    .dataframe tbody tr th:only-of-type {\n",
              "        vertical-align: middle;\n",
              "    }\n",
              "\n",
              "    .dataframe tbody tr th {\n",
              "        vertical-align: top;\n",
              "    }\n",
              "\n",
              "    .dataframe thead th {\n",
              "        text-align: right;\n",
              "    }\n",
              "</style>\n",
              "<table border=\"1\" class=\"dataframe\">\n",
              "  <thead>\n",
              "    <tr style=\"text-align: right;\">\n",
              "      <th></th>\n",
              "      <th>ISO3</th>\n",
              "      <th>Countries and areas</th>\n",
              "      <th>Region</th>\n",
              "      <th>Sub-region</th>\n",
              "      <th>Development Regions</th>\n",
              "      <th>Youth_Literacy_Rate_Female</th>\n",
              "      <th>Youth_Literacy_Rate_Male</th>\n",
              "      <th>Youth_Literacy_Rate_Total</th>\n",
              "      <th>Adult_Literacy_Rate_Female</th>\n",
              "      <th>Adult_Literacy_Rate_Male</th>\n",
              "      <th>Adult_Literacy_Rate_Total</th>\n",
              "    </tr>\n",
              "  </thead>\n",
              "  <tbody>\n",
              "    <tr>\n",
              "      <th>0</th>\n",
              "      <td>AIA</td>\n",
              "      <td>Anguilla</td>\n",
              "      <td>LAC</td>\n",
              "      <td>LAC</td>\n",
              "      <td>Not Classified</td>\n",
              "      <td>NaN</td>\n",
              "      <td>NaN</td>\n",
              "      <td>NaN</td>\n",
              "      <td>NaN</td>\n",
              "      <td>NaN</td>\n",
              "      <td>NaN</td>\n",
              "    </tr>\n",
              "    <tr>\n",
              "      <th>1</th>\n",
              "      <td>VGB</td>\n",
              "      <td>British Virgin Islands</td>\n",
              "      <td>LAC</td>\n",
              "      <td>LAC</td>\n",
              "      <td>Not Classified</td>\n",
              "      <td>NaN</td>\n",
              "      <td>NaN</td>\n",
              "      <td>NaN</td>\n",
              "      <td>NaN</td>\n",
              "      <td>NaN</td>\n",
              "      <td>NaN</td>\n",
              "    </tr>\n",
              "    <tr>\n",
              "      <th>2</th>\n",
              "      <td>VAT</td>\n",
              "      <td>Holy See</td>\n",
              "      <td>ECA</td>\n",
              "      <td>WE</td>\n",
              "      <td>Not Classified</td>\n",
              "      <td>NaN</td>\n",
              "      <td>NaN</td>\n",
              "      <td>NaN</td>\n",
              "      <td>NaN</td>\n",
              "      <td>NaN</td>\n",
              "      <td>NaN</td>\n",
              "    </tr>\n",
              "    <tr>\n",
              "      <th>3</th>\n",
              "      <td>MSR</td>\n",
              "      <td>Montserrat</td>\n",
              "      <td>LAC</td>\n",
              "      <td>LAC</td>\n",
              "      <td>Not Classified</td>\n",
              "      <td>NaN</td>\n",
              "      <td>NaN</td>\n",
              "      <td>NaN</td>\n",
              "      <td>NaN</td>\n",
              "      <td>NaN</td>\n",
              "      <td>NaN</td>\n",
              "    </tr>\n",
              "    <tr>\n",
              "      <th>4</th>\n",
              "      <td>TKL</td>\n",
              "      <td>Tokelau</td>\n",
              "      <td>EAP</td>\n",
              "      <td>EAP</td>\n",
              "      <td>Not Classified</td>\n",
              "      <td>NaN</td>\n",
              "      <td>NaN</td>\n",
              "      <td>NaN</td>\n",
              "      <td>NaN</td>\n",
              "      <td>NaN</td>\n",
              "      <td>NaN</td>\n",
              "    </tr>\n",
              "    <tr>\n",
              "      <th>5</th>\n",
              "      <td>TCA</td>\n",
              "      <td>Turks and Caicos Islands</td>\n",
              "      <td>LAC</td>\n",
              "      <td>LAC</td>\n",
              "      <td>Not Classified</td>\n",
              "      <td>NaN</td>\n",
              "      <td>NaN</td>\n",
              "      <td>NaN</td>\n",
              "      <td>NaN</td>\n",
              "      <td>NaN</td>\n",
              "      <td>NaN</td>\n",
              "    </tr>\n",
              "  </tbody>\n",
              "</table>\n",
              "</div>"
            ],
            "text/plain": [
              "  ISO3       Countries and areas Region Sub-region Development Regions  \\\n",
              "0  AIA                  Anguilla    LAC        LAC      Not Classified   \n",
              "1  VGB    British Virgin Islands    LAC        LAC      Not Classified   \n",
              "2  VAT                  Holy See    ECA         WE      Not Classified   \n",
              "3  MSR                Montserrat    LAC        LAC      Not Classified   \n",
              "4  TKL                   Tokelau    EAP        EAP      Not Classified   \n",
              "5  TCA  Turks and Caicos Islands    LAC        LAC      Not Classified   \n",
              "\n",
              "   Youth_Literacy_Rate_Female  Youth_Literacy_Rate_Male  \\\n",
              "0                         NaN                       NaN   \n",
              "1                         NaN                       NaN   \n",
              "2                         NaN                       NaN   \n",
              "3                         NaN                       NaN   \n",
              "4                         NaN                       NaN   \n",
              "5                         NaN                       NaN   \n",
              "\n",
              "   Youth_Literacy_Rate_Total  Adult_Literacy_Rate_Female  \\\n",
              "0                        NaN                         NaN   \n",
              "1                        NaN                         NaN   \n",
              "2                        NaN                         NaN   \n",
              "3                        NaN                         NaN   \n",
              "4                        NaN                         NaN   \n",
              "5                        NaN                         NaN   \n",
              "\n",
              "   Adult_Literacy_Rate_Male  Adult_Literacy_Rate_Total  \n",
              "0                       NaN                        NaN  \n",
              "1                       NaN                        NaN  \n",
              "2                       NaN                        NaN  \n",
              "3                       NaN                        NaN  \n",
              "4                       NaN                        NaN  \n",
              "5                       NaN                        NaN  "
            ]
          },
          "execution_count": 99,
          "metadata": {},
          "output_type": "execute_result"
        }
      ],
      "source": [
        "unclassified_countries"
      ]
    },
    {
      "cell_type": "markdown",
      "id": "af8d92e5",
      "metadata": {
        "id": "af8d92e5"
      },
      "source": [
        "Unfortunately, the countires which are not able to classified their economies do not have enough data to proceed stratified imputation."
      ]
    },
    {
      "cell_type": "code",
      "execution_count": 100,
      "id": "e23af1f2",
      "metadata": {
        "id": "e23af1f2"
      },
      "outputs": [],
      "source": [
        "# concatenate all together back to form a full dataframe\n",
        "modified_df = pd.concat([least_developed_countries, less_developed_countries, more_developed_countries, unclassified_countries],\n",
        "                        axis = 0,\n",
        "                       ignore_index = True)"
      ]
    },
    {
      "cell_type": "code",
      "execution_count": 101,
      "id": "a20f6af2",
      "metadata": {
        "id": "a20f6af2",
        "outputId": "332a1cea-3ce5-402d-8098-4d8901c40825"
      },
      "outputs": [
        {
          "data": {
            "text/html": [
              "<div>\n",
              "<style scoped>\n",
              "    .dataframe tbody tr th:only-of-type {\n",
              "        vertical-align: middle;\n",
              "    }\n",
              "\n",
              "    .dataframe tbody tr th {\n",
              "        vertical-align: top;\n",
              "    }\n",
              "\n",
              "    .dataframe thead th {\n",
              "        text-align: right;\n",
              "    }\n",
              "</style>\n",
              "<table border=\"1\" class=\"dataframe\">\n",
              "  <thead>\n",
              "    <tr style=\"text-align: right;\">\n",
              "      <th></th>\n",
              "      <th>ISO3</th>\n",
              "      <th>Countries and areas</th>\n",
              "      <th>Region</th>\n",
              "      <th>Sub-region</th>\n",
              "      <th>Development Regions</th>\n",
              "      <th>Youth_Literacy_Rate_Female</th>\n",
              "      <th>Youth_Literacy_Rate_Male</th>\n",
              "      <th>Youth_Literacy_Rate_Total</th>\n",
              "      <th>Adult_Literacy_Rate_Female</th>\n",
              "      <th>Adult_Literacy_Rate_Male</th>\n",
              "      <th>Adult_Literacy_Rate_Total</th>\n",
              "    </tr>\n",
              "  </thead>\n",
              "  <tbody>\n",
              "    <tr>\n",
              "      <th>0</th>\n",
              "      <td>AFG</td>\n",
              "      <td>Afghanistan</td>\n",
              "      <td>SA</td>\n",
              "      <td>SA</td>\n",
              "      <td>Least Developed</td>\n",
              "      <td>56.0</td>\n",
              "      <td>74.0</td>\n",
              "      <td>65.0</td>\n",
              "      <td>30.0</td>\n",
              "      <td>55.0</td>\n",
              "      <td>43.0</td>\n",
              "    </tr>\n",
              "    <tr>\n",
              "      <th>1</th>\n",
              "      <td>AGO</td>\n",
              "      <td>Angola</td>\n",
              "      <td>SSA</td>\n",
              "      <td>ESA</td>\n",
              "      <td>Least Developed</td>\n",
              "      <td>79.5</td>\n",
              "      <td>80.0</td>\n",
              "      <td>79.5</td>\n",
              "      <td>58.0</td>\n",
              "      <td>68.5</td>\n",
              "      <td>64.5</td>\n",
              "    </tr>\n",
              "    <tr>\n",
              "      <th>2</th>\n",
              "      <td>BGD</td>\n",
              "      <td>Bangladesh</td>\n",
              "      <td>SA</td>\n",
              "      <td>SA</td>\n",
              "      <td>Least Developed</td>\n",
              "      <td>96.0</td>\n",
              "      <td>94.0</td>\n",
              "      <td>95.0</td>\n",
              "      <td>72.0</td>\n",
              "      <td>77.0</td>\n",
              "      <td>75.0</td>\n",
              "    </tr>\n",
              "    <tr>\n",
              "      <th>3</th>\n",
              "      <td>BEN</td>\n",
              "      <td>Benin</td>\n",
              "      <td>SSA</td>\n",
              "      <td>WCA</td>\n",
              "      <td>Least Developed</td>\n",
              "      <td>52.0</td>\n",
              "      <td>70.0</td>\n",
              "      <td>61.0</td>\n",
              "      <td>31.0</td>\n",
              "      <td>54.0</td>\n",
              "      <td>42.0</td>\n",
              "    </tr>\n",
              "    <tr>\n",
              "      <th>4</th>\n",
              "      <td>BTN</td>\n",
              "      <td>Bhutan</td>\n",
              "      <td>SA</td>\n",
              "      <td>SA</td>\n",
              "      <td>Least Developed</td>\n",
              "      <td>79.5</td>\n",
              "      <td>80.0</td>\n",
              "      <td>79.5</td>\n",
              "      <td>58.0</td>\n",
              "      <td>68.5</td>\n",
              "      <td>64.5</td>\n",
              "    </tr>\n",
              "  </tbody>\n",
              "</table>\n",
              "</div>"
            ],
            "text/plain": [
              "  ISO3 Countries and areas Region Sub-region Development Regions  \\\n",
              "0  AFG         Afghanistan     SA         SA     Least Developed   \n",
              "1  AGO              Angola    SSA        ESA     Least Developed   \n",
              "2  BGD          Bangladesh     SA         SA     Least Developed   \n",
              "3  BEN               Benin    SSA        WCA     Least Developed   \n",
              "4  BTN              Bhutan     SA         SA     Least Developed   \n",
              "\n",
              "   Youth_Literacy_Rate_Female  Youth_Literacy_Rate_Male  \\\n",
              "0                        56.0                      74.0   \n",
              "1                        79.5                      80.0   \n",
              "2                        96.0                      94.0   \n",
              "3                        52.0                      70.0   \n",
              "4                        79.5                      80.0   \n",
              "\n",
              "   Youth_Literacy_Rate_Total  Adult_Literacy_Rate_Female  \\\n",
              "0                       65.0                        30.0   \n",
              "1                       79.5                        58.0   \n",
              "2                       95.0                        72.0   \n",
              "3                       61.0                        31.0   \n",
              "4                       79.5                        58.0   \n",
              "\n",
              "   Adult_Literacy_Rate_Male  Adult_Literacy_Rate_Total  \n",
              "0                      55.0                       43.0  \n",
              "1                      68.5                       64.5  \n",
              "2                      77.0                       75.0  \n",
              "3                      54.0                       42.0  \n",
              "4                      68.5                       64.5  "
            ]
          },
          "execution_count": 101,
          "metadata": {},
          "output_type": "execute_result"
        }
      ],
      "source": [
        "# show the first 5 rows\n",
        "modified_df.head(5)"
      ]
    },
    {
      "cell_type": "code",
      "execution_count": 102,
      "id": "aa677e71",
      "metadata": {
        "id": "aa677e71",
        "outputId": "0ab73521-1933-4df7-cabe-48ddf85aeb9c"
      },
      "outputs": [
        {
          "data": {
            "text/html": [
              "<div>\n",
              "<style scoped>\n",
              "    .dataframe tbody tr th:only-of-type {\n",
              "        vertical-align: middle;\n",
              "    }\n",
              "\n",
              "    .dataframe tbody tr th {\n",
              "        vertical-align: top;\n",
              "    }\n",
              "\n",
              "    .dataframe thead th {\n",
              "        text-align: right;\n",
              "    }\n",
              "</style>\n",
              "<table border=\"1\" class=\"dataframe\">\n",
              "  <thead>\n",
              "    <tr style=\"text-align: right;\">\n",
              "      <th></th>\n",
              "      <th>ISO3</th>\n",
              "      <th>Countries and areas</th>\n",
              "      <th>Region</th>\n",
              "      <th>Sub-region</th>\n",
              "      <th>Development Regions</th>\n",
              "      <th>Youth_Literacy_Rate_Female</th>\n",
              "      <th>Youth_Literacy_Rate_Male</th>\n",
              "      <th>Youth_Literacy_Rate_Total</th>\n",
              "      <th>Adult_Literacy_Rate_Female</th>\n",
              "      <th>Adult_Literacy_Rate_Male</th>\n",
              "      <th>Adult_Literacy_Rate_Total</th>\n",
              "    </tr>\n",
              "  </thead>\n",
              "  <tbody>\n",
              "    <tr>\n",
              "      <th>195</th>\n",
              "      <td>USA</td>\n",
              "      <td>United States</td>\n",
              "      <td>NA</td>\n",
              "      <td>NA</td>\n",
              "      <td>More Developed</td>\n",
              "      <td>100.0</td>\n",
              "      <td>100.0</td>\n",
              "      <td>100.0</td>\n",
              "      <td>98.5</td>\n",
              "      <td>99.0</td>\n",
              "      <td>99.0</td>\n",
              "    </tr>\n",
              "    <tr>\n",
              "      <th>196</th>\n",
              "      <td>AIA</td>\n",
              "      <td>Anguilla</td>\n",
              "      <td>LAC</td>\n",
              "      <td>LAC</td>\n",
              "      <td>Not Classified</td>\n",
              "      <td>NaN</td>\n",
              "      <td>NaN</td>\n",
              "      <td>NaN</td>\n",
              "      <td>NaN</td>\n",
              "      <td>NaN</td>\n",
              "      <td>NaN</td>\n",
              "    </tr>\n",
              "    <tr>\n",
              "      <th>197</th>\n",
              "      <td>VGB</td>\n",
              "      <td>British Virgin Islands</td>\n",
              "      <td>LAC</td>\n",
              "      <td>LAC</td>\n",
              "      <td>Not Classified</td>\n",
              "      <td>NaN</td>\n",
              "      <td>NaN</td>\n",
              "      <td>NaN</td>\n",
              "      <td>NaN</td>\n",
              "      <td>NaN</td>\n",
              "      <td>NaN</td>\n",
              "    </tr>\n",
              "    <tr>\n",
              "      <th>198</th>\n",
              "      <td>VAT</td>\n",
              "      <td>Holy See</td>\n",
              "      <td>ECA</td>\n",
              "      <td>WE</td>\n",
              "      <td>Not Classified</td>\n",
              "      <td>NaN</td>\n",
              "      <td>NaN</td>\n",
              "      <td>NaN</td>\n",
              "      <td>NaN</td>\n",
              "      <td>NaN</td>\n",
              "      <td>NaN</td>\n",
              "    </tr>\n",
              "    <tr>\n",
              "      <th>199</th>\n",
              "      <td>MSR</td>\n",
              "      <td>Montserrat</td>\n",
              "      <td>LAC</td>\n",
              "      <td>LAC</td>\n",
              "      <td>Not Classified</td>\n",
              "      <td>NaN</td>\n",
              "      <td>NaN</td>\n",
              "      <td>NaN</td>\n",
              "      <td>NaN</td>\n",
              "      <td>NaN</td>\n",
              "      <td>NaN</td>\n",
              "    </tr>\n",
              "    <tr>\n",
              "      <th>200</th>\n",
              "      <td>TKL</td>\n",
              "      <td>Tokelau</td>\n",
              "      <td>EAP</td>\n",
              "      <td>EAP</td>\n",
              "      <td>Not Classified</td>\n",
              "      <td>NaN</td>\n",
              "      <td>NaN</td>\n",
              "      <td>NaN</td>\n",
              "      <td>NaN</td>\n",
              "      <td>NaN</td>\n",
              "      <td>NaN</td>\n",
              "    </tr>\n",
              "    <tr>\n",
              "      <th>201</th>\n",
              "      <td>TCA</td>\n",
              "      <td>Turks and Caicos Islands</td>\n",
              "      <td>LAC</td>\n",
              "      <td>LAC</td>\n",
              "      <td>Not Classified</td>\n",
              "      <td>NaN</td>\n",
              "      <td>NaN</td>\n",
              "      <td>NaN</td>\n",
              "      <td>NaN</td>\n",
              "      <td>NaN</td>\n",
              "      <td>NaN</td>\n",
              "    </tr>\n",
              "  </tbody>\n",
              "</table>\n",
              "</div>"
            ],
            "text/plain": [
              "    ISO3       Countries and areas Region Sub-region Development Regions  \\\n",
              "195  USA             United States     NA         NA      More Developed   \n",
              "196  AIA                  Anguilla    LAC        LAC      Not Classified   \n",
              "197  VGB    British Virgin Islands    LAC        LAC      Not Classified   \n",
              "198  VAT                  Holy See    ECA         WE      Not Classified   \n",
              "199  MSR                Montserrat    LAC        LAC      Not Classified   \n",
              "200  TKL                   Tokelau    EAP        EAP      Not Classified   \n",
              "201  TCA  Turks and Caicos Islands    LAC        LAC      Not Classified   \n",
              "\n",
              "     Youth_Literacy_Rate_Female  Youth_Literacy_Rate_Male  \\\n",
              "195                       100.0                     100.0   \n",
              "196                         NaN                       NaN   \n",
              "197                         NaN                       NaN   \n",
              "198                         NaN                       NaN   \n",
              "199                         NaN                       NaN   \n",
              "200                         NaN                       NaN   \n",
              "201                         NaN                       NaN   \n",
              "\n",
              "     Youth_Literacy_Rate_Total  Adult_Literacy_Rate_Female  \\\n",
              "195                      100.0                        98.5   \n",
              "196                        NaN                         NaN   \n",
              "197                        NaN                         NaN   \n",
              "198                        NaN                         NaN   \n",
              "199                        NaN                         NaN   \n",
              "200                        NaN                         NaN   \n",
              "201                        NaN                         NaN   \n",
              "\n",
              "     Adult_Literacy_Rate_Male  Adult_Literacy_Rate_Total  \n",
              "195                      99.0                       99.0  \n",
              "196                       NaN                        NaN  \n",
              "197                       NaN                        NaN  \n",
              "198                       NaN                        NaN  \n",
              "199                       NaN                        NaN  \n",
              "200                       NaN                        NaN  \n",
              "201                       NaN                        NaN  "
            ]
          },
          "execution_count": 102,
          "metadata": {},
          "output_type": "execute_result"
        }
      ],
      "source": [
        "# show the last 6 rows which are empty\n",
        "modified_df.tail(7)"
      ]
    },
    {
      "cell_type": "code",
      "execution_count": 103,
      "id": "2c1e521f",
      "metadata": {
        "id": "2c1e521f",
        "outputId": "13439d7e-783a-4524-e103-2a5683710d42"
      },
      "outputs": [
        {
          "data": {
            "text/plain": [
              "(202, 11)"
            ]
          },
          "execution_count": 103,
          "metadata": {},
          "output_type": "execute_result"
        }
      ],
      "source": [
        "# identify the datashape again\n",
        "modified_df.shape"
      ]
    },
    {
      "cell_type": "code",
      "execution_count": 104,
      "id": "7aa16a28",
      "metadata": {
        "id": "7aa16a28"
      },
      "outputs": [],
      "source": [
        "# sort the dataframe\n",
        "modified_df = modified_df.sort_values(by=['Countries and areas'], ignore_index = True )"
      ]
    },
    {
      "cell_type": "code",
      "execution_count": 105,
      "id": "44ad7d58",
      "metadata": {
        "id": "44ad7d58"
      },
      "outputs": [],
      "source": [
        "visualize_df = modified_df.copy()"
      ]
    },
    {
      "cell_type": "code",
      "execution_count": 106,
      "id": "2ee6e31f",
      "metadata": {
        "id": "2ee6e31f",
        "outputId": "87f741b7-3ca8-42f2-d762-e94d0b92c310"
      },
      "outputs": [
        {
          "data": {
            "text/html": [
              "<div>\n",
              "<style scoped>\n",
              "    .dataframe tbody tr th:only-of-type {\n",
              "        vertical-align: middle;\n",
              "    }\n",
              "\n",
              "    .dataframe tbody tr th {\n",
              "        vertical-align: top;\n",
              "    }\n",
              "\n",
              "    .dataframe thead th {\n",
              "        text-align: right;\n",
              "    }\n",
              "</style>\n",
              "<table border=\"1\" class=\"dataframe\">\n",
              "  <thead>\n",
              "    <tr style=\"text-align: right;\">\n",
              "      <th></th>\n",
              "      <th>ISO3</th>\n",
              "      <th>Countries and areas</th>\n",
              "      <th>Region</th>\n",
              "      <th>Sub-region</th>\n",
              "      <th>Development Regions</th>\n",
              "      <th>Youth_Literacy_Rate_Female</th>\n",
              "      <th>Youth_Literacy_Rate_Male</th>\n",
              "      <th>Youth_Literacy_Rate_Total</th>\n",
              "      <th>Adult_Literacy_Rate_Female</th>\n",
              "      <th>Adult_Literacy_Rate_Male</th>\n",
              "      <th>Adult_Literacy_Rate_Total</th>\n",
              "    </tr>\n",
              "  </thead>\n",
              "  <tbody>\n",
              "    <tr>\n",
              "      <th>0</th>\n",
              "      <td>AFG</td>\n",
              "      <td>Afghanistan</td>\n",
              "      <td>SA</td>\n",
              "      <td>SA</td>\n",
              "      <td>Least Developed</td>\n",
              "      <td>56.0</td>\n",
              "      <td>74.0</td>\n",
              "      <td>65.0</td>\n",
              "      <td>30.0</td>\n",
              "      <td>55.0</td>\n",
              "      <td>43.0</td>\n",
              "    </tr>\n",
              "    <tr>\n",
              "      <th>1</th>\n",
              "      <td>ALB</td>\n",
              "      <td>Albania</td>\n",
              "      <td>ECA</td>\n",
              "      <td>EECA</td>\n",
              "      <td>More Developed</td>\n",
              "      <td>100.0</td>\n",
              "      <td>99.0</td>\n",
              "      <td>99.0</td>\n",
              "      <td>98.0</td>\n",
              "      <td>99.0</td>\n",
              "      <td>98.0</td>\n",
              "    </tr>\n",
              "    <tr>\n",
              "      <th>2</th>\n",
              "      <td>DZA</td>\n",
              "      <td>Algeria</td>\n",
              "      <td>MENA</td>\n",
              "      <td>MENA</td>\n",
              "      <td>Less Developed</td>\n",
              "      <td>97.0</td>\n",
              "      <td>98.0</td>\n",
              "      <td>97.0</td>\n",
              "      <td>75.0</td>\n",
              "      <td>87.0</td>\n",
              "      <td>81.0</td>\n",
              "    </tr>\n",
              "    <tr>\n",
              "      <th>3</th>\n",
              "      <td>AND</td>\n",
              "      <td>Andorra</td>\n",
              "      <td>ECA</td>\n",
              "      <td>WE</td>\n",
              "      <td>More Developed</td>\n",
              "      <td>100.0</td>\n",
              "      <td>100.0</td>\n",
              "      <td>100.0</td>\n",
              "      <td>98.5</td>\n",
              "      <td>99.0</td>\n",
              "      <td>99.0</td>\n",
              "    </tr>\n",
              "    <tr>\n",
              "      <th>4</th>\n",
              "      <td>AGO</td>\n",
              "      <td>Angola</td>\n",
              "      <td>SSA</td>\n",
              "      <td>ESA</td>\n",
              "      <td>Least Developed</td>\n",
              "      <td>79.5</td>\n",
              "      <td>80.0</td>\n",
              "      <td>79.5</td>\n",
              "      <td>58.0</td>\n",
              "      <td>68.5</td>\n",
              "      <td>64.5</td>\n",
              "    </tr>\n",
              "  </tbody>\n",
              "</table>\n",
              "</div>"
            ],
            "text/plain": [
              "  ISO3 Countries and areas Region Sub-region Development Regions  \\\n",
              "0  AFG         Afghanistan     SA         SA     Least Developed   \n",
              "1  ALB             Albania    ECA       EECA      More Developed   \n",
              "2  DZA             Algeria   MENA       MENA      Less Developed   \n",
              "3  AND             Andorra    ECA         WE      More Developed   \n",
              "4  AGO              Angola    SSA        ESA     Least Developed   \n",
              "\n",
              "   Youth_Literacy_Rate_Female  Youth_Literacy_Rate_Male  \\\n",
              "0                        56.0                      74.0   \n",
              "1                       100.0                      99.0   \n",
              "2                        97.0                      98.0   \n",
              "3                       100.0                     100.0   \n",
              "4                        79.5                      80.0   \n",
              "\n",
              "   Youth_Literacy_Rate_Total  Adult_Literacy_Rate_Female  \\\n",
              "0                       65.0                        30.0   \n",
              "1                       99.0                        98.0   \n",
              "2                       97.0                        75.0   \n",
              "3                      100.0                        98.5   \n",
              "4                       79.5                        58.0   \n",
              "\n",
              "   Adult_Literacy_Rate_Male  Adult_Literacy_Rate_Total  \n",
              "0                      55.0                       43.0  \n",
              "1                      99.0                       98.0  \n",
              "2                      87.0                       81.0  \n",
              "3                      99.0                       99.0  \n",
              "4                      68.5                       64.5  "
            ]
          },
          "execution_count": 106,
          "metadata": {},
          "output_type": "execute_result"
        }
      ],
      "source": [
        "visualize_df.head(5)"
      ]
    },
    {
      "cell_type": "code",
      "execution_count": 107,
      "id": "f169c365",
      "metadata": {
        "id": "f169c365"
      },
      "outputs": [],
      "source": [
        "visualize_df.dropna(inplace=True)"
      ]
    },
    {
      "cell_type": "code",
      "execution_count": 108,
      "id": "29f256c2",
      "metadata": {
        "id": "29f256c2",
        "outputId": "53d88927-3ef7-4e28-ab9b-7b24dbbdf764"
      },
      "outputs": [
        {
          "data": {
            "text/plain": [
              "ISO3                          0\n",
              "Countries and areas           0\n",
              "Region                        0\n",
              "Sub-region                    0\n",
              "Development Regions           0\n",
              "Youth_Literacy_Rate_Female    0\n",
              "Youth_Literacy_Rate_Male      0\n",
              "Youth_Literacy_Rate_Total     0\n",
              "Adult_Literacy_Rate_Female    0\n",
              "Adult_Literacy_Rate_Male      0\n",
              "Adult_Literacy_Rate_Total     0\n",
              "dtype: int64"
            ]
          },
          "execution_count": 108,
          "metadata": {},
          "output_type": "execute_result"
        }
      ],
      "source": [
        "visualize_df.isna().sum()"
      ]
    },
    {
      "cell_type": "code",
      "execution_count": 109,
      "id": "04bc4684",
      "metadata": {
        "id": "04bc4684",
        "outputId": "04e4442a-60cb-4634-f34c-86e76f866305"
      },
      "outputs": [
        {
          "data": {
            "image/png": "[encoded data removed]",
            "text/plain": [
              "<Figure size 1200x1000 with 6 Axes>"
            ]
          },
          "metadata": {},
          "output_type": "display_data"
        }
      ],
      "source": [
        "# define the columns for histograms\n",
        "columns_to_visualize = ['Youth_Literacy_Rate_Female',\n",
        "                        'Adult_Literacy_Rate_Female',\n",
        "                        'Youth_Literacy_Rate_Male',\n",
        "                        'Adult_Literacy_Rate_Male',\n",
        "                        'Youth_Literacy_Rate_Total',\n",
        "                        'Adult_Literacy_Rate_Total']\n",
        "\n",
        "# create a figure with multiple subplots\n",
        "fig, axes = plt.subplots(nrows=3, ncols=2, figsize=(12, 10))\n",
        "\n",
        "# set the title for the entire figure\n",
        "fig.suptitle('Histograms of Literacy Rates Across The Globe', fontsize=16)\n",
        "\n",
        "# iterate over each column and draw the corresponding histogram\n",
        "for i, column in enumerate(columns_to_visualize):\n",
        "    # remove missing values before plotting (if necessary)\n",
        "    # the previous step already cleaned out the missing values\n",
        "    visualize_df_cleaned = visualize_df.dropna(subset=[column])\n",
        "\n",
        "    # compute the subplot index for the current column\n",
        "    row_index = i // 2  # integer division to get the row index\n",
        "    col_index = i % 2   # modulus operator to get the column index\n",
        "\n",
        "    # plot the histogram\n",
        "    axes[row_index, col_index].hist(visualize_df_cleaned[column], bins=10, color='skyblue', edgecolor='black')\n",
        "\n",
        "    # add labels and title\n",
        "    axes[row_index, col_index].set_xlabel(column)\n",
        "    axes[row_index, col_index].set_ylabel('Frequency')\n",
        "    axes[row_index, col_index].set_title('Histogram of ' + column)\n",
        "\n",
        "# adjust layout\n",
        "plt.tight_layout()\n",
        "\n",
        "# show the plot\n",
        "plt.show()"
      ]
    },
    {
      "cell_type": "code",
      "execution_count": 110,
      "id": "9bc4e8fe",
      "metadata": {
        "id": "9bc4e8fe",
        "outputId": "7ef55571-9bd9-4fd0-bd86-65f6eb4c4f3d"
      },
      "outputs": [
        {
          "name": "stdout",
          "output_type": "stream",
          "text": [
            "No. of developing countries: 152\n"
          ]
        }
      ],
      "source": [
        "# idenfity the devleoping countries\n",
        "developing_countries = ['Afghanistan','Albania',\n",
        "                        'Algeria','Angola',\n",
        "                        'Antigua and Barbuda','Argentina',\n",
        "                        'Armenia','Aruba',\n",
        "                        'Azerbaijan','Bahamas',\n",
        "                        'Bahrain','Bangladesh',\n",
        "                        'Barbados','Belarus',\n",
        "                        'Belize','Benin',\n",
        "                        'Bhutan','Bolivia',\n",
        "                        'Bosnia and Herzegovina','Botswana',\n",
        "                        'Brazil','Brunei',\n",
        "                        'Bulgaria','Burkina Faso',\n",
        "                        'Burundi','Cambodia',\n",
        "                        'Cameroon','Cape Verde',\n",
        "                        'Central African Republic','Chad',\n",
        "                        'Chile','China',\n",
        "                        'Colombia','Comoros',\n",
        "                        'Costa Rica','Democratic Republic of the Congo',\n",
        "                        'Djibouti','Dominica',\n",
        "                        'Dominican Republic','East Timor',\n",
        "                        'Ecuador','Egypt',\n",
        "                        'El Salvador','Equatorial Guinea',\n",
        "                        'Eritrea','Eswatini',\n",
        "                        'Ethiopia','Federated States of Micronesia',\n",
        "                        'Fiji','Gabon',\n",
        "                        'Gambia','Georgia',\n",
        "                        'Ghana','Grenada',\n",
        "                        'Guatemala','Guinea',\n",
        "                        'Guinea-Bissau','Guyana',\n",
        "                        'Haiti','Honduras',\n",
        "                        'India','Indonesia',\n",
        "                        'Iran','Iraq',\n",
        "                        'Ivory Coast','Jamaica',\n",
        "                        'Jordan','Kazakhstan',\n",
        "                        'Kenya','Kiribati',\n",
        "                        'Kosovo','Kuwait',\n",
        "                        'Kyrgyzstan','Laos',\n",
        "                        'Lebanon','Lesotho',\n",
        "                        'Liberia','Libya',\n",
        "                        'Madagascar','Malawi',\n",
        "                        'Malaysia','Maldives',\n",
        "                        'Mali','Marshall Islands',\n",
        "                        'Mauritania','Mauritius',\n",
        "                        'Mexico','Moldova',\n",
        "                        'Mongolia','Montenegro',\n",
        "                        'Morocco','Mozambique',\n",
        "                        'Myanmar','Namibia',\n",
        "                        'Nauru','Nepal',\n",
        "                        'Nicaragua','Niger',\n",
        "                        'Nigeria','North Macedonia',\n",
        "                        'Oman','Pakistan',\n",
        "                        'Palau','Panama',\n",
        "                        'Papua New Guinea','Paraguay',\n",
        "                        'Peru','Philippines',\n",
        "                        'Poland','Qatar',\n",
        "                        'Republic of the Congo','Romania',\n",
        "                        'Russia','Rwanda',\n",
        "                        'Saint Kitts and Nevis','Saint Lucia',\n",
        "                        'Saint Vincent and the Grenadines','Samoa',\n",
        "                        'Sao Tome and Principe','Saudi Arabia',\n",
        "                        'Senegal','Serbia',\n",
        "                        'Seychelles','Sierra Leone',\n",
        "                        'Solomon Islands','Somalia',\n",
        "                        'South Africa','South Sudan',\n",
        "                        'Sri Lanka','Sudan',\n",
        "                        'Suriname','Syria',\n",
        "                        'Tajikistan','Tanzania',\n",
        "                        'Thailand','Togo',\n",
        "                        'Tonga','Trinidad and Tobago',\n",
        "                        'Tunisia','Turkey',\n",
        "                        'Turkmenistan','Tuvalu',\n",
        "                        'Uganda','Ukraine',\n",
        "                        'Uruguay','Uzbekistan',\n",
        "                        'Vanuatu','Venezuela',\n",
        "                        'Vietnam','Yemen',\n",
        "                        'Zambia','Zimbabwe']\n",
        "\n",
        "print(\"No. of developing countries:\", len(developing_countries))\n"
      ]
    },
    {
      "cell_type": "code",
      "execution_count": 111,
      "id": "bf1741ee",
      "metadata": {
        "id": "bf1741ee"
      },
      "outputs": [],
      "source": [
        "# segment the devleoping countries from the dataset\n",
        "developing_countries = visualize_df[visualize_df['Countries and areas'].isin(developing_countries)]"
      ]
    },
    {
      "cell_type": "code",
      "execution_count": 112,
      "id": "71bd750d",
      "metadata": {
        "id": "71bd750d",
        "outputId": "7d3a1c40-aab7-423d-d9f0-b0c9bbddbfa0"
      },
      "outputs": [
        {
          "data": {
            "text/html": [
              "<div>\n",
              "<style scoped>\n",
              "    .dataframe tbody tr th:only-of-type {\n",
              "        vertical-align: middle;\n",
              "    }\n",
              "\n",
              "    .dataframe tbody tr th {\n",
              "        vertical-align: top;\n",
              "    }\n",
              "\n",
              "    .dataframe thead th {\n",
              "        text-align: right;\n",
              "    }\n",
              "</style>\n",
              "<table border=\"1\" class=\"dataframe\">\n",
              "  <thead>\n",
              "    <tr style=\"text-align: right;\">\n",
              "      <th></th>\n",
              "      <th>ISO3</th>\n",
              "      <th>Countries and areas</th>\n",
              "      <th>Region</th>\n",
              "      <th>Sub-region</th>\n",
              "      <th>Development Regions</th>\n",
              "      <th>Youth_Literacy_Rate_Female</th>\n",
              "      <th>Youth_Literacy_Rate_Male</th>\n",
              "      <th>Youth_Literacy_Rate_Total</th>\n",
              "      <th>Adult_Literacy_Rate_Female</th>\n",
              "      <th>Adult_Literacy_Rate_Male</th>\n",
              "      <th>Adult_Literacy_Rate_Total</th>\n",
              "    </tr>\n",
              "  </thead>\n",
              "  <tbody>\n",
              "    <tr>\n",
              "      <th>0</th>\n",
              "      <td>AFG</td>\n",
              "      <td>Afghanistan</td>\n",
              "      <td>SA</td>\n",
              "      <td>SA</td>\n",
              "      <td>Least Developed</td>\n",
              "      <td>56.0</td>\n",
              "      <td>74.0</td>\n",
              "      <td>65.0</td>\n",
              "      <td>30.0</td>\n",
              "      <td>55.0</td>\n",
              "      <td>43.0</td>\n",
              "    </tr>\n",
              "    <tr>\n",
              "      <th>1</th>\n",
              "      <td>ALB</td>\n",
              "      <td>Albania</td>\n",
              "      <td>ECA</td>\n",
              "      <td>EECA</td>\n",
              "      <td>More Developed</td>\n",
              "      <td>100.0</td>\n",
              "      <td>99.0</td>\n",
              "      <td>99.0</td>\n",
              "      <td>98.0</td>\n",
              "      <td>99.0</td>\n",
              "      <td>98.0</td>\n",
              "    </tr>\n",
              "    <tr>\n",
              "      <th>2</th>\n",
              "      <td>DZA</td>\n",
              "      <td>Algeria</td>\n",
              "      <td>MENA</td>\n",
              "      <td>MENA</td>\n",
              "      <td>Less Developed</td>\n",
              "      <td>97.0</td>\n",
              "      <td>98.0</td>\n",
              "      <td>97.0</td>\n",
              "      <td>75.0</td>\n",
              "      <td>87.0</td>\n",
              "      <td>81.0</td>\n",
              "    </tr>\n",
              "    <tr>\n",
              "      <th>4</th>\n",
              "      <td>AGO</td>\n",
              "      <td>Angola</td>\n",
              "      <td>SSA</td>\n",
              "      <td>ESA</td>\n",
              "      <td>Least Developed</td>\n",
              "      <td>79.5</td>\n",
              "      <td>80.0</td>\n",
              "      <td>79.5</td>\n",
              "      <td>58.0</td>\n",
              "      <td>68.5</td>\n",
              "      <td>64.5</td>\n",
              "    </tr>\n",
              "    <tr>\n",
              "      <th>6</th>\n",
              "      <td>ATG</td>\n",
              "      <td>Antigua and Barbuda</td>\n",
              "      <td>LAC</td>\n",
              "      <td>LAC</td>\n",
              "      <td>Less Developed</td>\n",
              "      <td>99.0</td>\n",
              "      <td>99.0</td>\n",
              "      <td>99.0</td>\n",
              "      <td>94.0</td>\n",
              "      <td>96.0</td>\n",
              "      <td>95.0</td>\n",
              "    </tr>\n",
              "  </tbody>\n",
              "</table>\n",
              "</div>"
            ],
            "text/plain": [
              "  ISO3  Countries and areas Region Sub-region Development Regions  \\\n",
              "0  AFG          Afghanistan     SA         SA     Least Developed   \n",
              "1  ALB              Albania    ECA       EECA      More Developed   \n",
              "2  DZA              Algeria   MENA       MENA      Less Developed   \n",
              "4  AGO               Angola    SSA        ESA     Least Developed   \n",
              "6  ATG  Antigua and Barbuda    LAC        LAC      Less Developed   \n",
              "\n",
              "   Youth_Literacy_Rate_Female  Youth_Literacy_Rate_Male  \\\n",
              "0                        56.0                      74.0   \n",
              "1                       100.0                      99.0   \n",
              "2                        97.0                      98.0   \n",
              "4                        79.5                      80.0   \n",
              "6                        99.0                      99.0   \n",
              "\n",
              "   Youth_Literacy_Rate_Total  Adult_Literacy_Rate_Female  \\\n",
              "0                       65.0                        30.0   \n",
              "1                       99.0                        98.0   \n",
              "2                       97.0                        75.0   \n",
              "4                       79.5                        58.0   \n",
              "6                       99.0                        94.0   \n",
              "\n",
              "   Adult_Literacy_Rate_Male  Adult_Literacy_Rate_Total  \n",
              "0                      55.0                       43.0  \n",
              "1                      99.0                       98.0  \n",
              "2                      87.0                       81.0  \n",
              "4                      68.5                       64.5  \n",
              "6                      96.0                       95.0  "
            ]
          },
          "execution_count": 112,
          "metadata": {},
          "output_type": "execute_result"
        }
      ],
      "source": [
        "# checked the first five rows\n",
        "developing_countries.head(5)"
      ]
    },
    {
      "cell_type": "code",
      "execution_count": 113,
      "id": "f2da2a6b",
      "metadata": {
        "id": "f2da2a6b",
        "outputId": "5fc97b42-0ff3-468d-d741-f54bc82eee3e"
      },
      "outputs": [
        {
          "data": {
            "text/plain": [
              "(135, 11)"
            ]
          },
          "execution_count": 113,
          "metadata": {},
          "output_type": "execute_result"
        }
      ],
      "source": [
        "# check no. of developing countries that we have segemented from the dataframe\n",
        "developing_countries.shape"
      ]
    },
    {
      "cell_type": "code",
      "execution_count": 114,
      "id": "4aa14e14",
      "metadata": {
        "id": "4aa14e14",
        "outputId": "b433f2da-7289-419b-cbfd-0e13bbf752b9"
      },
      "outputs": [
        {
          "data": {
            "image/png": "[encoded data removed]",
            "text/plain": [
              "<Figure size 1200x1000 with 6 Axes>"
            ]
          },
          "metadata": {},
          "output_type": "display_data"
        }
      ],
      "source": [
        "# visualize the distribution of literacy rate in the dataframe\n",
        "\n",
        "# define the columns for histograms\n",
        "columns_to_visualize = ['Youth_Literacy_Rate_Female',\n",
        "                        'Adult_Literacy_Rate_Female',\n",
        "                        'Youth_Literacy_Rate_Male',\n",
        "                        'Adult_Literacy_Rate_Male',\n",
        "                        'Youth_Literacy_Rate_Total',\n",
        "                        'Adult_Literacy_Rate_Total']\n",
        "\n",
        "# create a figure with multiple subplots\n",
        "fig, axes = plt.subplots(nrows=3, ncols=2, figsize=(12, 10))\n",
        "\n",
        "# set the title for the entire figure\n",
        "fig.suptitle('Histograms of Literacy Rates In Developing Countries', fontsize=16)\n",
        "\n",
        "# iterate over each column and draw the corresponding histogram\n",
        "for i, column in enumerate(columns_to_visualize):\n",
        "    # compute the subplot index for the current column\n",
        "    row_index = i // 2  # integer division to get the row index\n",
        "    col_index = i % 2   # modulus operator to get the column index\n",
        "\n",
        "    # plot the histogram\n",
        "    axes[row_index, col_index].hist(developing_countries[column], bins=10, color='skyblue', edgecolor='black')\n",
        "\n",
        "    # add labels and title\n",
        "    axes[row_index, col_index].set_xlabel(column)\n",
        "    axes[row_index, col_index].set_ylabel('Frequency')\n",
        "    axes[row_index, col_index].set_title('Histogram of ' + column)\n",
        "\n",
        "# adjust layout\n",
        "plt.tight_layout()\n",
        "\n",
        "# show the plot\n",
        "plt.show()"
      ]
    },
    {
      "cell_type": "code",
      "execution_count": 115,
      "id": "181b5f4f",
      "metadata": {
        "id": "181b5f4f",
        "outputId": "963e3db4-ad4a-4621-ffb2-34179c6a1af9"
      },
      "outputs": [
        {
          "data": {
            "application/vnd.plotly.v1+json": {
              "config": {
                "plotlyServerURL": "https://plot.ly"
              },
              "data": [
                {
                  "coloraxis": "coloraxis",
                  "geo": "geo",
                  "hovertemplate": "Countries and areas=%{location}<br>Youth_Literacy_Rate_Female=%{z}<extra></extra>",
                  "locationmode": "country names",
                  "locations": [
                    "Afghanistan",
                    "Albania",
                    "Algeria",
                    "Angola",
                    "Antigua and Barbuda",
                    "Argentina",
                    "Armenia",
                    "Azerbaijan",
                    "Bahamas",
                    "Bahrain",
                    "Bangladesh",
                    "Barbados",
                    "Belarus",
                    "Belize",
                    "Benin",
                    "Bhutan",
                    "Bosnia and Herzegovina",
                    "Botswana",
                    "Brazil",
                    "Bulgaria",
                    "Burkina Faso",
                    "Burundi",
                    "Cambodia",
                    "Cameroon",
                    "Central African Republic",
                    "Chad",
                    "Chile",
                    "China",
                    "Colombia",
                    "Comoros",
                    "Costa Rica",
                    "Democratic Republic of the Congo",
                    "Djibouti",
                    "Dominica",
                    "Dominican Republic",
                    "Ecuador",
                    "Egypt",
                    "El Salvador",
                    "Equatorial Guinea",
                    "Eritrea",
                    "Eswatini",
                    "Ethiopia",
                    "Fiji",
                    "Gabon",
                    "Gambia",
                    "Georgia",
                    "Ghana",
                    "Grenada",
                    "Guatemala",
                    "Guinea",
                    "Guinea-Bissau",
                    "Guyana",
                    "Haiti",
                    "Honduras",
                    "India",
                    "Indonesia",
                    "Iraq",
                    "Jamaica",
                    "Jordan",
                    "Kazakhstan",
                    "Kenya",
                    "Kiribati",
                    "Kuwait",
                    "Kyrgyzstan",
                    "Lebanon",
                    "Lesotho",
                    "Liberia",
                    "Libya",
                    "Madagascar",
                    "Malawi",
                    "Malaysia",
                    "Maldives",
                    "Mali",
                    "Marshall Islands",
                    "Mauritania",
                    "Mauritius",
                    "Mexico",
                    "Mongolia",
                    "Montenegro",
                    "Morocco",
                    "Mozambique",
                    "Myanmar",
                    "Namibia",
                    "Nauru",
                    "Nepal",
                    "Nicaragua",
                    "Niger",
                    "Nigeria",
                    "North Macedonia",
                    "Oman",
                    "Pakistan",
                    "Palau",
                    "Panama",
                    "Papua New Guinea",
                    "Paraguay",
                    "Peru",
                    "Philippines",
                    "Poland",
                    "Qatar",
                    "Romania",
                    "Rwanda",
                    "Saint Kitts and Nevis",
                    "Saint Lucia",
                    "Saint Vincent and the Grenadines",
                    "Samoa",
                    "Sao Tome and Principe",
                    "Saudi Arabia",
                    "Senegal",
                    "Serbia",
                    "Seychelles",
                    "Sierra Leone",
                    "Solomon Islands",
                    "Somalia",
                    "South Africa",
                    "South Sudan",
                    "Sri Lanka",
                    "Sudan",
                    "Suriname",
                    "Tajikistan",
                    "Thailand",
                    "Togo",
                    "Tonga",
                    "Trinidad and Tobago",
                    "Tunisia",
                    "Turkey",
                    "Turkmenistan",
                    "Tuvalu",
                    "Uganda",
                    "Ukraine",
                    "Uruguay",
                    "Uzbekistan",
                    "Vanuatu",
                    "Yemen",
                    "Zambia",
                    "Zimbabwe"
                  ],
                  "name": "",
                  "type": "choropleth",
                  "z": [
                    56,
                    100,
                    97,
                    79.5,
                    99,
                    100,
                    99,
                    99,
                    99,
                    99,
                    96,
                    99,
                    100,
                    99,
                    52,
                    79.5,
                    100,
                    99,
                    99,
                    100,
                    55,
                    79.5,
                    79.5,
                    82,
                    29,
                    79.5,
                    99,
                    100,
                    99,
                    78,
                    100,
                    79.5,
                    79.5,
                    99,
                    99,
                    99,
                    99,
                    98,
                    99,
                    93,
                    97,
                    79.5,
                    99,
                    91,
                    79.5,
                    99,
                    92,
                    99,
                    99,
                    79.5,
                    79.5,
                    99,
                    79.5,
                    98,
                    90,
                    100,
                    99,
                    99,
                    99,
                    100,
                    88,
                    79.5,
                    100,
                    100,
                    100,
                    79.5,
                    79.5,
                    99,
                    81,
                    79.5,
                    97,
                    99,
                    43,
                    99,
                    79.5,
                    99,
                    99,
                    99,
                    99,
                    97,
                    79.5,
                    79.5,
                    96,
                    99,
                    91,
                    99,
                    36,
                    68,
                    100,
                    99,
                    99,
                    99,
                    99,
                    99,
                    99,
                    99,
                    99,
                    100,
                    99,
                    99,
                    89,
                    99,
                    99,
                    99,
                    99,
                    98,
                    99,
                    79.5,
                    100,
                    100,
                    63,
                    79.5,
                    79.5,
                    99,
                    47,
                    99,
                    73,
                    98,
                    99,
                    99,
                    79.5,
                    100,
                    99,
                    99,
                    99,
                    99,
                    79.5,
                    90,
                    100,
                    99,
                    100,
                    97,
                    79.5,
                    92,
                    99
                  ]
                }
              ],
              "layout": {
                "coloraxis": {
                  "cmax": 100,
                  "cmin": 0,
                  "colorbar": {
                    "title": {
                      "text": "Youth_Literacy_Rate_Female"
                    }
                  },
                  "colorscale": [
                    [
                      0,
                      "#0d0887"
                    ],
                    [
                      0.1111111111111111,
                      "#46039f"
                    ],
                    [
                      0.2222222222222222,
                      "#7201a8"
                    ],
                    [
                      0.3333333333333333,
                      "#9c179e"
                    ],
                    [
                      0.4444444444444444,
                      "#bd3786"
                    ],
                    [
                      0.5555555555555556,
                      "#d8576b"
                    ],
                    [
                      0.6666666666666666,
                      "#ed7953"
                    ],
                    [
                      0.7777777777777778,
                      "#fb9f3a"
                    ],
                    [
                      0.8888888888888888,
                      "#fdca26"
                    ],
                    [
                      1,
                      "#f0f921"
                    ]
                  ]
                },
                "geo": {
                  "center": {},
                  "domain": {
                    "x": [
                      0,
                      1
                    ],
                    "y": [
                      0,
                      1
                    ]
                  }
                },
                "legend": {
                  "tracegroupgap": 0
                },
                "template": {
                  "data": {
                    "bar": [
                      {
                        "error_x": {
                          "color": "#2a3f5f"
                        },
                        "error_y": {
                          "color": "#2a3f5f"
                        },
                        "marker": {
                          "line": {
                            "color": "#E5ECF6",
                            "width": 0.5
                          },
                          "pattern": {
                            "fillmode": "overlay",
                            "size": 10,
                            "solidity": 0.2
                          }
                        },
                        "type": "bar"
                      }
                    ],
                    "barpolar": [
                      {
                        "marker": {
                          "line": {
                            "color": "#E5ECF6",
                            "width": 0.5
                          },
                          "pattern": {
                            "fillmode": "overlay",
                            "size": 10,
                            "solidity": 0.2
                          }
                        },
                        "type": "barpolar"
                      }
                    ],
                    "carpet": [
                      {
                        "aaxis": {
                          "endlinecolor": "#2a3f5f",
                          "gridcolor": "white",
                          "linecolor": "white",
                          "minorgridcolor": "white",
                          "startlinecolor": "#2a3f5f"
                        },
                        "baxis": {
                          "endlinecolor": "#2a3f5f",
                          "gridcolor": "white",
                          "linecolor": "white",
                          "minorgridcolor": "white",
                          "startlinecolor": "#2a3f5f"
                        },
                        "type": "carpet"
                      }
                    ],
                    "choropleth": [
                      {
                        "colorbar": {
                          "outlinewidth": 0,
                          "ticks": ""
                        },
                        "type": "choropleth"
                      }
                    ],
                    "contour": [
                      {
                        "colorbar": {
                          "outlinewidth": 0,
                          "ticks": ""
                        },
                        "colorscale": [
                          [
                            0,
                            "#0d0887"
                          ],
                          [
                            0.1111111111111111,
                            "#46039f"
                          ],
                          [
                            0.2222222222222222,
                            "#7201a8"
                          ],
                          [
                            0.3333333333333333,
                            "#9c179e"
                          ],
                          [
                            0.4444444444444444,
                            "#bd3786"
                          ],
                          [
                            0.5555555555555556,
                            "#d8576b"
                          ],
                          [
                            0.6666666666666666,
                            "#ed7953"
                          ],
                          [
                            0.7777777777777778,
                            "#fb9f3a"
                          ],
                          [
                            0.8888888888888888,
                            "#fdca26"
                          ],
                          [
                            1,
                            "#f0f921"
                          ]
                        ],
                        "type": "contour"
                      }
                    ],
                    "contourcarpet": [
                      {
                        "colorbar": {
                          "outlinewidth": 0,
                          "ticks": ""
                        },
                        "type": "contourcarpet"
                      }
                    ],
                    "heatmap": [
                      {
                        "colorbar": {
                          "outlinewidth": 0,
                          "ticks": ""
                        },
                        "colorscale": [
                          [
                            0,
                            "#0d0887"
                          ],
                          [
                            0.1111111111111111,
                            "#46039f"
                          ],
                          [
                            0.2222222222222222,
                            "#7201a8"
                          ],
                          [
                            0.3333333333333333,
                            "#9c179e"
                          ],
                          [
                            0.4444444444444444,
                            "#bd3786"
                          ],
                          [
                            0.5555555555555556,
                            "#d8576b"
                          ],
                          [
                            0.6666666666666666,
                            "#ed7953"
                          ],
                          [
                            0.7777777777777778,
                            "#fb9f3a"
                          ],
                          [
                            0.8888888888888888,
                            "#fdca26"
                          ],
                          [
                            1,
                            "#f0f921"
                          ]
                        ],
                        "type": "heatmap"
                      }
                    ],
                    "heatmapgl": [
                      {
                        "colorbar": {
                          "outlinewidth": 0,
                          "ticks": ""
                        },
                        "colorscale": [
                          [
                            0,
                            "#0d0887"
                          ],
                          [
                            0.1111111111111111,
                            "#46039f"
                          ],
                          [
                            0.2222222222222222,
                            "#7201a8"
                          ],
                          [
                            0.3333333333333333,
                            "#9c179e"
                          ],
                          [
                            0.4444444444444444,
                            "#bd3786"
                          ],
                          [
                            0.5555555555555556,
                            "#d8576b"
                          ],
                          [
                            0.6666666666666666,
                            "#ed7953"
                          ],
                          [
                            0.7777777777777778,
                            "#fb9f3a"
                          ],
                          [
                            0.8888888888888888,
                            "#fdca26"
                          ],
                          [
                            1,
                            "#f0f921"
                          ]
                        ],
                        "type": "heatmapgl"
                      }
                    ],
                    "histogram": [
                      {
                        "marker": {
                          "pattern": {
                            "fillmode": "overlay",
                            "size": 10,
                            "solidity": 0.2
                          }
                        },
                        "type": "histogram"
                      }
                    ],
                    "histogram2d": [
                      {
                        "colorbar": {
                          "outlinewidth": 0,
                          "ticks": ""
                        },
                        "colorscale": [
                          [
                            0,
                            "#0d0887"
                          ],
                          [
                            0.1111111111111111,
                            "#46039f"
                          ],
                          [
                            0.2222222222222222,
                            "#7201a8"
                          ],
                          [
                            0.3333333333333333,
                            "#9c179e"
                          ],
                          [
                            0.4444444444444444,
                            "#bd3786"
                          ],
                          [
                            0.5555555555555556,
                            "#d8576b"
                          ],
                          [
                            0.6666666666666666,
                            "#ed7953"
                          ],
                          [
                            0.7777777777777778,
                            "#fb9f3a"
                          ],
                          [
                            0.8888888888888888,
                            "#fdca26"
                          ],
                          [
                            1,
                            "#f0f921"
                          ]
                        ],
                        "type": "histogram2d"
                      }
                    ],
                    "histogram2dcontour": [
                      {
                        "colorbar": {
                          "outlinewidth": 0,
                          "ticks": ""
                        },
                        "colorscale": [
                          [
                            0,
                            "#0d0887"
                          ],
                          [
                            0.1111111111111111,
                            "#46039f"
                          ],
                          [
                            0.2222222222222222,
                            "#7201a8"
                          ],
                          [
                            0.3333333333333333,
                            "#9c179e"
                          ],
                          [
                            0.4444444444444444,
                            "#bd3786"
                          ],
                          [
                            0.5555555555555556,
                            "#d8576b"
                          ],
                          [
                            0.6666666666666666,
                            "#ed7953"
                          ],
                          [
                            0.7777777777777778,
                            "#fb9f3a"
                          ],
                          [
                            0.8888888888888888,
                            "#fdca26"
                          ],
                          [
                            1,
                            "#f0f921"
                          ]
                        ],
                        "type": "histogram2dcontour"
                      }
                    ],
                    "mesh3d": [
                      {
                        "colorbar": {
                          "outlinewidth": 0,
                          "ticks": ""
                        },
                        "type": "mesh3d"
                      }
                    ],
                    "parcoords": [
                      {
                        "line": {
                          "colorbar": {
                            "outlinewidth": 0,
                            "ticks": ""
                          }
                        },
                        "type": "parcoords"
                      }
                    ],
                    "pie": [
                      {
                        "automargin": true,
                        "type": "pie"
                      }
                    ],
                    "scatter": [
                      {
                        "fillpattern": {
                          "fillmode": "overlay",
                          "size": 10,
                          "solidity": 0.2
                        },
                        "type": "scatter"
                      }
                    ],
                    "scatter3d": [
                      {
                        "line": {
                          "colorbar": {
                            "outlinewidth": 0,
                            "ticks": ""
                          }
                        },
                        "marker": {
                          "colorbar": {
                            "outlinewidth": 0,
                            "ticks": ""
                          }
                        },
                        "type": "scatter3d"
                      }
                    ],
                    "scattercarpet": [
                      {
                        "marker": {
                          "colorbar": {
                            "outlinewidth": 0,
                            "ticks": ""
                          }
                        },
                        "type": "scattercarpet"
                      }
                    ],
                    "scattergeo": [
                      {
                        "marker": {
                          "colorbar": {
                            "outlinewidth": 0,
                            "ticks": ""
                          }
                        },
                        "type": "scattergeo"
                      }
                    ],
                    "scattergl": [
                      {
                        "marker": {
                          "colorbar": {
                            "outlinewidth": 0,
                            "ticks": ""
                          }
                        },
                        "type": "scattergl"
                      }
                    ],
                    "scattermapbox": [
                      {
                        "marker": {
                          "colorbar": {
                            "outlinewidth": 0,
                            "ticks": ""
                          }
                        },
                        "type": "scattermapbox"
                      }
                    ],
                    "scatterpolar": [
                      {
                        "marker": {
                          "colorbar": {
                            "outlinewidth": 0,
                            "ticks": ""
                          }
                        },
                        "type": "scatterpolar"
                      }
                    ],
                    "scatterpolargl": [
                      {
                        "marker": {
                          "colorbar": {
                            "outlinewidth": 0,
                            "ticks": ""
                          }
                        },
                        "type": "scatterpolargl"
                      }
                    ],
                    "scatterternary": [
                      {
                        "marker": {
                          "colorbar": {
                            "outlinewidth": 0,
                            "ticks": ""
                          }
                        },
                        "type": "scatterternary"
                      }
                    ],
                    "surface": [
                      {
                        "colorbar": {
                          "outlinewidth": 0,
                          "ticks": ""
                        },
                        "colorscale": [
                          [
                            0,
                            "#0d0887"
                          ],
                          [
                            0.1111111111111111,
                            "#46039f"
                          ],
                          [
                            0.2222222222222222,
                            "#7201a8"
                          ],
                          [
                            0.3333333333333333,
                            "#9c179e"
                          ],
                          [
                            0.4444444444444444,
                            "#bd3786"
                          ],
                          [
                            0.5555555555555556,
                            "#d8576b"
                          ],
                          [
                            0.6666666666666666,
                            "#ed7953"
                          ],
                          [
                            0.7777777777777778,
                            "#fb9f3a"
                          ],
                          [
                            0.8888888888888888,
                            "#fdca26"
                          ],
                          [
                            1,
                            "#f0f921"
                          ]
                        ],
                        "type": "surface"
                      }
                    ],
                    "table": [
                      {
                        "cells": {
                          "fill": {
                            "color": "#EBF0F8"
                          },
                          "line": {
                            "color": "white"
                          }
                        },
                        "header": {
                          "fill": {
                            "color": "#C8D4E3"
                          },
                          "line": {
                            "color": "white"
                          }
                        },
                        "type": "table"
                      }
                    ]
                  },
                  "layout": {
                    "annotationdefaults": {
                      "arrowcolor": "#2a3f5f",
                      "arrowhead": 0,
                      "arrowwidth": 1
                    },
                    "autotypenumbers": "strict",
                    "coloraxis": {
                      "colorbar": {
                        "outlinewidth": 0,
                        "ticks": ""
                      }
                    },
                    "colorscale": {
                      "diverging": [
                        [
                          0,
                          "#8e0152"
                        ],
                        [
                          0.1,
                          "#c51b7d"
                        ],
                        [
                          0.2,
                          "#de77ae"
                        ],
                        [
                          0.3,
                          "#f1b6da"
                        ],
                        [
                          0.4,
                          "#fde0ef"
                        ],
                        [
                          0.5,
                          "#f7f7f7"
                        ],
                        [
                          0.6,
                          "#e6f5d0"
                        ],
                        [
                          0.7,
                          "#b8e186"
                        ],
                        [
                          0.8,
                          "#7fbc41"
                        ],
                        [
                          0.9,
                          "#4d9221"
                        ],
                        [
                          1,
                          "#276419"
                        ]
                      ],
                      "sequential": [
                        [
                          0,
                          "#0d0887"
                        ],
                        [
                          0.1111111111111111,
                          "#46039f"
                        ],
                        [
                          0.2222222222222222,
                          "#7201a8"
                        ],
                        [
                          0.3333333333333333,
                          "#9c179e"
                        ],
                        [
                          0.4444444444444444,
                          "#bd3786"
                        ],
                        [
                          0.5555555555555556,
                          "#d8576b"
                        ],
                        [
                          0.6666666666666666,
                          "#ed7953"
                        ],
                        [
                          0.7777777777777778,
                          "#fb9f3a"
                        ],
                        [
                          0.8888888888888888,
                          "#fdca26"
                        ],
                        [
                          1,
                          "#f0f921"
                        ]
                      ],
                      "sequentialminus": [
                        [
                          0,
                          "#0d0887"
                        ],
                        [
                          0.1111111111111111,
                          "#46039f"
                        ],
                        [
                          0.2222222222222222,
                          "#7201a8"
                        ],
                        [
                          0.3333333333333333,
                          "#9c179e"
                        ],
                        [
                          0.4444444444444444,
                          "#bd3786"
                        ],
                        [
                          0.5555555555555556,
                          "#d8576b"
                        ],
                        [
                          0.6666666666666666,
                          "#ed7953"
                        ],
                        [
                          0.7777777777777778,
                          "#fb9f3a"
                        ],
                        [
                          0.8888888888888888,
                          "#fdca26"
                        ],
                        [
                          1,
                          "#f0f921"
                        ]
                      ]
                    },
                    "colorway": [
                      "#636efa",
                      "#EF553B",
                      "#00cc96",
                      "#ab63fa",
                      "#FFA15A",
                      "#19d3f3",
                      "#FF6692",
                      "#B6E880",
                      "#FF97FF",
                      "#FECB52"
                    ],
                    "font": {
                      "color": "#2a3f5f"
                    },
                    "geo": {
                      "bgcolor": "white",
                      "lakecolor": "white",
                      "landcolor": "#E5ECF6",
                      "showlakes": true,
                      "showland": true,
                      "subunitcolor": "white"
                    },
                    "hoverlabel": {
                      "align": "left"
                    },
                    "hovermode": "closest",
                    "mapbox": {
                      "style": "light"
                    },
                    "paper_bgcolor": "white",
                    "plot_bgcolor": "#E5ECF6",
                    "polar": {
                      "angularaxis": {
                        "gridcolor": "white",
                        "linecolor": "white",
                        "ticks": ""
                      },
                      "bgcolor": "#E5ECF6",
                      "radialaxis": {
                        "gridcolor": "white",
                        "linecolor": "white",
                        "ticks": ""
                      }
                    },
                    "scene": {
                      "xaxis": {
                        "backgroundcolor": "#E5ECF6",
                        "gridcolor": "white",
                        "gridwidth": 2,
                        "linecolor": "white",
                        "showbackground": true,
                        "ticks": "",
                        "zerolinecolor": "white"
                      },
                      "yaxis": {
                        "backgroundcolor": "#E5ECF6",
                        "gridcolor": "white",
                        "gridwidth": 2,
                        "linecolor": "white",
                        "showbackground": true,
                        "ticks": "",
                        "zerolinecolor": "white"
                      },
                      "zaxis": {
                        "backgroundcolor": "#E5ECF6",
                        "gridcolor": "white",
                        "gridwidth": 2,
                        "linecolor": "white",
                        "showbackground": true,
                        "ticks": "",
                        "zerolinecolor": "white"
                      }
                    },
                    "shapedefaults": {
                      "line": {
                        "color": "#2a3f5f"
                      }
                    },
                    "ternary": {
                      "aaxis": {
                        "gridcolor": "white",
                        "linecolor": "white",
                        "ticks": ""
                      },
                      "baxis": {
                        "gridcolor": "white",
                        "linecolor": "white",
                        "ticks": ""
                      },
                      "bgcolor": "#E5ECF6",
                      "caxis": {
                        "gridcolor": "white",
                        "linecolor": "white",
                        "ticks": ""
                      }
                    },
                    "title": {
                      "x": 0.05
                    },
                    "xaxis": {
                      "automargin": true,
                      "gridcolor": "white",
                      "linecolor": "white",
                      "ticks": "",
                      "title": {
                        "standoff": 15
                      },
                      "zerolinecolor": "white",
                      "zerolinewidth": 2
                    },
                    "yaxis": {
                      "automargin": true,
                      "gridcolor": "white",
                      "linecolor": "white",
                      "ticks": "",
                      "title": {
                        "standoff": 15
                      },
                      "zerolinecolor": "white",
                      "zerolinewidth": 2
                    }
                  }
                },
                "title": {
                  "text": "Percentage of Female Youth Literacy Rate in Developing Countries"
                }
              }
            }
          },
          "metadata": {},
          "output_type": "display_data"
        }
      ],
      "source": [
        "# percentage female youth literacy rate in developing countries\n",
        "fig = px.choropleth(developing_countries, locations='Countries and areas', locationmode='country names',\n",
        "                    color='Youth_Literacy_Rate_Female', range_color=[0, 100],\n",
        "                    title='Percentage of Female Youth Literacy Rate in Developing Countries')\n",
        "fig.show()"
      ]
    },
    {
      "cell_type": "code",
      "execution_count": 116,
      "id": "9abcb764",
      "metadata": {
        "id": "9abcb764",
        "outputId": "dd17f966-38ee-4435-b25d-07d660ba2049"
      },
      "outputs": [
        {
          "data": {
            "application/vnd.plotly.v1+json": {
              "config": {
                "plotlyServerURL": "https://plot.ly"
              },
              "data": [
                {
                  "coloraxis": "coloraxis",
                  "geo": "geo",
                  "hovertemplate": "Countries and areas=%{location}<br>Adult_Literacy_Rate_Female=%{z}<extra></extra>",
                  "locationmode": "country names",
                  "locations": [
                    "Afghanistan",
                    "Albania",
                    "Algeria",
                    "Angola",
                    "Antigua and Barbuda",
                    "Argentina",
                    "Armenia",
                    "Azerbaijan",
                    "Bahamas",
                    "Bahrain",
                    "Bangladesh",
                    "Barbados",
                    "Belarus",
                    "Belize",
                    "Benin",
                    "Bhutan",
                    "Bosnia and Herzegovina",
                    "Botswana",
                    "Brazil",
                    "Bulgaria",
                    "Burkina Faso",
                    "Burundi",
                    "Cambodia",
                    "Cameroon",
                    "Central African Republic",
                    "Chad",
                    "Chile",
                    "China",
                    "Colombia",
                    "Comoros",
                    "Costa Rica",
                    "Democratic Republic of the Congo",
                    "Djibouti",
                    "Dominica",
                    "Dominican Republic",
                    "Ecuador",
                    "Egypt",
                    "El Salvador",
                    "Equatorial Guinea",
                    "Eritrea",
                    "Eswatini",
                    "Ethiopia",
                    "Fiji",
                    "Gabon",
                    "Gambia",
                    "Georgia",
                    "Ghana",
                    "Grenada",
                    "Guatemala",
                    "Guinea",
                    "Guinea-Bissau",
                    "Guyana",
                    "Haiti",
                    "Honduras",
                    "India",
                    "Indonesia",
                    "Iraq",
                    "Jamaica",
                    "Jordan",
                    "Kazakhstan",
                    "Kenya",
                    "Kiribati",
                    "Kuwait",
                    "Kyrgyzstan",
                    "Lebanon",
                    "Lesotho",
                    "Liberia",
                    "Libya",
                    "Madagascar",
                    "Malawi",
                    "Malaysia",
                    "Maldives",
                    "Mali",
                    "Marshall Islands",
                    "Mauritania",
                    "Mauritius",
                    "Mexico",
                    "Mongolia",
                    "Montenegro",
                    "Morocco",
                    "Mozambique",
                    "Myanmar",
                    "Namibia",
                    "Nauru",
                    "Nepal",
                    "Nicaragua",
                    "Niger",
                    "Nigeria",
                    "North Macedonia",
                    "Oman",
                    "Pakistan",
                    "Palau",
                    "Panama",
                    "Papua New Guinea",
                    "Paraguay",
                    "Peru",
                    "Philippines",
                    "Poland",
                    "Qatar",
                    "Romania",
                    "Rwanda",
                    "Saint Kitts and Nevis",
                    "Saint Lucia",
                    "Saint Vincent and the Grenadines",
                    "Samoa",
                    "Sao Tome and Principe",
                    "Saudi Arabia",
                    "Senegal",
                    "Serbia",
                    "Seychelles",
                    "Sierra Leone",
                    "Solomon Islands",
                    "Somalia",
                    "South Africa",
                    "South Sudan",
                    "Sri Lanka",
                    "Sudan",
                    "Suriname",
                    "Tajikistan",
                    "Thailand",
                    "Togo",
                    "Tonga",
                    "Trinidad and Tobago",
                    "Tunisia",
                    "Turkey",
                    "Turkmenistan",
                    "Tuvalu",
                    "Uganda",
                    "Ukraine",
                    "Uruguay",
                    "Uzbekistan",
                    "Vanuatu",
                    "Yemen",
                    "Zambia",
                    "Zimbabwe"
                  ],
                  "name": "",
                  "type": "choropleth",
                  "z": [
                    30,
                    98,
                    75,
                    58,
                    94,
                    99,
                    94,
                    94,
                    94,
                    95,
                    72,
                    94,
                    100,
                    94,
                    31,
                    58,
                    98.5,
                    94,
                    93,
                    98.5,
                    33,
                    58,
                    58,
                    72,
                    26,
                    58,
                    94,
                    95,
                    95,
                    53,
                    98,
                    58,
                    58,
                    94,
                    94,
                    94,
                    94,
                    87,
                    94,
                    69,
                    89,
                    58,
                    94,
                    83,
                    58,
                    94,
                    74,
                    94,
                    94,
                    58,
                    58,
                    94,
                    58,
                    87,
                    66,
                    94,
                    94,
                    94,
                    98,
                    100,
                    78,
                    58,
                    95,
                    99,
                    93,
                    58,
                    58,
                    94,
                    72,
                    58,
                    94,
                    94,
                    26,
                    94,
                    58,
                    89,
                    95,
                    99,
                    98,
                    65,
                    58,
                    58,
                    91,
                    94,
                    60,
                    94,
                    27,
                    53,
                    98.5,
                    93,
                    94,
                    94,
                    95,
                    94,
                    94,
                    92,
                    94,
                    98.5,
                    94,
                    99,
                    69,
                    94,
                    94,
                    94,
                    99,
                    90,
                    94,
                    58,
                    98.5,
                    96,
                    35,
                    58,
                    58,
                    94,
                    29,
                    91,
                    56,
                    93,
                    94,
                    92,
                    58,
                    99,
                    94,
                    94,
                    94,
                    94,
                    58,
                    71,
                    98.5,
                    99,
                    100,
                    87,
                    58,
                    83,
                    94
                  ]
                }
              ],
              "layout": {
                "coloraxis": {
                  "cmax": 100,
                  "cmin": 0,
                  "colorbar": {
                    "title": {
                      "text": "Adult_Literacy_Rate_Female"
                    }
                  },
                  "colorscale": [
                    [
                      0,
                      "#0d0887"
                    ],
                    [
                      0.1111111111111111,
                      "#46039f"
                    ],
                    [
                      0.2222222222222222,
                      "#7201a8"
                    ],
                    [
                      0.3333333333333333,
                      "#9c179e"
                    ],
                    [
                      0.4444444444444444,
                      "#bd3786"
                    ],
                    [
                      0.5555555555555556,
                      "#d8576b"
                    ],
                    [
                      0.6666666666666666,
                      "#ed7953"
                    ],
                    [
                      0.7777777777777778,
                      "#fb9f3a"
                    ],
                    [
                      0.8888888888888888,
                      "#fdca26"
                    ],
                    [
                      1,
                      "#f0f921"
                    ]
                  ]
                },
                "geo": {
                  "center": {},
                  "domain": {
                    "x": [
                      0,
                      1
                    ],
                    "y": [
                      0,
                      1
                    ]
                  }
                },
                "legend": {
                  "tracegroupgap": 0
                },
                "template": {
                  "data": {
                    "bar": [
                      {
                        "error_x": {
                          "color": "#2a3f5f"
                        },
                        "error_y": {
                          "color": "#2a3f5f"
                        },
                        "marker": {
                          "line": {
                            "color": "#E5ECF6",
                            "width": 0.5
                          },
                          "pattern": {
                            "fillmode": "overlay",
                            "size": 10,
                            "solidity": 0.2
                          }
                        },
                        "type": "bar"
                      }
                    ],
                    "barpolar": [
                      {
                        "marker": {
                          "line": {
                            "color": "#E5ECF6",
                            "width": 0.5
                          },
                          "pattern": {
                            "fillmode": "overlay",
                            "size": 10,
                            "solidity": 0.2
                          }
                        },
                        "type": "barpolar"
                      }
                    ],
                    "carpet": [
                      {
                        "aaxis": {
                          "endlinecolor": "#2a3f5f",
                          "gridcolor": "white",
                          "linecolor": "white",
                          "minorgridcolor": "white",
                          "startlinecolor": "#2a3f5f"
                        },
                        "baxis": {
                          "endlinecolor": "#2a3f5f",
                          "gridcolor": "white",
                          "linecolor": "white",
                          "minorgridcolor": "white",
                          "startlinecolor": "#2a3f5f"
                        },
                        "type": "carpet"
                      }
                    ],
                    "choropleth": [
                      {
                        "colorbar": {
                          "outlinewidth": 0,
                          "ticks": ""
                        },
                        "type": "choropleth"
                      }
                    ],
                    "contour": [
                      {
                        "colorbar": {
                          "outlinewidth": 0,
                          "ticks": ""
                        },
                        "colorscale": [
                          [
                            0,
                            "#0d0887"
                          ],
                          [
                            0.1111111111111111,
                            "#46039f"
                          ],
                          [
                            0.2222222222222222,
                            "#7201a8"
                          ],
                          [
                            0.3333333333333333,
                            "#9c179e"
                          ],
                          [
                            0.4444444444444444,
                            "#bd3786"
                          ],
                          [
                            0.5555555555555556,
                            "#d8576b"
                          ],
                          [
                            0.6666666666666666,
                            "#ed7953"
                          ],
                          [
                            0.7777777777777778,
                            "#fb9f3a"
                          ],
                          [
                            0.8888888888888888,
                            "#fdca26"
                          ],
                          [
                            1,
                            "#f0f921"
                          ]
                        ],
                        "type": "contour"
                      }
                    ],
                    "contourcarpet": [
                      {
                        "colorbar": {
                          "outlinewidth": 0,
                          "ticks": ""
                        },
                        "type": "contourcarpet"
                      }
                    ],
                    "heatmap": [
                      {
                        "colorbar": {
                          "outlinewidth": 0,
                          "ticks": ""
                        },
                        "colorscale": [
                          [
                            0,
                            "#0d0887"
                          ],
                          [
                            0.1111111111111111,
                            "#46039f"
                          ],
                          [
                            0.2222222222222222,
                            "#7201a8"
                          ],
                          [
                            0.3333333333333333,
                            "#9c179e"
                          ],
                          [
                            0.4444444444444444,
                            "#bd3786"
                          ],
                          [
                            0.5555555555555556,
                            "#d8576b"
                          ],
                          [
                            0.6666666666666666,
                            "#ed7953"
                          ],
                          [
                            0.7777777777777778,
                            "#fb9f3a"
                          ],
                          [
                            0.8888888888888888,
                            "#fdca26"
                          ],
                          [
                            1,
                            "#f0f921"
                          ]
                        ],
                        "type": "heatmap"
                      }
                    ],
                    "heatmapgl": [
                      {
                        "colorbar": {
                          "outlinewidth": 0,
                          "ticks": ""
                        },
                        "colorscale": [
                          [
                            0,
                            "#0d0887"
                          ],
                          [
                            0.1111111111111111,
                            "#46039f"
                          ],
                          [
                            0.2222222222222222,
                            "#7201a8"
                          ],
                          [
                            0.3333333333333333,
                            "#9c179e"
                          ],
                          [
                            0.4444444444444444,
                            "#bd3786"
                          ],
                          [
                            0.5555555555555556,
                            "#d8576b"
                          ],
                          [
                            0.6666666666666666,
                            "#ed7953"
                          ],
                          [
                            0.7777777777777778,
                            "#fb9f3a"
                          ],
                          [
                            0.8888888888888888,
                            "#fdca26"
                          ],
                          [
                            1,
                            "#f0f921"
                          ]
                        ],
                        "type": "heatmapgl"
                      }
                    ],
                    "histogram": [
                      {
                        "marker": {
                          "pattern": {
                            "fillmode": "overlay",
                            "size": 10,
                            "solidity": 0.2
                          }
                        },
                        "type": "histogram"
                      }
                    ],
                    "histogram2d": [
                      {
                        "colorbar": {
                          "outlinewidth": 0,
                          "ticks": ""
                        },
                        "colorscale": [
                          [
                            0,
                            "#0d0887"
                          ],
                          [
                            0.1111111111111111,
                            "#46039f"
                          ],
                          [
                            0.2222222222222222,
                            "#7201a8"
                          ],
                          [
                            0.3333333333333333,
                            "#9c179e"
                          ],
                          [
                            0.4444444444444444,
                            "#bd3786"
                          ],
                          [
                            0.5555555555555556,
                            "#d8576b"
                          ],
                          [
                            0.6666666666666666,
                            "#ed7953"
                          ],
                          [
                            0.7777777777777778,
                            "#fb9f3a"
                          ],
                          [
                            0.8888888888888888,
                            "#fdca26"
                          ],
                          [
                            1,
                            "#f0f921"
                          ]
                        ],
                        "type": "histogram2d"
                      }
                    ],
                    "histogram2dcontour": [
                      {
                        "colorbar": {
                          "outlinewidth": 0,
                          "ticks": ""
                        },
                        "colorscale": [
                          [
                            0,
                            "#0d0887"
                          ],
                          [
                            0.1111111111111111,
                            "#46039f"
                          ],
                          [
                            0.2222222222222222,
                            "#7201a8"
                          ],
                          [
                            0.3333333333333333,
                            "#9c179e"
                          ],
                          [
                            0.4444444444444444,
                            "#bd3786"
                          ],
                          [
                            0.5555555555555556,
                            "#d8576b"
                          ],
                          [
                            0.6666666666666666,
                            "#ed7953"
                          ],
                          [
                            0.7777777777777778,
                            "#fb9f3a"
                          ],
                          [
                            0.8888888888888888,
                            "#fdca26"
                          ],
                          [
                            1,
                            "#f0f921"
                          ]
                        ],
                        "type": "histogram2dcontour"
                      }
                    ],
                    "mesh3d": [
                      {
                        "colorbar": {
                          "outlinewidth": 0,
                          "ticks": ""
                        },
                        "type": "mesh3d"
                      }
                    ],
                    "parcoords": [
                      {
                        "line": {
                          "colorbar": {
                            "outlinewidth": 0,
                            "ticks": ""
                          }
                        },
                        "type": "parcoords"
                      }
                    ],
                    "pie": [
                      {
                        "automargin": true,
                        "type": "pie"
                      }
                    ],
                    "scatter": [
                      {
                        "fillpattern": {
                          "fillmode": "overlay",
                          "size": 10,
                          "solidity": 0.2
                        },
                        "type": "scatter"
                      }
                    ],
                    "scatter3d": [
                      {
                        "line": {
                          "colorbar": {
                            "outlinewidth": 0,
                            "ticks": ""
                          }
                        },
                        "marker": {
                          "colorbar": {
                            "outlinewidth": 0,
                            "ticks": ""
                          }
                        },
                        "type": "scatter3d"
                      }
                    ],
                    "scattercarpet": [
                      {
                        "marker": {
                          "colorbar": {
                            "outlinewidth": 0,
                            "ticks": ""
                          }
                        },
                        "type": "scattercarpet"
                      }
                    ],
                    "scattergeo": [
                      {
                        "marker": {
                          "colorbar": {
                            "outlinewidth": 0,
                            "ticks": ""
                          }
                        },
                        "type": "scattergeo"
                      }
                    ],
                    "scattergl": [
                      {
                        "marker": {
                          "colorbar": {
                            "outlinewidth": 0,
                            "ticks": ""
                          }
                        },
                        "type": "scattergl"
                      }
                    ],
                    "scattermapbox": [
                      {
                        "marker": {
                          "colorbar": {
                            "outlinewidth": 0,
                            "ticks": ""
                          }
                        },
                        "type": "scattermapbox"
                      }
                    ],
                    "scatterpolar": [
                      {
                        "marker": {
                          "colorbar": {
                            "outlinewidth": 0,
                            "ticks": ""
                          }
                        },
                        "type": "scatterpolar"
                      }
                    ],
                    "scatterpolargl": [
                      {
                        "marker": {
                          "colorbar": {
                            "outlinewidth": 0,
                            "ticks": ""
                          }
                        },
                        "type": "scatterpolargl"
                      }
                    ],
                    "scatterternary": [
                      {
                        "marker": {
                          "colorbar": {
                            "outlinewidth": 0,
                            "ticks": ""
                          }
                        },
                        "type": "scatterternary"
                      }
                    ],
                    "surface": [
                      {
                        "colorbar": {
                          "outlinewidth": 0,
                          "ticks": ""
                        },
                        "colorscale": [
                          [
                            0,
                            "#0d0887"
                          ],
                          [
                            0.1111111111111111,
                            "#46039f"
                          ],
                          [
                            0.2222222222222222,
                            "#7201a8"
                          ],
                          [
                            0.3333333333333333,
                            "#9c179e"
                          ],
                          [
                            0.4444444444444444,
                            "#bd3786"
                          ],
                          [
                            0.5555555555555556,
                            "#d8576b"
                          ],
                          [
                            0.6666666666666666,
                            "#ed7953"
                          ],
                          [
                            0.7777777777777778,
                            "#fb9f3a"
                          ],
                          [
                            0.8888888888888888,
                            "#fdca26"
                          ],
                          [
                            1,
                            "#f0f921"
                          ]
                        ],
                        "type": "surface"
                      }
                    ],
                    "table": [
                      {
                        "cells": {
                          "fill": {
                            "color": "#EBF0F8"
                          },
                          "line": {
                            "color": "white"
                          }
                        },
                        "header": {
                          "fill": {
                            "color": "#C8D4E3"
                          },
                          "line": {
                            "color": "white"
                          }
                        },
                        "type": "table"
                      }
                    ]
                  },
                  "layout": {
                    "annotationdefaults": {
                      "arrowcolor": "#2a3f5f",
                      "arrowhead": 0,
                      "arrowwidth": 1
                    },
                    "autotypenumbers": "strict",
                    "coloraxis": {
                      "colorbar": {
                        "outlinewidth": 0,
                        "ticks": ""
                      }
                    },
                    "colorscale": {
                      "diverging": [
                        [
                          0,
                          "#8e0152"
                        ],
                        [
                          0.1,
                          "#c51b7d"
                        ],
                        [
                          0.2,
                          "#de77ae"
                        ],
                        [
                          0.3,
                          "#f1b6da"
                        ],
                        [
                          0.4,
                          "#fde0ef"
                        ],
                        [
                          0.5,
                          "#f7f7f7"
                        ],
                        [
                          0.6,
                          "#e6f5d0"
                        ],
                        [
                          0.7,
                          "#b8e186"
                        ],
                        [
                          0.8,
                          "#7fbc41"
                        ],
                        [
                          0.9,
                          "#4d9221"
                        ],
                        [
                          1,
                          "#276419"
                        ]
                      ],
                      "sequential": [
                        [
                          0,
                          "#0d0887"
                        ],
                        [
                          0.1111111111111111,
                          "#46039f"
                        ],
                        [
                          0.2222222222222222,
                          "#7201a8"
                        ],
                        [
                          0.3333333333333333,
                          "#9c179e"
                        ],
                        [
                          0.4444444444444444,
                          "#bd3786"
                        ],
                        [
                          0.5555555555555556,
                          "#d8576b"
                        ],
                        [
                          0.6666666666666666,
                          "#ed7953"
                        ],
                        [
                          0.7777777777777778,
                          "#fb9f3a"
                        ],
                        [
                          0.8888888888888888,
                          "#fdca26"
                        ],
                        [
                          1,
                          "#f0f921"
                        ]
                      ],
                      "sequentialminus": [
                        [
                          0,
                          "#0d0887"
                        ],
                        [
                          0.1111111111111111,
                          "#46039f"
                        ],
                        [
                          0.2222222222222222,
                          "#7201a8"
                        ],
                        [
                          0.3333333333333333,
                          "#9c179e"
                        ],
                        [
                          0.4444444444444444,
                          "#bd3786"
                        ],
                        [
                          0.5555555555555556,
                          "#d8576b"
                        ],
                        [
                          0.6666666666666666,
                          "#ed7953"
                        ],
                        [
                          0.7777777777777778,
                          "#fb9f3a"
                        ],
                        [
                          0.8888888888888888,
                          "#fdca26"
                        ],
                        [
                          1,
                          "#f0f921"
                        ]
                      ]
                    },
                    "colorway": [
                      "#636efa",
                      "#EF553B",
                      "#00cc96",
                      "#ab63fa",
                      "#FFA15A",
                      "#19d3f3",
                      "#FF6692",
                      "#B6E880",
                      "#FF97FF",
                      "#FECB52"
                    ],
                    "font": {
                      "color": "#2a3f5f"
                    },
                    "geo": {
                      "bgcolor": "white",
                      "lakecolor": "white",
                      "landcolor": "#E5ECF6",
                      "showlakes": true,
                      "showland": true,
                      "subunitcolor": "white"
                    },
                    "hoverlabel": {
                      "align": "left"
                    },
                    "hovermode": "closest",
                    "mapbox": {
                      "style": "light"
                    },
                    "paper_bgcolor": "white",
                    "plot_bgcolor": "#E5ECF6",
                    "polar": {
                      "angularaxis": {
                        "gridcolor": "white",
                        "linecolor": "white",
                        "ticks": ""
                      },
                      "bgcolor": "#E5ECF6",
                      "radialaxis": {
                        "gridcolor": "white",
                        "linecolor": "white",
                        "ticks": ""
                      }
                    },
                    "scene": {
                      "xaxis": {
                        "backgroundcolor": "#E5ECF6",
                        "gridcolor": "white",
                        "gridwidth": 2,
                        "linecolor": "white",
                        "showbackground": true,
                        "ticks": "",
                        "zerolinecolor": "white"
                      },
                      "yaxis": {
                        "backgroundcolor": "#E5ECF6",
                        "gridcolor": "white",
                        "gridwidth": 2,
                        "linecolor": "white",
                        "showbackground": true,
                        "ticks": "",
                        "zerolinecolor": "white"
                      },
                      "zaxis": {
                        "backgroundcolor": "#E5ECF6",
                        "gridcolor": "white",
                        "gridwidth": 2,
                        "linecolor": "white",
                        "showbackground": true,
                        "ticks": "",
                        "zerolinecolor": "white"
                      }
                    },
                    "shapedefaults": {
                      "line": {
                        "color": "#2a3f5f"
                      }
                    },
                    "ternary": {
                      "aaxis": {
                        "gridcolor": "white",
                        "linecolor": "white",
                        "ticks": ""
                      },
                      "baxis": {
                        "gridcolor": "white",
                        "linecolor": "white",
                        "ticks": ""
                      },
                      "bgcolor": "#E5ECF6",
                      "caxis": {
                        "gridcolor": "white",
                        "linecolor": "white",
                        "ticks": ""
                      }
                    },
                    "title": {
                      "x": 0.05
                    },
                    "xaxis": {
                      "automargin": true,
                      "gridcolor": "white",
                      "linecolor": "white",
                      "ticks": "",
                      "title": {
                        "standoff": 15
                      },
                      "zerolinecolor": "white",
                      "zerolinewidth": 2
                    },
                    "yaxis": {
                      "automargin": true,
                      "gridcolor": "white",
                      "linecolor": "white",
                      "ticks": "",
                      "title": {
                        "standoff": 15
                      },
                      "zerolinecolor": "white",
                      "zerolinewidth": 2
                    }
                  }
                },
                "title": {
                  "text": "Percentage of Female Adult Literacy Rate in Developing Countries"
                }
              }
            }
          },
          "metadata": {},
          "output_type": "display_data"
        }
      ],
      "source": [
        "# percentage female adult literacy rate in developing countries\n",
        "fig = px.choropleth(developing_countries, locations='Countries and areas', locationmode='country names',\n",
        "                    color='Adult_Literacy_Rate_Female', range_color=[0, 100],\n",
        "                    title='Percentage of Female Adult Literacy Rate in Developing Countries')\n",
        "fig.show()"
      ]
    },
    {
      "cell_type": "code",
      "execution_count": 117,
      "id": "1496198b",
      "metadata": {
        "id": "1496198b",
        "outputId": "f670bb50-fad6-4f8d-ae4e-f68ef4539f9b",
        "scrolled": true
      },
      "outputs": [
        {
          "data": {
            "application/vnd.plotly.v1+json": {
              "config": {
                "plotlyServerURL": "https://plot.ly"
              },
              "data": [
                {
                  "coloraxis": "coloraxis",
                  "geo": "geo",
                  "hovertemplate": "Countries and areas=%{location}<br>Youth_Literacy_Rate_Male=%{z}<extra></extra>",
                  "locationmode": "country names",
                  "locations": [
                    "Afghanistan",
                    "Albania",
                    "Algeria",
                    "Angola",
                    "Antigua and Barbuda",
                    "Argentina",
                    "Armenia",
                    "Azerbaijan",
                    "Bahamas",
                    "Bahrain",
                    "Bangladesh",
                    "Barbados",
                    "Belarus",
                    "Belize",
                    "Benin",
                    "Bhutan",
                    "Bosnia and Herzegovina",
                    "Botswana",
                    "Brazil",
                    "Bulgaria",
                    "Burkina Faso",
                    "Burundi",
                    "Cambodia",
                    "Cameroon",
                    "Central African Republic",
                    "Chad",
                    "Chile",
                    "China",
                    "Colombia",
                    "Comoros",
                    "Costa Rica",
                    "Democratic Republic of the Congo",
                    "Djibouti",
                    "Dominica",
                    "Dominican Republic",
                    "Ecuador",
                    "Egypt",
                    "El Salvador",
                    "Equatorial Guinea",
                    "Eritrea",
                    "Eswatini",
                    "Ethiopia",
                    "Fiji",
                    "Gabon",
                    "Gambia",
                    "Georgia",
                    "Ghana",
                    "Grenada",
                    "Guatemala",
                    "Guinea",
                    "Guinea-Bissau",
                    "Guyana",
                    "Haiti",
                    "Honduras",
                    "India",
                    "Indonesia",
                    "Iraq",
                    "Jamaica",
                    "Jordan",
                    "Kazakhstan",
                    "Kenya",
                    "Kiribati",
                    "Kuwait",
                    "Kyrgyzstan",
                    "Lebanon",
                    "Lesotho",
                    "Liberia",
                    "Libya",
                    "Madagascar",
                    "Malawi",
                    "Malaysia",
                    "Maldives",
                    "Mali",
                    "Marshall Islands",
                    "Mauritania",
                    "Mauritius",
                    "Mexico",
                    "Mongolia",
                    "Montenegro",
                    "Morocco",
                    "Mozambique",
                    "Myanmar",
                    "Namibia",
                    "Nauru",
                    "Nepal",
                    "Nicaragua",
                    "Niger",
                    "Nigeria",
                    "North Macedonia",
                    "Oman",
                    "Pakistan",
                    "Palau",
                    "Panama",
                    "Papua New Guinea",
                    "Paraguay",
                    "Peru",
                    "Philippines",
                    "Poland",
                    "Qatar",
                    "Romania",
                    "Rwanda",
                    "Saint Kitts and Nevis",
                    "Saint Lucia",
                    "Saint Vincent and the Grenadines",
                    "Samoa",
                    "Sao Tome and Principe",
                    "Saudi Arabia",
                    "Senegal",
                    "Serbia",
                    "Seychelles",
                    "Sierra Leone",
                    "Solomon Islands",
                    "Somalia",
                    "South Africa",
                    "South Sudan",
                    "Sri Lanka",
                    "Sudan",
                    "Suriname",
                    "Tajikistan",
                    "Thailand",
                    "Togo",
                    "Tonga",
                    "Trinidad and Tobago",
                    "Tunisia",
                    "Turkey",
                    "Turkmenistan",
                    "Tuvalu",
                    "Uganda",
                    "Ukraine",
                    "Uruguay",
                    "Uzbekistan",
                    "Vanuatu",
                    "Yemen",
                    "Zambia",
                    "Zimbabwe"
                  ],
                  "name": "",
                  "type": "choropleth",
                  "z": [
                    74,
                    99,
                    98,
                    80,
                    99,
                    99,
                    99,
                    99,
                    99,
                    100,
                    94,
                    99,
                    100,
                    99,
                    70,
                    80,
                    100,
                    99,
                    99,
                    100,
                    62,
                    80,
                    80,
                    88,
                    48,
                    80,
                    99,
                    100,
                    99,
                    78,
                    99,
                    80,
                    80,
                    99,
                    99,
                    99,
                    99,
                    98,
                    99,
                    94,
                    94,
                    80,
                    99,
                    88,
                    80,
                    99,
                    93,
                    99,
                    99,
                    80,
                    80,
                    99,
                    80,
                    95,
                    93,
                    100,
                    99,
                    99,
                    99,
                    100,
                    88,
                    80,
                    99,
                    100,
                    100,
                    80,
                    80,
                    99,
                    82,
                    80,
                    97,
                    99,
                    58,
                    99,
                    80,
                    99,
                    99,
                    98,
                    99,
                    98,
                    80,
                    80,
                    94,
                    99,
                    94,
                    99,
                    51,
                    82,
                    100,
                    98,
                    99,
                    99,
                    99,
                    99,
                    98,
                    99,
                    99,
                    100,
                    99,
                    99,
                    84,
                    99,
                    99,
                    99,
                    99,
                    98,
                    99,
                    80,
                    100,
                    99,
                    71,
                    80,
                    80,
                    99,
                    48,
                    99,
                    73,
                    99,
                    99,
                    98,
                    80,
                    99,
                    99,
                    99,
                    99,
                    99,
                    80,
                    89,
                    100,
                    99,
                    100,
                    96,
                    80,
                    93,
                    99
                  ]
                }
              ],
              "layout": {
                "coloraxis": {
                  "cmax": 100,
                  "cmin": 0,
                  "colorbar": {
                    "title": {
                      "text": "Youth_Literacy_Rate_Male"
                    }
                  },
                  "colorscale": [
                    [
                      0,
                      "#0d0887"
                    ],
                    [
                      0.1111111111111111,
                      "#46039f"
                    ],
                    [
                      0.2222222222222222,
                      "#7201a8"
                    ],
                    [
                      0.3333333333333333,
                      "#9c179e"
                    ],
                    [
                      0.4444444444444444,
                      "#bd3786"
                    ],
                    [
                      0.5555555555555556,
                      "#d8576b"
                    ],
                    [
                      0.6666666666666666,
                      "#ed7953"
                    ],
                    [
                      0.7777777777777778,
                      "#fb9f3a"
                    ],
                    [
                      0.8888888888888888,
                      "#fdca26"
                    ],
                    [
                      1,
                      "#f0f921"
                    ]
                  ]
                },
                "geo": {
                  "center": {},
                  "domain": {
                    "x": [
                      0,
                      1
                    ],
                    "y": [
                      0,
                      1
                    ]
                  }
                },
                "legend": {
                  "tracegroupgap": 0
                },
                "template": {
                  "data": {
                    "bar": [
                      {
                        "error_x": {
                          "color": "#2a3f5f"
                        },
                        "error_y": {
                          "color": "#2a3f5f"
                        },
                        "marker": {
                          "line": {
                            "color": "#E5ECF6",
                            "width": 0.5
                          },
                          "pattern": {
                            "fillmode": "overlay",
                            "size": 10,
                            "solidity": 0.2
                          }
                        },
                        "type": "bar"
                      }
                    ],
                    "barpolar": [
                      {
                        "marker": {
                          "line": {
                            "color": "#E5ECF6",
                            "width": 0.5
                          },
                          "pattern": {
                            "fillmode": "overlay",
                            "size": 10,
                            "solidity": 0.2
                          }
                        },
                        "type": "barpolar"
                      }
                    ],
                    "carpet": [
                      {
                        "aaxis": {
                          "endlinecolor": "#2a3f5f",
                          "gridcolor": "white",
                          "linecolor": "white",
                          "minorgridcolor": "white",
                          "startlinecolor": "#2a3f5f"
                        },
                        "baxis": {
                          "endlinecolor": "#2a3f5f",
                          "gridcolor": "white",
                          "linecolor": "white",
                          "minorgridcolor": "white",
                          "startlinecolor": "#2a3f5f"
                        },
                        "type": "carpet"
                      }
                    ],
                    "choropleth": [
                      {
                        "colorbar": {
                          "outlinewidth": 0,
                          "ticks": ""
                        },
                        "type": "choropleth"
                      }
                    ],
                    "contour": [
                      {
                        "colorbar": {
                          "outlinewidth": 0,
                          "ticks": ""
                        },
                        "colorscale": [
                          [
                            0,
                            "#0d0887"
                          ],
                          [
                            0.1111111111111111,
                            "#46039f"
                          ],
                          [
                            0.2222222222222222,
                            "#7201a8"
                          ],
                          [
                            0.3333333333333333,
                            "#9c179e"
                          ],
                          [
                            0.4444444444444444,
                            "#bd3786"
                          ],
                          [
                            0.5555555555555556,
                            "#d8576b"
                          ],
                          [
                            0.6666666666666666,
                            "#ed7953"
                          ],
                          [
                            0.7777777777777778,
                            "#fb9f3a"
                          ],
                          [
                            0.8888888888888888,
                            "#fdca26"
                          ],
                          [
                            1,
                            "#f0f921"
                          ]
                        ],
                        "type": "contour"
                      }
                    ],
                    "contourcarpet": [
                      {
                        "colorbar": {
                          "outlinewidth": 0,
                          "ticks": ""
                        },
                        "type": "contourcarpet"
                      }
                    ],
                    "heatmap": [
                      {
                        "colorbar": {
                          "outlinewidth": 0,
                          "ticks": ""
                        },
                        "colorscale": [
                          [
                            0,
                            "#0d0887"
                          ],
                          [
                            0.1111111111111111,
                            "#46039f"
                          ],
                          [
                            0.2222222222222222,
                            "#7201a8"
                          ],
                          [
                            0.3333333333333333,
                            "#9c179e"
                          ],
                          [
                            0.4444444444444444,
                            "#bd3786"
                          ],
                          [
                            0.5555555555555556,
                            "#d8576b"
                          ],
                          [
                            0.6666666666666666,
                            "#ed7953"
                          ],
                          [
                            0.7777777777777778,
                            "#fb9f3a"
                          ],
                          [
                            0.8888888888888888,
                            "#fdca26"
                          ],
                          [
                            1,
                            "#f0f921"
                          ]
                        ],
                        "type": "heatmap"
                      }
                    ],
                    "heatmapgl": [
                      {
                        "colorbar": {
                          "outlinewidth": 0,
                          "ticks": ""
                        },
                        "colorscale": [
                          [
                            0,
                            "#0d0887"
                          ],
                          [
                            0.1111111111111111,
                            "#46039f"
                          ],
                          [
                            0.2222222222222222,
                            "#7201a8"
                          ],
                          [
                            0.3333333333333333,
                            "#9c179e"
                          ],
                          [
                            0.4444444444444444,
                            "#bd3786"
                          ],
                          [
                            0.5555555555555556,
                            "#d8576b"
                          ],
                          [
                            0.6666666666666666,
                            "#ed7953"
                          ],
                          [
                            0.7777777777777778,
                            "#fb9f3a"
                          ],
                          [
                            0.8888888888888888,
                            "#fdca26"
                          ],
                          [
                            1,
                            "#f0f921"
                          ]
                        ],
                        "type": "heatmapgl"
                      }
                    ],
                    "histogram": [
                      {
                        "marker": {
                          "pattern": {
                            "fillmode": "overlay",
                            "size": 10,
                            "solidity": 0.2
                          }
                        },
                        "type": "histogram"
                      }
                    ],
                    "histogram2d": [
                      {
                        "colorbar": {
                          "outlinewidth": 0,
                          "ticks": ""
                        },
                        "colorscale": [
                          [
                            0,
                            "#0d0887"
                          ],
                          [
                            0.1111111111111111,
                            "#46039f"
                          ],
                          [
                            0.2222222222222222,
                            "#7201a8"
                          ],
                          [
                            0.3333333333333333,
                            "#9c179e"
                          ],
                          [
                            0.4444444444444444,
                            "#bd3786"
                          ],
                          [
                            0.5555555555555556,
                            "#d8576b"
                          ],
                          [
                            0.6666666666666666,
                            "#ed7953"
                          ],
                          [
                            0.7777777777777778,
                            "#fb9f3a"
                          ],
                          [
                            0.8888888888888888,
                            "#fdca26"
                          ],
                          [
                            1,
                            "#f0f921"
                          ]
                        ],
                        "type": "histogram2d"
                      }
                    ],
                    "histogram2dcontour": [
                      {
                        "colorbar": {
                          "outlinewidth": 0,
                          "ticks": ""
                        },
                        "colorscale": [
                          [
                            0,
                            "#0d0887"
                          ],
                          [
                            0.1111111111111111,
                            "#46039f"
                          ],
                          [
                            0.2222222222222222,
                            "#7201a8"
                          ],
                          [
                            0.3333333333333333,
                            "#9c179e"
                          ],
                          [
                            0.4444444444444444,
                            "#bd3786"
                          ],
                          [
                            0.5555555555555556,
                            "#d8576b"
                          ],
                          [
                            0.6666666666666666,
                            "#ed7953"
                          ],
                          [
                            0.7777777777777778,
                            "#fb9f3a"
                          ],
                          [
                            0.8888888888888888,
                            "#fdca26"
                          ],
                          [
                            1,
                            "#f0f921"
                          ]
                        ],
                        "type": "histogram2dcontour"
                      }
                    ],
                    "mesh3d": [
                      {
                        "colorbar": {
                          "outlinewidth": 0,
                          "ticks": ""
                        },
                        "type": "mesh3d"
                      }
                    ],
                    "parcoords": [
                      {
                        "line": {
                          "colorbar": {
                            "outlinewidth": 0,
                            "ticks": ""
                          }
                        },
                        "type": "parcoords"
                      }
                    ],
                    "pie": [
                      {
                        "automargin": true,
                        "type": "pie"
                      }
                    ],
                    "scatter": [
                      {
                        "fillpattern": {
                          "fillmode": "overlay",
                          "size": 10,
                          "solidity": 0.2
                        },
                        "type": "scatter"
                      }
                    ],
                    "scatter3d": [
                      {
                        "line": {
                          "colorbar": {
                            "outlinewidth": 0,
                            "ticks": ""
                          }
                        },
                        "marker": {
                          "colorbar": {
                            "outlinewidth": 0,
                            "ticks": ""
                          }
                        },
                        "type": "scatter3d"
                      }
                    ],
                    "scattercarpet": [
                      {
                        "marker": {
                          "colorbar": {
                            "outlinewidth": 0,
                            "ticks": ""
                          }
                        },
                        "type": "scattercarpet"
                      }
                    ],
                    "scattergeo": [
                      {
                        "marker": {
                          "colorbar": {
                            "outlinewidth": 0,
                            "ticks": ""
                          }
                        },
                        "type": "scattergeo"
                      }
                    ],
                    "scattergl": [
                      {
                        "marker": {
                          "colorbar": {
                            "outlinewidth": 0,
                            "ticks": ""
                          }
                        },
                        "type": "scattergl"
                      }
                    ],
                    "scattermapbox": [
                      {
                        "marker": {
                          "colorbar": {
                            "outlinewidth": 0,
                            "ticks": ""
                          }
                        },
                        "type": "scattermapbox"
                      }
                    ],
                    "scatterpolar": [
                      {
                        "marker": {
                          "colorbar": {
                            "outlinewidth": 0,
                            "ticks": ""
                          }
                        },
                        "type": "scatterpolar"
                      }
                    ],
                    "scatterpolargl": [
                      {
                        "marker": {
                          "colorbar": {
                            "outlinewidth": 0,
                            "ticks": ""
                          }
                        },
                        "type": "scatterpolargl"
                      }
                    ],
                    "scatterternary": [
                      {
                        "marker": {
                          "colorbar": {
                            "outlinewidth": 0,
                            "ticks": ""
                          }
                        },
                        "type": "scatterternary"
                      }
                    ],
                    "surface": [
                      {
                        "colorbar": {
                          "outlinewidth": 0,
                          "ticks": ""
                        },
                        "colorscale": [
                          [
                            0,
                            "#0d0887"
                          ],
                          [
                            0.1111111111111111,
                            "#46039f"
                          ],
                          [
                            0.2222222222222222,
                            "#7201a8"
                          ],
                          [
                            0.3333333333333333,
                            "#9c179e"
                          ],
                          [
                            0.4444444444444444,
                            "#bd3786"
                          ],
                          [
                            0.5555555555555556,
                            "#d8576b"
                          ],
                          [
                            0.6666666666666666,
                            "#ed7953"
                          ],
                          [
                            0.7777777777777778,
                            "#fb9f3a"
                          ],
                          [
                            0.8888888888888888,
                            "#fdca26"
                          ],
                          [
                            1,
                            "#f0f921"
                          ]
                        ],
                        "type": "surface"
                      }
                    ],
                    "table": [
                      {
                        "cells": {
                          "fill": {
                            "color": "#EBF0F8"
                          },
                          "line": {
                            "color": "white"
                          }
                        },
                        "header": {
                          "fill": {
                            "color": "#C8D4E3"
                          },
                          "line": {
                            "color": "white"
                          }
                        },
                        "type": "table"
                      }
                    ]
                  },
                  "layout": {
                    "annotationdefaults": {
                      "arrowcolor": "#2a3f5f",
                      "arrowhead": 0,
                      "arrowwidth": 1
                    },
                    "autotypenumbers": "strict",
                    "coloraxis": {
                      "colorbar": {
                        "outlinewidth": 0,
                        "ticks": ""
                      }
                    },
                    "colorscale": {
                      "diverging": [
                        [
                          0,
                          "#8e0152"
                        ],
                        [
                          0.1,
                          "#c51b7d"
                        ],
                        [
                          0.2,
                          "#de77ae"
                        ],
                        [
                          0.3,
                          "#f1b6da"
                        ],
                        [
                          0.4,
                          "#fde0ef"
                        ],
                        [
                          0.5,
                          "#f7f7f7"
                        ],
                        [
                          0.6,
                          "#e6f5d0"
                        ],
                        [
                          0.7,
                          "#b8e186"
                        ],
                        [
                          0.8,
                          "#7fbc41"
                        ],
                        [
                          0.9,
                          "#4d9221"
                        ],
                        [
                          1,
                          "#276419"
                        ]
                      ],
                      "sequential": [
                        [
                          0,
                          "#0d0887"
                        ],
                        [
                          0.1111111111111111,
                          "#46039f"
                        ],
                        [
                          0.2222222222222222,
                          "#7201a8"
                        ],
                        [
                          0.3333333333333333,
                          "#9c179e"
                        ],
                        [
                          0.4444444444444444,
                          "#bd3786"
                        ],
                        [
                          0.5555555555555556,
                          "#d8576b"
                        ],
                        [
                          0.6666666666666666,
                          "#ed7953"
                        ],
                        [
                          0.7777777777777778,
                          "#fb9f3a"
                        ],
                        [
                          0.8888888888888888,
                          "#fdca26"
                        ],
                        [
                          1,
                          "#f0f921"
                        ]
                      ],
                      "sequentialminus": [
                        [
                          0,
                          "#0d0887"
                        ],
                        [
                          0.1111111111111111,
                          "#46039f"
                        ],
                        [
                          0.2222222222222222,
                          "#7201a8"
                        ],
                        [
                          0.3333333333333333,
                          "#9c179e"
                        ],
                        [
                          0.4444444444444444,
                          "#bd3786"
                        ],
                        [
                          0.5555555555555556,
                          "#d8576b"
                        ],
                        [
                          0.6666666666666666,
                          "#ed7953"
                        ],
                        [
                          0.7777777777777778,
                          "#fb9f3a"
                        ],
                        [
                          0.8888888888888888,
                          "#fdca26"
                        ],
                        [
                          1,
                          "#f0f921"
                        ]
                      ]
                    },
                    "colorway": [
                      "#636efa",
                      "#EF553B",
                      "#00cc96",
                      "#ab63fa",
                      "#FFA15A",
                      "#19d3f3",
                      "#FF6692",
                      "#B6E880",
                      "#FF97FF",
                      "#FECB52"
                    ],
                    "font": {
                      "color": "#2a3f5f"
                    },
                    "geo": {
                      "bgcolor": "white",
                      "lakecolor": "white",
                      "landcolor": "#E5ECF6",
                      "showlakes": true,
                      "showland": true,
                      "subunitcolor": "white"
                    },
                    "hoverlabel": {
                      "align": "left"
                    },
                    "hovermode": "closest",
                    "mapbox": {
                      "style": "light"
                    },
                    "paper_bgcolor": "white",
                    "plot_bgcolor": "#E5ECF6",
                    "polar": {
                      "angularaxis": {
                        "gridcolor": "white",
                        "linecolor": "white",
                        "ticks": ""
                      },
                      "bgcolor": "#E5ECF6",
                      "radialaxis": {
                        "gridcolor": "white",
                        "linecolor": "white",
                        "ticks": ""
                      }
                    },
                    "scene": {
                      "xaxis": {
                        "backgroundcolor": "#E5ECF6",
                        "gridcolor": "white",
                        "gridwidth": 2,
                        "linecolor": "white",
                        "showbackground": true,
                        "ticks": "",
                        "zerolinecolor": "white"
                      },
                      "yaxis": {
                        "backgroundcolor": "#E5ECF6",
                        "gridcolor": "white",
                        "gridwidth": 2,
                        "linecolor": "white",
                        "showbackground": true,
                        "ticks": "",
                        "zerolinecolor": "white"
                      },
                      "zaxis": {
                        "backgroundcolor": "#E5ECF6",
                        "gridcolor": "white",
                        "gridwidth": 2,
                        "linecolor": "white",
                        "showbackground": true,
                        "ticks": "",
                        "zerolinecolor": "white"
                      }
                    },
                    "shapedefaults": {
                      "line": {
                        "color": "#2a3f5f"
                      }
                    },
                    "ternary": {
                      "aaxis": {
                        "gridcolor": "white",
                        "linecolor": "white",
                        "ticks": ""
                      },
                      "baxis": {
                        "gridcolor": "white",
                        "linecolor": "white",
                        "ticks": ""
                      },
                      "bgcolor": "#E5ECF6",
                      "caxis": {
                        "gridcolor": "white",
                        "linecolor": "white",
                        "ticks": ""
                      }
                    },
                    "title": {
                      "x": 0.05
                    },
                    "xaxis": {
                      "automargin": true,
                      "gridcolor": "white",
                      "linecolor": "white",
                      "ticks": "",
                      "title": {
                        "standoff": 15
                      },
                      "zerolinecolor": "white",
                      "zerolinewidth": 2
                    },
                    "yaxis": {
                      "automargin": true,
                      "gridcolor": "white",
                      "linecolor": "white",
                      "ticks": "",
                      "title": {
                        "standoff": 15
                      },
                      "zerolinecolor": "white",
                      "zerolinewidth": 2
                    }
                  }
                },
                "title": {
                  "text": "Percentage of Male Youth Literacy Rate in Developing Countries"
                }
              }
            }
          },
          "metadata": {},
          "output_type": "display_data"
        }
      ],
      "source": [
        "# percentage of male youth literacy rate in developing countries\n",
        "fig = px.choropleth(developing_countries, locations='Countries and areas', locationmode='country names',\n",
        "                   color='Youth_Literacy_Rate_Male', range_color=[0, 100],\n",
        "                   title='Percentage of Male Youth Literacy Rate in Developing Countries')\n",
        "\n",
        "fig.show()"
      ]
    },
    {
      "cell_type": "code",
      "execution_count": 118,
      "id": "3aca091a",
      "metadata": {
        "id": "3aca091a",
        "outputId": "12992eef-66df-4116-c686-5c4d90c5bf81"
      },
      "outputs": [
        {
          "data": {
            "application/vnd.plotly.v1+json": {
              "config": {
                "plotlyServerURL": "https://plot.ly"
              },
              "data": [
                {
                  "coloraxis": "coloraxis",
                  "geo": "geo",
                  "hovertemplate": "Countries and areas=%{location}<br>Adult_Literacy_Rate_Male=%{z}<extra></extra>",
                  "locationmode": "country names",
                  "locations": [
                    "Afghanistan",
                    "Albania",
                    "Algeria",
                    "Angola",
                    "Antigua and Barbuda",
                    "Argentina",
                    "Armenia",
                    "Azerbaijan",
                    "Bahamas",
                    "Bahrain",
                    "Bangladesh",
                    "Barbados",
                    "Belarus",
                    "Belize",
                    "Benin",
                    "Bhutan",
                    "Bosnia and Herzegovina",
                    "Botswana",
                    "Brazil",
                    "Bulgaria",
                    "Burkina Faso",
                    "Burundi",
                    "Cambodia",
                    "Cameroon",
                    "Central African Republic",
                    "Chad",
                    "Chile",
                    "China",
                    "Colombia",
                    "Comoros",
                    "Costa Rica",
                    "Democratic Republic of the Congo",
                    "Djibouti",
                    "Dominica",
                    "Dominican Republic",
                    "Ecuador",
                    "Egypt",
                    "El Salvador",
                    "Equatorial Guinea",
                    "Eritrea",
                    "Eswatini",
                    "Ethiopia",
                    "Fiji",
                    "Gabon",
                    "Gambia",
                    "Georgia",
                    "Ghana",
                    "Grenada",
                    "Guatemala",
                    "Guinea",
                    "Guinea-Bissau",
                    "Guyana",
                    "Haiti",
                    "Honduras",
                    "India",
                    "Indonesia",
                    "Iraq",
                    "Jamaica",
                    "Jordan",
                    "Kazakhstan",
                    "Kenya",
                    "Kiribati",
                    "Kuwait",
                    "Kyrgyzstan",
                    "Lebanon",
                    "Lesotho",
                    "Liberia",
                    "Libya",
                    "Madagascar",
                    "Malawi",
                    "Malaysia",
                    "Maldives",
                    "Mali",
                    "Marshall Islands",
                    "Mauritania",
                    "Mauritius",
                    "Mexico",
                    "Mongolia",
                    "Montenegro",
                    "Morocco",
                    "Mozambique",
                    "Myanmar",
                    "Namibia",
                    "Nauru",
                    "Nepal",
                    "Nicaragua",
                    "Niger",
                    "Nigeria",
                    "North Macedonia",
                    "Oman",
                    "Pakistan",
                    "Palau",
                    "Panama",
                    "Papua New Guinea",
                    "Paraguay",
                    "Peru",
                    "Philippines",
                    "Poland",
                    "Qatar",
                    "Romania",
                    "Rwanda",
                    "Saint Kitts and Nevis",
                    "Saint Lucia",
                    "Saint Vincent and the Grenadines",
                    "Samoa",
                    "Sao Tome and Principe",
                    "Saudi Arabia",
                    "Senegal",
                    "Serbia",
                    "Seychelles",
                    "Sierra Leone",
                    "Solomon Islands",
                    "Somalia",
                    "South Africa",
                    "South Sudan",
                    "Sri Lanka",
                    "Sudan",
                    "Suriname",
                    "Tajikistan",
                    "Thailand",
                    "Togo",
                    "Tonga",
                    "Trinidad and Tobago",
                    "Tunisia",
                    "Turkey",
                    "Turkmenistan",
                    "Tuvalu",
                    "Uganda",
                    "Ukraine",
                    "Uruguay",
                    "Uzbekistan",
                    "Vanuatu",
                    "Yemen",
                    "Zambia",
                    "Zimbabwe"
                  ],
                  "name": "",
                  "type": "choropleth",
                  "z": [
                    55,
                    99,
                    87,
                    68.5,
                    96,
                    99,
                    96,
                    96,
                    96,
                    99,
                    77,
                    96,
                    100,
                    96,
                    54,
                    68.5,
                    99,
                    96,
                    93,
                    99,
                    50,
                    68.5,
                    68.5,
                    83,
                    50,
                    68.5,
                    96,
                    98,
                    95,
                    65,
                    98,
                    68.5,
                    68.5,
                    96,
                    96,
                    96,
                    96,
                    91,
                    96,
                    84,
                    88,
                    68.5,
                    96,
                    86,
                    68.5,
                    96,
                    84,
                    96,
                    96,
                    68.5,
                    68.5,
                    96,
                    68.5,
                    87,
                    82,
                    97,
                    96,
                    96,
                    99,
                    100,
                    85,
                    68.5,
                    97,
                    100,
                    97,
                    68.5,
                    68.5,
                    96,
                    77,
                    68.5,
                    96,
                    96,
                    46,
                    96,
                    68.5,
                    93,
                    96,
                    98,
                    99,
                    83,
                    68.5,
                    68.5,
                    92,
                    96,
                    79,
                    96,
                    44,
                    71,
                    99,
                    97,
                    96,
                    96,
                    96,
                    96,
                    95,
                    97,
                    96,
                    99,
                    96,
                    99,
                    78,
                    96,
                    96,
                    96,
                    99,
                    96,
                    96,
                    68.5,
                    99,
                    95,
                    52,
                    68.5,
                    68.5,
                    96,
                    40,
                    93,
                    65,
                    96,
                    96,
                    95,
                    68.5,
                    99,
                    96,
                    96,
                    96,
                    96,
                    68.5,
                    83,
                    99,
                    98,
                    100,
                    88,
                    68.5,
                    91,
                    96
                  ]
                }
              ],
              "layout": {
                "coloraxis": {
                  "cmax": 100,
                  "cmin": 0,
                  "colorbar": {
                    "title": {
                      "text": "Adult_Literacy_Rate_Male"
                    }
                  },
                  "colorscale": [
                    [
                      0,
                      "#0d0887"
                    ],
                    [
                      0.1111111111111111,
                      "#46039f"
                    ],
                    [
                      0.2222222222222222,
                      "#7201a8"
                    ],
                    [
                      0.3333333333333333,
                      "#9c179e"
                    ],
                    [
                      0.4444444444444444,
                      "#bd3786"
                    ],
                    [
                      0.5555555555555556,
                      "#d8576b"
                    ],
                    [
                      0.6666666666666666,
                      "#ed7953"
                    ],
                    [
                      0.7777777777777778,
                      "#fb9f3a"
                    ],
                    [
                      0.8888888888888888,
                      "#fdca26"
                    ],
                    [
                      1,
                      "#f0f921"
                    ]
                  ]
                },
                "geo": {
                  "center": {},
                  "domain": {
                    "x": [
                      0,
                      1
                    ],
                    "y": [
                      0,
                      1
                    ]
                  }
                },
                "legend": {
                  "tracegroupgap": 0
                },
                "template": {
                  "data": {
                    "bar": [
                      {
                        "error_x": {
                          "color": "#2a3f5f"
                        },
                        "error_y": {
                          "color": "#2a3f5f"
                        },
                        "marker": {
                          "line": {
                            "color": "#E5ECF6",
                            "width": 0.5
                          },
                          "pattern": {
                            "fillmode": "overlay",
                            "size": 10,
                            "solidity": 0.2
                          }
                        },
                        "type": "bar"
                      }
                    ],
                    "barpolar": [
                      {
                        "marker": {
                          "line": {
                            "color": "#E5ECF6",
                            "width": 0.5
                          },
                          "pattern": {
                            "fillmode": "overlay",
                            "size": 10,
                            "solidity": 0.2
                          }
                        },
                        "type": "barpolar"
                      }
                    ],
                    "carpet": [
                      {
                        "aaxis": {
                          "endlinecolor": "#2a3f5f",
                          "gridcolor": "white",
                          "linecolor": "white",
                          "minorgridcolor": "white",
                          "startlinecolor": "#2a3f5f"
                        },
                        "baxis": {
                          "endlinecolor": "#2a3f5f",
                          "gridcolor": "white",
                          "linecolor": "white",
                          "minorgridcolor": "white",
                          "startlinecolor": "#2a3f5f"
                        },
                        "type": "carpet"
                      }
                    ],
                    "choropleth": [
                      {
                        "colorbar": {
                          "outlinewidth": 0,
                          "ticks": ""
                        },
                        "type": "choropleth"
                      }
                    ],
                    "contour": [
                      {
                        "colorbar": {
                          "outlinewidth": 0,
                          "ticks": ""
                        },
                        "colorscale": [
                          [
                            0,
                            "#0d0887"
                          ],
                          [
                            0.1111111111111111,
                            "#46039f"
                          ],
                          [
                            0.2222222222222222,
                            "#7201a8"
                          ],
                          [
                            0.3333333333333333,
                            "#9c179e"
                          ],
                          [
                            0.4444444444444444,
                            "#bd3786"
                          ],
                          [
                            0.5555555555555556,
                            "#d8576b"
                          ],
                          [
                            0.6666666666666666,
                            "#ed7953"
                          ],
                          [
                            0.7777777777777778,
                            "#fb9f3a"
                          ],
                          [
                            0.8888888888888888,
                            "#fdca26"
                          ],
                          [
                            1,
                            "#f0f921"
                          ]
                        ],
                        "type": "contour"
                      }
                    ],
                    "contourcarpet": [
                      {
                        "colorbar": {
                          "outlinewidth": 0,
                          "ticks": ""
                        },
                        "type": "contourcarpet"
                      }
                    ],
                    "heatmap": [
                      {
                        "colorbar": {
                          "outlinewidth": 0,
                          "ticks": ""
                        },
                        "colorscale": [
                          [
                            0,
                            "#0d0887"
                          ],
                          [
                            0.1111111111111111,
                            "#46039f"
                          ],
                          [
                            0.2222222222222222,
                            "#7201a8"
                          ],
                          [
                            0.3333333333333333,
                            "#9c179e"
                          ],
                          [
                            0.4444444444444444,
                            "#bd3786"
                          ],
                          [
                            0.5555555555555556,
                            "#d8576b"
                          ],
                          [
                            0.6666666666666666,
                            "#ed7953"
                          ],
                          [
                            0.7777777777777778,
                            "#fb9f3a"
                          ],
                          [
                            0.8888888888888888,
                            "#fdca26"
                          ],
                          [
                            1,
                            "#f0f921"
                          ]
                        ],
                        "type": "heatmap"
                      }
                    ],
                    "heatmapgl": [
                      {
                        "colorbar": {
                          "outlinewidth": 0,
                          "ticks": ""
                        },
                        "colorscale": [
                          [
                            0,
                            "#0d0887"
                          ],
                          [
                            0.1111111111111111,
                            "#46039f"
                          ],
                          [
                            0.2222222222222222,
                            "#7201a8"
                          ],
                          [
                            0.3333333333333333,
                            "#9c179e"
                          ],
                          [
                            0.4444444444444444,
                            "#bd3786"
                          ],
                          [
                            0.5555555555555556,
                            "#d8576b"
                          ],
                          [
                            0.6666666666666666,
                            "#ed7953"
                          ],
                          [
                            0.7777777777777778,
                            "#fb9f3a"
                          ],
                          [
                            0.8888888888888888,
                            "#fdca26"
                          ],
                          [
                            1,
                            "#f0f921"
                          ]
                        ],
                        "type": "heatmapgl"
                      }
                    ],
                    "histogram": [
                      {
                        "marker": {
                          "pattern": {
                            "fillmode": "overlay",
                            "size": 10,
                            "solidity": 0.2
                          }
                        },
                        "type": "histogram"
                      }
                    ],
                    "histogram2d": [
                      {
                        "colorbar": {
                          "outlinewidth": 0,
                          "ticks": ""
                        },
                        "colorscale": [
                          [
                            0,
                            "#0d0887"
                          ],
                          [
                            0.1111111111111111,
                            "#46039f"
                          ],
                          [
                            0.2222222222222222,
                            "#7201a8"
                          ],
                          [
                            0.3333333333333333,
                            "#9c179e"
                          ],
                          [
                            0.4444444444444444,
                            "#bd3786"
                          ],
                          [
                            0.5555555555555556,
                            "#d8576b"
                          ],
                          [
                            0.6666666666666666,
                            "#ed7953"
                          ],
                          [
                            0.7777777777777778,
                            "#fb9f3a"
                          ],
                          [
                            0.8888888888888888,
                            "#fdca26"
                          ],
                          [
                            1,
                            "#f0f921"
                          ]
                        ],
                        "type": "histogram2d"
                      }
                    ],
                    "histogram2dcontour": [
                      {
                        "colorbar": {
                          "outlinewidth": 0,
                          "ticks": ""
                        },
                        "colorscale": [
                          [
                            0,
                            "#0d0887"
                          ],
                          [
                            0.1111111111111111,
                            "#46039f"
                          ],
                          [
                            0.2222222222222222,
                            "#7201a8"
                          ],
                          [
                            0.3333333333333333,
                            "#9c179e"
                          ],
                          [
                            0.4444444444444444,
                            "#bd3786"
                          ],
                          [
                            0.5555555555555556,
                            "#d8576b"
                          ],
                          [
                            0.6666666666666666,
                            "#ed7953"
                          ],
                          [
                            0.7777777777777778,
                            "#fb9f3a"
                          ],
                          [
                            0.8888888888888888,
                            "#fdca26"
                          ],
                          [
                            1,
                            "#f0f921"
                          ]
                        ],
                        "type": "histogram2dcontour"
                      }
                    ],
                    "mesh3d": [
                      {
                        "colorbar": {
                          "outlinewidth": 0,
                          "ticks": ""
                        },
                        "type": "mesh3d"
                      }
                    ],
                    "parcoords": [
                      {
                        "line": {
                          "colorbar": {
                            "outlinewidth": 0,
                            "ticks": ""
                          }
                        },
                        "type": "parcoords"
                      }
                    ],
                    "pie": [
                      {
                        "automargin": true,
                        "type": "pie"
                      }
                    ],
                    "scatter": [
                      {
                        "fillpattern": {
                          "fillmode": "overlay",
                          "size": 10,
                          "solidity": 0.2
                        },
                        "type": "scatter"
                      }
                    ],
                    "scatter3d": [
                      {
                        "line": {
                          "colorbar": {
                            "outlinewidth": 0,
                            "ticks": ""
                          }
                        },
                        "marker": {
                          "colorbar": {
                            "outlinewidth": 0,
                            "ticks": ""
                          }
                        },
                        "type": "scatter3d"
                      }
                    ],
                    "scattercarpet": [
                      {
                        "marker": {
                          "colorbar": {
                            "outlinewidth": 0,
                            "ticks": ""
                          }
                        },
                        "type": "scattercarpet"
                      }
                    ],
                    "scattergeo": [
                      {
                        "marker": {
                          "colorbar": {
                            "outlinewidth": 0,
                            "ticks": ""
                          }
                        },
                        "type": "scattergeo"
                      }
                    ],
                    "scattergl": [
                      {
                        "marker": {
                          "colorbar": {
                            "outlinewidth": 0,
                            "ticks": ""
                          }
                        },
                        "type": "scattergl"
                      }
                    ],
                    "scattermapbox": [
                      {
                        "marker": {
                          "colorbar": {
                            "outlinewidth": 0,
                            "ticks": ""
                          }
                        },
                        "type": "scattermapbox"
                      }
                    ],
                    "scatterpolar": [
                      {
                        "marker": {
                          "colorbar": {
                            "outlinewidth": 0,
                            "ticks": ""
                          }
                        },
                        "type": "scatterpolar"
                      }
                    ],
                    "scatterpolargl": [
                      {
                        "marker": {
                          "colorbar": {
                            "outlinewidth": 0,
                            "ticks": ""
                          }
                        },
                        "type": "scatterpolargl"
                      }
                    ],
                    "scatterternary": [
                      {
                        "marker": {
                          "colorbar": {
                            "outlinewidth": 0,
                            "ticks": ""
                          }
                        },
                        "type": "scatterternary"
                      }
                    ],
                    "surface": [
                      {
                        "colorbar": {
                          "outlinewidth": 0,
                          "ticks": ""
                        },
                        "colorscale": [
                          [
                            0,
                            "#0d0887"
                          ],
                          [
                            0.1111111111111111,
                            "#46039f"
                          ],
                          [
                            0.2222222222222222,
                            "#7201a8"
                          ],
                          [
                            0.3333333333333333,
                            "#9c179e"
                          ],
                          [
                            0.4444444444444444,
                            "#bd3786"
                          ],
                          [
                            0.5555555555555556,
                            "#d8576b"
                          ],
                          [
                            0.6666666666666666,
                            "#ed7953"
                          ],
                          [
                            0.7777777777777778,
                            "#fb9f3a"
                          ],
                          [
                            0.8888888888888888,
                            "#fdca26"
                          ],
                          [
                            1,
                            "#f0f921"
                          ]
                        ],
                        "type": "surface"
                      }
                    ],
                    "table": [
                      {
                        "cells": {
                          "fill": {
                            "color": "#EBF0F8"
                          },
                          "line": {
                            "color": "white"
                          }
                        },
                        "header": {
                          "fill": {
                            "color": "#C8D4E3"
                          },
                          "line": {
                            "color": "white"
                          }
                        },
                        "type": "table"
                      }
                    ]
                  },
                  "layout": {
                    "annotationdefaults": {
                      "arrowcolor": "#2a3f5f",
                      "arrowhead": 0,
                      "arrowwidth": 1
                    },
                    "autotypenumbers": "strict",
                    "coloraxis": {
                      "colorbar": {
                        "outlinewidth": 0,
                        "ticks": ""
                      }
                    },
                    "colorscale": {
                      "diverging": [
                        [
                          0,
                          "#8e0152"
                        ],
                        [
                          0.1,
                          "#c51b7d"
                        ],
                        [
                          0.2,
                          "#de77ae"
                        ],
                        [
                          0.3,
                          "#f1b6da"
                        ],
                        [
                          0.4,
                          "#fde0ef"
                        ],
                        [
                          0.5,
                          "#f7f7f7"
                        ],
                        [
                          0.6,
                          "#e6f5d0"
                        ],
                        [
                          0.7,
                          "#b8e186"
                        ],
                        [
                          0.8,
                          "#7fbc41"
                        ],
                        [
                          0.9,
                          "#4d9221"
                        ],
                        [
                          1,
                          "#276419"
                        ]
                      ],
                      "sequential": [
                        [
                          0,
                          "#0d0887"
                        ],
                        [
                          0.1111111111111111,
                          "#46039f"
                        ],
                        [
                          0.2222222222222222,
                          "#7201a8"
                        ],
                        [
                          0.3333333333333333,
                          "#9c179e"
                        ],
                        [
                          0.4444444444444444,
                          "#bd3786"
                        ],
                        [
                          0.5555555555555556,
                          "#d8576b"
                        ],
                        [
                          0.6666666666666666,
                          "#ed7953"
                        ],
                        [
                          0.7777777777777778,
                          "#fb9f3a"
                        ],
                        [
                          0.8888888888888888,
                          "#fdca26"
                        ],
                        [
                          1,
                          "#f0f921"
                        ]
                      ],
                      "sequentialminus": [
                        [
                          0,
                          "#0d0887"
                        ],
                        [
                          0.1111111111111111,
                          "#46039f"
                        ],
                        [
                          0.2222222222222222,
                          "#7201a8"
                        ],
                        [
                          0.3333333333333333,
                          "#9c179e"
                        ],
                        [
                          0.4444444444444444,
                          "#bd3786"
                        ],
                        [
                          0.5555555555555556,
                          "#d8576b"
                        ],
                        [
                          0.6666666666666666,
                          "#ed7953"
                        ],
                        [
                          0.7777777777777778,
                          "#fb9f3a"
                        ],
                        [
                          0.8888888888888888,
                          "#fdca26"
                        ],
                        [
                          1,
                          "#f0f921"
                        ]
                      ]
                    },
                    "colorway": [
                      "#636efa",
                      "#EF553B",
                      "#00cc96",
                      "#ab63fa",
                      "#FFA15A",
                      "#19d3f3",
                      "#FF6692",
                      "#B6E880",
                      "#FF97FF",
                      "#FECB52"
                    ],
                    "font": {
                      "color": "#2a3f5f"
                    },
                    "geo": {
                      "bgcolor": "white",
                      "lakecolor": "white",
                      "landcolor": "#E5ECF6",
                      "showlakes": true,
                      "showland": true,
                      "subunitcolor": "white"
                    },
                    "hoverlabel": {
                      "align": "left"
                    },
                    "hovermode": "closest",
                    "mapbox": {
                      "style": "light"
                    },
                    "paper_bgcolor": "white",
                    "plot_bgcolor": "#E5ECF6",
                    "polar": {
                      "angularaxis": {
                        "gridcolor": "white",
                        "linecolor": "white",
                        "ticks": ""
                      },
                      "bgcolor": "#E5ECF6",
                      "radialaxis": {
                        "gridcolor": "white",
                        "linecolor": "white",
                        "ticks": ""
                      }
                    },
                    "scene": {
                      "xaxis": {
                        "backgroundcolor": "#E5ECF6",
                        "gridcolor": "white",
                        "gridwidth": 2,
                        "linecolor": "white",
                        "showbackground": true,
                        "ticks": "",
                        "zerolinecolor": "white"
                      },
                      "yaxis": {
                        "backgroundcolor": "#E5ECF6",
                        "gridcolor": "white",
                        "gridwidth": 2,
                        "linecolor": "white",
                        "showbackground": true,
                        "ticks": "",
                        "zerolinecolor": "white"
                      },
                      "zaxis": {
                        "backgroundcolor": "#E5ECF6",
                        "gridcolor": "white",
                        "gridwidth": 2,
                        "linecolor": "white",
                        "showbackground": true,
                        "ticks": "",
                        "zerolinecolor": "white"
                      }
                    },
                    "shapedefaults": {
                      "line": {
                        "color": "#2a3f5f"
                      }
                    },
                    "ternary": {
                      "aaxis": {
                        "gridcolor": "white",
                        "linecolor": "white",
                        "ticks": ""
                      },
                      "baxis": {
                        "gridcolor": "white",
                        "linecolor": "white",
                        "ticks": ""
                      },
                      "bgcolor": "#E5ECF6",
                      "caxis": {
                        "gridcolor": "white",
                        "linecolor": "white",
                        "ticks": ""
                      }
                    },
                    "title": {
                      "x": 0.05
                    },
                    "xaxis": {
                      "automargin": true,
                      "gridcolor": "white",
                      "linecolor": "white",
                      "ticks": "",
                      "title": {
                        "standoff": 15
                      },
                      "zerolinecolor": "white",
                      "zerolinewidth": 2
                    },
                    "yaxis": {
                      "automargin": true,
                      "gridcolor": "white",
                      "linecolor": "white",
                      "ticks": "",
                      "title": {
                        "standoff": 15
                      },
                      "zerolinecolor": "white",
                      "zerolinewidth": 2
                    }
                  }
                },
                "title": {
                  "text": "Percentage of Male Adult Literacy Rate in Developing Countries"
                }
              }
            }
          },
          "metadata": {},
          "output_type": "display_data"
        }
      ],
      "source": [
        "# percentage of male adult literacy rate in developing countries\n",
        "fig = px.choropleth(developing_countries, locations='Countries and areas', locationmode='country names',\n",
        "                   color='Adult_Literacy_Rate_Male', range_color=[0, 100],\n",
        "                   title='Percentage of Male Adult Literacy Rate in Developing Countries')\n",
        "\n",
        "fig.show()"
      ]
    },
    {
      "cell_type": "code",
      "execution_count": 119,
      "id": "1aa9e52c",
      "metadata": {
        "id": "1aa9e52c",
        "outputId": "bbb2ccfc-c5c8-4d31-e459-3efba7cc619b"
      },
      "outputs": [
        {
          "data": {
            "application/vnd.plotly.v1+json": {
              "config": {
                "plotlyServerURL": "https://plot.ly"
              },
              "data": [
                {
                  "coloraxis": "coloraxis",
                  "geo": "geo",
                  "hovertemplate": "Countries and areas=%{location}<br>Youth_Literacy_Rate_Total=%{z}<extra></extra>",
                  "locationmode": "country names",
                  "locations": [
                    "Afghanistan",
                    "Albania",
                    "Algeria",
                    "Angola",
                    "Antigua and Barbuda",
                    "Argentina",
                    "Armenia",
                    "Azerbaijan",
                    "Bahamas",
                    "Bahrain",
                    "Bangladesh",
                    "Barbados",
                    "Belarus",
                    "Belize",
                    "Benin",
                    "Bhutan",
                    "Bosnia and Herzegovina",
                    "Botswana",
                    "Brazil",
                    "Bulgaria",
                    "Burkina Faso",
                    "Burundi",
                    "Cambodia",
                    "Cameroon",
                    "Central African Republic",
                    "Chad",
                    "Chile",
                    "China",
                    "Colombia",
                    "Comoros",
                    "Costa Rica",
                    "Democratic Republic of the Congo",
                    "Djibouti",
                    "Dominica",
                    "Dominican Republic",
                    "Ecuador",
                    "Egypt",
                    "El Salvador",
                    "Equatorial Guinea",
                    "Eritrea",
                    "Eswatini",
                    "Ethiopia",
                    "Fiji",
                    "Gabon",
                    "Gambia",
                    "Georgia",
                    "Ghana",
                    "Grenada",
                    "Guatemala",
                    "Guinea",
                    "Guinea-Bissau",
                    "Guyana",
                    "Haiti",
                    "Honduras",
                    "India",
                    "Indonesia",
                    "Iraq",
                    "Jamaica",
                    "Jordan",
                    "Kazakhstan",
                    "Kenya",
                    "Kiribati",
                    "Kuwait",
                    "Kyrgyzstan",
                    "Lebanon",
                    "Lesotho",
                    "Liberia",
                    "Libya",
                    "Madagascar",
                    "Malawi",
                    "Malaysia",
                    "Maldives",
                    "Mali",
                    "Marshall Islands",
                    "Mauritania",
                    "Mauritius",
                    "Mexico",
                    "Mongolia",
                    "Montenegro",
                    "Morocco",
                    "Mozambique",
                    "Myanmar",
                    "Namibia",
                    "Nauru",
                    "Nepal",
                    "Nicaragua",
                    "Niger",
                    "Nigeria",
                    "North Macedonia",
                    "Oman",
                    "Pakistan",
                    "Palau",
                    "Panama",
                    "Papua New Guinea",
                    "Paraguay",
                    "Peru",
                    "Philippines",
                    "Poland",
                    "Qatar",
                    "Romania",
                    "Rwanda",
                    "Saint Kitts and Nevis",
                    "Saint Lucia",
                    "Saint Vincent and the Grenadines",
                    "Samoa",
                    "Sao Tome and Principe",
                    "Saudi Arabia",
                    "Senegal",
                    "Serbia",
                    "Seychelles",
                    "Sierra Leone",
                    "Solomon Islands",
                    "Somalia",
                    "South Africa",
                    "South Sudan",
                    "Sri Lanka",
                    "Sudan",
                    "Suriname",
                    "Tajikistan",
                    "Thailand",
                    "Togo",
                    "Tonga",
                    "Trinidad and Tobago",
                    "Tunisia",
                    "Turkey",
                    "Turkmenistan",
                    "Tuvalu",
                    "Uganda",
                    "Ukraine",
                    "Uruguay",
                    "Uzbekistan",
                    "Vanuatu",
                    "Yemen",
                    "Zambia",
                    "Zimbabwe"
                  ],
                  "name": "",
                  "type": "choropleth",
                  "z": [
                    65,
                    99,
                    97,
                    79.5,
                    99,
                    100,
                    99,
                    99,
                    99,
                    100,
                    95,
                    99,
                    100,
                    99,
                    61,
                    79.5,
                    100,
                    99,
                    99,
                    100,
                    58,
                    79.5,
                    79.5,
                    85,
                    38,
                    79.5,
                    99,
                    100,
                    99,
                    78,
                    99,
                    79.5,
                    79.5,
                    99,
                    99,
                    99,
                    99,
                    98,
                    99,
                    93,
                    95,
                    79.5,
                    99,
                    90,
                    79.5,
                    99,
                    92,
                    99,
                    99,
                    79.5,
                    79.5,
                    99,
                    79.5,
                    97,
                    92,
                    100,
                    99,
                    99,
                    99,
                    100,
                    88,
                    79.5,
                    99,
                    100,
                    100,
                    79.5,
                    79.5,
                    99,
                    81,
                    79.5,
                    97,
                    99,
                    50,
                    99,
                    79.5,
                    99,
                    99,
                    99,
                    99,
                    98,
                    79.5,
                    79.5,
                    95,
                    99,
                    92,
                    99,
                    43,
                    75,
                    100,
                    99,
                    99,
                    99,
                    99,
                    99,
                    98,
                    99,
                    99,
                    100,
                    99,
                    99,
                    86,
                    99,
                    99,
                    99,
                    99,
                    98,
                    99,
                    79.5,
                    100,
                    99,
                    67,
                    79.5,
                    79.5,
                    99,
                    48,
                    99,
                    73,
                    99,
                    99,
                    98,
                    79.5,
                    99,
                    99,
                    99,
                    99,
                    99,
                    79.5,
                    89,
                    100,
                    99,
                    100,
                    96,
                    79.5,
                    92,
                    99
                  ]
                }
              ],
              "layout": {
                "coloraxis": {
                  "cmax": 100,
                  "cmin": 0,
                  "colorbar": {
                    "title": {
                      "text": "Youth_Literacy_Rate_Total"
                    }
                  },
                  "colorscale": [
                    [
                      0,
                      "#0d0887"
                    ],
                    [
                      0.1111111111111111,
                      "#46039f"
                    ],
                    [
                      0.2222222222222222,
                      "#7201a8"
                    ],
                    [
                      0.3333333333333333,
                      "#9c179e"
                    ],
                    [
                      0.4444444444444444,
                      "#bd3786"
                    ],
                    [
                      0.5555555555555556,
                      "#d8576b"
                    ],
                    [
                      0.6666666666666666,
                      "#ed7953"
                    ],
                    [
                      0.7777777777777778,
                      "#fb9f3a"
                    ],
                    [
                      0.8888888888888888,
                      "#fdca26"
                    ],
                    [
                      1,
                      "#f0f921"
                    ]
                  ]
                },
                "geo": {
                  "center": {},
                  "domain": {
                    "x": [
                      0,
                      1
                    ],
                    "y": [
                      0,
                      1
                    ]
                  }
                },
                "legend": {
                  "tracegroupgap": 0
                },
                "template": {
                  "data": {
                    "bar": [
                      {
                        "error_x": {
                          "color": "#2a3f5f"
                        },
                        "error_y": {
                          "color": "#2a3f5f"
                        },
                        "marker": {
                          "line": {
                            "color": "#E5ECF6",
                            "width": 0.5
                          },
                          "pattern": {
                            "fillmode": "overlay",
                            "size": 10,
                            "solidity": 0.2
                          }
                        },
                        "type": "bar"
                      }
                    ],
                    "barpolar": [
                      {
                        "marker": {
                          "line": {
                            "color": "#E5ECF6",
                            "width": 0.5
                          },
                          "pattern": {
                            "fillmode": "overlay",
                            "size": 10,
                            "solidity": 0.2
                          }
                        },
                        "type": "barpolar"
                      }
                    ],
                    "carpet": [
                      {
                        "aaxis": {
                          "endlinecolor": "#2a3f5f",
                          "gridcolor": "white",
                          "linecolor": "white",
                          "minorgridcolor": "white",
                          "startlinecolor": "#2a3f5f"
                        },
                        "baxis": {
                          "endlinecolor": "#2a3f5f",
                          "gridcolor": "white",
                          "linecolor": "white",
                          "minorgridcolor": "white",
                          "startlinecolor": "#2a3f5f"
                        },
                        "type": "carpet"
                      }
                    ],
                    "choropleth": [
                      {
                        "colorbar": {
                          "outlinewidth": 0,
                          "ticks": ""
                        },
                        "type": "choropleth"
                      }
                    ],
                    "contour": [
                      {
                        "colorbar": {
                          "outlinewidth": 0,
                          "ticks": ""
                        },
                        "colorscale": [
                          [
                            0,
                            "#0d0887"
                          ],
                          [
                            0.1111111111111111,
                            "#46039f"
                          ],
                          [
                            0.2222222222222222,
                            "#7201a8"
                          ],
                          [
                            0.3333333333333333,
                            "#9c179e"
                          ],
                          [
                            0.4444444444444444,
                            "#bd3786"
                          ],
                          [
                            0.5555555555555556,
                            "#d8576b"
                          ],
                          [
                            0.6666666666666666,
                            "#ed7953"
                          ],
                          [
                            0.7777777777777778,
                            "#fb9f3a"
                          ],
                          [
                            0.8888888888888888,
                            "#fdca26"
                          ],
                          [
                            1,
                            "#f0f921"
                          ]
                        ],
                        "type": "contour"
                      }
                    ],
                    "contourcarpet": [
                      {
                        "colorbar": {
                          "outlinewidth": 0,
                          "ticks": ""
                        },
                        "type": "contourcarpet"
                      }
                    ],
                    "heatmap": [
                      {
                        "colorbar": {
                          "outlinewidth": 0,
                          "ticks": ""
                        },
                        "colorscale": [
                          [
                            0,
                            "#0d0887"
                          ],
                          [
                            0.1111111111111111,
                            "#46039f"
                          ],
                          [
                            0.2222222222222222,
                            "#7201a8"
                          ],
                          [
                            0.3333333333333333,
                            "#9c179e"
                          ],
                          [
                            0.4444444444444444,
                            "#bd3786"
                          ],
                          [
                            0.5555555555555556,
                            "#d8576b"
                          ],
                          [
                            0.6666666666666666,
                            "#ed7953"
                          ],
                          [
                            0.7777777777777778,
                            "#fb9f3a"
                          ],
                          [
                            0.8888888888888888,
                            "#fdca26"
                          ],
                          [
                            1,
                            "#f0f921"
                          ]
                        ],
                        "type": "heatmap"
                      }
                    ],
                    "heatmapgl": [
                      {
                        "colorbar": {
                          "outlinewidth": 0,
                          "ticks": ""
                        },
                        "colorscale": [
                          [
                            0,
                            "#0d0887"
                          ],
                          [
                            0.1111111111111111,
                            "#46039f"
                          ],
                          [
                            0.2222222222222222,
                            "#7201a8"
                          ],
                          [
                            0.3333333333333333,
                            "#9c179e"
                          ],
                          [
                            0.4444444444444444,
                            "#bd3786"
                          ],
                          [
                            0.5555555555555556,
                            "#d8576b"
                          ],
                          [
                            0.6666666666666666,
                            "#ed7953"
                          ],
                          [
                            0.7777777777777778,
                            "#fb9f3a"
                          ],
                          [
                            0.8888888888888888,
                            "#fdca26"
                          ],
                          [
                            1,
                            "#f0f921"
                          ]
                        ],
                        "type": "heatmapgl"
                      }
                    ],
                    "histogram": [
                      {
                        "marker": {
                          "pattern": {
                            "fillmode": "overlay",
                            "size": 10,
                            "solidity": 0.2
                          }
                        },
                        "type": "histogram"
                      }
                    ],
                    "histogram2d": [
                      {
                        "colorbar": {
                          "outlinewidth": 0,
                          "ticks": ""
                        },
                        "colorscale": [
                          [
                            0,
                            "#0d0887"
                          ],
                          [
                            0.1111111111111111,
                            "#46039f"
                          ],
                          [
                            0.2222222222222222,
                            "#7201a8"
                          ],
                          [
                            0.3333333333333333,
                            "#9c179e"
                          ],
                          [
                            0.4444444444444444,
                            "#bd3786"
                          ],
                          [
                            0.5555555555555556,
                            "#d8576b"
                          ],
                          [
                            0.6666666666666666,
                            "#ed7953"
                          ],
                          [
                            0.7777777777777778,
                            "#fb9f3a"
                          ],
                          [
                            0.8888888888888888,
                            "#fdca26"
                          ],
                          [
                            1,
                            "#f0f921"
                          ]
                        ],
                        "type": "histogram2d"
                      }
                    ],
                    "histogram2dcontour": [
                      {
                        "colorbar": {
                          "outlinewidth": 0,
                          "ticks": ""
                        },
                        "colorscale": [
                          [
                            0,
                            "#0d0887"
                          ],
                          [
                            0.1111111111111111,
                            "#46039f"
                          ],
                          [
                            0.2222222222222222,
                            "#7201a8"
                          ],
                          [
                            0.3333333333333333,
                            "#9c179e"
                          ],
                          [
                            0.4444444444444444,
                            "#bd3786"
                          ],
                          [
                            0.5555555555555556,
                            "#d8576b"
                          ],
                          [
                            0.6666666666666666,
                            "#ed7953"
                          ],
                          [
                            0.7777777777777778,
                            "#fb9f3a"
                          ],
                          [
                            0.8888888888888888,
                            "#fdca26"
                          ],
                          [
                            1,
                            "#f0f921"
                          ]
                        ],
                        "type": "histogram2dcontour"
                      }
                    ],
                    "mesh3d": [
                      {
                        "colorbar": {
                          "outlinewidth": 0,
                          "ticks": ""
                        },
                        "type": "mesh3d"
                      }
                    ],
                    "parcoords": [
                      {
                        "line": {
                          "colorbar": {
                            "outlinewidth": 0,
                            "ticks": ""
                          }
                        },
                        "type": "parcoords"
                      }
                    ],
                    "pie": [
                      {
                        "automargin": true,
                        "type": "pie"
                      }
                    ],
                    "scatter": [
                      {
                        "fillpattern": {
                          "fillmode": "overlay",
                          "size": 10,
                          "solidity": 0.2
                        },
                        "type": "scatter"
                      }
                    ],
                    "scatter3d": [
                      {
                        "line": {
                          "colorbar": {
                            "outlinewidth": 0,
                            "ticks": ""
                          }
                        },
                        "marker": {
                          "colorbar": {
                            "outlinewidth": 0,
                            "ticks": ""
                          }
                        },
                        "type": "scatter3d"
                      }
                    ],
                    "scattercarpet": [
                      {
                        "marker": {
                          "colorbar": {
                            "outlinewidth": 0,
                            "ticks": ""
                          }
                        },
                        "type": "scattercarpet"
                      }
                    ],
                    "scattergeo": [
                      {
                        "marker": {
                          "colorbar": {
                            "outlinewidth": 0,
                            "ticks": ""
                          }
                        },
                        "type": "scattergeo"
                      }
                    ],
                    "scattergl": [
                      {
                        "marker": {
                          "colorbar": {
                            "outlinewidth": 0,
                            "ticks": ""
                          }
                        },
                        "type": "scattergl"
                      }
                    ],
                    "scattermapbox": [
                      {
                        "marker": {
                          "colorbar": {
                            "outlinewidth": 0,
                            "ticks": ""
                          }
                        },
                        "type": "scattermapbox"
                      }
                    ],
                    "scatterpolar": [
                      {
                        "marker": {
                          "colorbar": {
                            "outlinewidth": 0,
                            "ticks": ""
                          }
                        },
                        "type": "scatterpolar"
                      }
                    ],
                    "scatterpolargl": [
                      {
                        "marker": {
                          "colorbar": {
                            "outlinewidth": 0,
                            "ticks": ""
                          }
                        },
                        "type": "scatterpolargl"
                      }
                    ],
                    "scatterternary": [
                      {
                        "marker": {
                          "colorbar": {
                            "outlinewidth": 0,
                            "ticks": ""
                          }
                        },
                        "type": "scatterternary"
                      }
                    ],
                    "surface": [
                      {
                        "colorbar": {
                          "outlinewidth": 0,
                          "ticks": ""
                        },
                        "colorscale": [
                          [
                            0,
                            "#0d0887"
                          ],
                          [
                            0.1111111111111111,
                            "#46039f"
                          ],
                          [
                            0.2222222222222222,
                            "#7201a8"
                          ],
                          [
                            0.3333333333333333,
                            "#9c179e"
                          ],
                          [
                            0.4444444444444444,
                            "#bd3786"
                          ],
                          [
                            0.5555555555555556,
                            "#d8576b"
                          ],
                          [
                            0.6666666666666666,
                            "#ed7953"
                          ],
                          [
                            0.7777777777777778,
                            "#fb9f3a"
                          ],
                          [
                            0.8888888888888888,
                            "#fdca26"
                          ],
                          [
                            1,
                            "#f0f921"
                          ]
                        ],
                        "type": "surface"
                      }
                    ],
                    "table": [
                      {
                        "cells": {
                          "fill": {
                            "color": "#EBF0F8"
                          },
                          "line": {
                            "color": "white"
                          }
                        },
                        "header": {
                          "fill": {
                            "color": "#C8D4E3"
                          },
                          "line": {
                            "color": "white"
                          }
                        },
                        "type": "table"
                      }
                    ]
                  },
                  "layout": {
                    "annotationdefaults": {
                      "arrowcolor": "#2a3f5f",
                      "arrowhead": 0,
                      "arrowwidth": 1
                    },
                    "autotypenumbers": "strict",
                    "coloraxis": {
                      "colorbar": {
                        "outlinewidth": 0,
                        "ticks": ""
                      }
                    },
                    "colorscale": {
                      "diverging": [
                        [
                          0,
                          "#8e0152"
                        ],
                        [
                          0.1,
                          "#c51b7d"
                        ],
                        [
                          0.2,
                          "#de77ae"
                        ],
                        [
                          0.3,
                          "#f1b6da"
                        ],
                        [
                          0.4,
                          "#fde0ef"
                        ],
                        [
                          0.5,
                          "#f7f7f7"
                        ],
                        [
                          0.6,
                          "#e6f5d0"
                        ],
                        [
                          0.7,
                          "#b8e186"
                        ],
                        [
                          0.8,
                          "#7fbc41"
                        ],
                        [
                          0.9,
                          "#4d9221"
                        ],
                        [
                          1,
                          "#276419"
                        ]
                      ],
                      "sequential": [
                        [
                          0,
                          "#0d0887"
                        ],
                        [
                          0.1111111111111111,
                          "#46039f"
                        ],
                        [
                          0.2222222222222222,
                          "#7201a8"
                        ],
                        [
                          0.3333333333333333,
                          "#9c179e"
                        ],
                        [
                          0.4444444444444444,
                          "#bd3786"
                        ],
                        [
                          0.5555555555555556,
                          "#d8576b"
                        ],
                        [
                          0.6666666666666666,
                          "#ed7953"
                        ],
                        [
                          0.7777777777777778,
                          "#fb9f3a"
                        ],
                        [
                          0.8888888888888888,
                          "#fdca26"
                        ],
                        [
                          1,
                          "#f0f921"
                        ]
                      ],
                      "sequentialminus": [
                        [
                          0,
                          "#0d0887"
                        ],
                        [
                          0.1111111111111111,
                          "#46039f"
                        ],
                        [
                          0.2222222222222222,
                          "#7201a8"
                        ],
                        [
                          0.3333333333333333,
                          "#9c179e"
                        ],
                        [
                          0.4444444444444444,
                          "#bd3786"
                        ],
                        [
                          0.5555555555555556,
                          "#d8576b"
                        ],
                        [
                          0.6666666666666666,
                          "#ed7953"
                        ],
                        [
                          0.7777777777777778,
                          "#fb9f3a"
                        ],
                        [
                          0.8888888888888888,
                          "#fdca26"
                        ],
                        [
                          1,
                          "#f0f921"
                        ]
                      ]
                    },
                    "colorway": [
                      "#636efa",
                      "#EF553B",
                      "#00cc96",
                      "#ab63fa",
                      "#FFA15A",
                      "#19d3f3",
                      "#FF6692",
                      "#B6E880",
                      "#FF97FF",
                      "#FECB52"
                    ],
                    "font": {
                      "color": "#2a3f5f"
                    },
                    "geo": {
                      "bgcolor": "white",
                      "lakecolor": "white",
                      "landcolor": "#E5ECF6",
                      "showlakes": true,
                      "showland": true,
                      "subunitcolor": "white"
                    },
                    "hoverlabel": {
                      "align": "left"
                    },
                    "hovermode": "closest",
                    "mapbox": {
                      "style": "light"
                    },
                    "paper_bgcolor": "white",
                    "plot_bgcolor": "#E5ECF6",
                    "polar": {
                      "angularaxis": {
                        "gridcolor": "white",
                        "linecolor": "white",
                        "ticks": ""
                      },
                      "bgcolor": "#E5ECF6",
                      "radialaxis": {
                        "gridcolor": "white",
                        "linecolor": "white",
                        "ticks": ""
                      }
                    },
                    "scene": {
                      "xaxis": {
                        "backgroundcolor": "#E5ECF6",
                        "gridcolor": "white",
                        "gridwidth": 2,
                        "linecolor": "white",
                        "showbackground": true,
                        "ticks": "",
                        "zerolinecolor": "white"
                      },
                      "yaxis": {
                        "backgroundcolor": "#E5ECF6",
                        "gridcolor": "white",
                        "gridwidth": 2,
                        "linecolor": "white",
                        "showbackground": true,
                        "ticks": "",
                        "zerolinecolor": "white"
                      },
                      "zaxis": {
                        "backgroundcolor": "#E5ECF6",
                        "gridcolor": "white",
                        "gridwidth": 2,
                        "linecolor": "white",
                        "showbackground": true,
                        "ticks": "",
                        "zerolinecolor": "white"
                      }
                    },
                    "shapedefaults": {
                      "line": {
                        "color": "#2a3f5f"
                      }
                    },
                    "ternary": {
                      "aaxis": {
                        "gridcolor": "white",
                        "linecolor": "white",
                        "ticks": ""
                      },
                      "baxis": {
                        "gridcolor": "white",
                        "linecolor": "white",
                        "ticks": ""
                      },
                      "bgcolor": "#E5ECF6",
                      "caxis": {
                        "gridcolor": "white",
                        "linecolor": "white",
                        "ticks": ""
                      }
                    },
                    "title": {
                      "x": 0.05
                    },
                    "xaxis": {
                      "automargin": true,
                      "gridcolor": "white",
                      "linecolor": "white",
                      "ticks": "",
                      "title": {
                        "standoff": 15
                      },
                      "zerolinecolor": "white",
                      "zerolinewidth": 2
                    },
                    "yaxis": {
                      "automargin": true,
                      "gridcolor": "white",
                      "linecolor": "white",
                      "ticks": "",
                      "title": {
                        "standoff": 15
                      },
                      "zerolinecolor": "white",
                      "zerolinewidth": 2
                    }
                  }
                },
                "title": {
                  "text": "Percentage of Total Youth Literacy Rate in Developing Countries"
                }
              }
            }
          },
          "metadata": {},
          "output_type": "display_data"
        }
      ],
      "source": [
        "# percentage of total youth literacy rate in developing countries\n",
        "fig = px.choropleth(developing_countries, locations='Countries and areas', locationmode='country names',\n",
        "                   color='Youth_Literacy_Rate_Total', range_color=[0, 100],\n",
        "                   title='Percentage of Total Youth Literacy Rate in Developing Countries')\n",
        "\n",
        "fig.show()"
      ]
    },
    {
      "cell_type": "code",
      "execution_count": 120,
      "id": "572b2924",
      "metadata": {
        "id": "572b2924",
        "outputId": "b06ed9e9-2443-4892-eaf2-9f1e100b5f9a"
      },
      "outputs": [
        {
          "data": {
            "application/vnd.plotly.v1+json": {
              "config": {
                "plotlyServerURL": "https://plot.ly"
              },
              "data": [
                {
                  "coloraxis": "coloraxis",
                  "geo": "geo",
                  "hovertemplate": "Countries and areas=%{location}<br>Adult_Literacy_Rate_Total=%{z}<extra></extra>",
                  "locationmode": "country names",
                  "locations": [
                    "Afghanistan",
                    "Albania",
                    "Algeria",
                    "Angola",
                    "Antigua and Barbuda",
                    "Argentina",
                    "Armenia",
                    "Azerbaijan",
                    "Bahamas",
                    "Bahrain",
                    "Bangladesh",
                    "Barbados",
                    "Belarus",
                    "Belize",
                    "Benin",
                    "Bhutan",
                    "Bosnia and Herzegovina",
                    "Botswana",
                    "Brazil",
                    "Bulgaria",
                    "Burkina Faso",
                    "Burundi",
                    "Cambodia",
                    "Cameroon",
                    "Central African Republic",
                    "Chad",
                    "Chile",
                    "China",
                    "Colombia",
                    "Comoros",
                    "Costa Rica",
                    "Democratic Republic of the Congo",
                    "Djibouti",
                    "Dominica",
                    "Dominican Republic",
                    "Ecuador",
                    "Egypt",
                    "El Salvador",
                    "Equatorial Guinea",
                    "Eritrea",
                    "Eswatini",
                    "Ethiopia",
                    "Fiji",
                    "Gabon",
                    "Gambia",
                    "Georgia",
                    "Ghana",
                    "Grenada",
                    "Guatemala",
                    "Guinea",
                    "Guinea-Bissau",
                    "Guyana",
                    "Haiti",
                    "Honduras",
                    "India",
                    "Indonesia",
                    "Iraq",
                    "Jamaica",
                    "Jordan",
                    "Kazakhstan",
                    "Kenya",
                    "Kiribati",
                    "Kuwait",
                    "Kyrgyzstan",
                    "Lebanon",
                    "Lesotho",
                    "Liberia",
                    "Libya",
                    "Madagascar",
                    "Malawi",
                    "Malaysia",
                    "Maldives",
                    "Mali",
                    "Marshall Islands",
                    "Mauritania",
                    "Mauritius",
                    "Mexico",
                    "Mongolia",
                    "Montenegro",
                    "Morocco",
                    "Mozambique",
                    "Myanmar",
                    "Namibia",
                    "Nauru",
                    "Nepal",
                    "Nicaragua",
                    "Niger",
                    "Nigeria",
                    "North Macedonia",
                    "Oman",
                    "Pakistan",
                    "Palau",
                    "Panama",
                    "Papua New Guinea",
                    "Paraguay",
                    "Peru",
                    "Philippines",
                    "Poland",
                    "Qatar",
                    "Romania",
                    "Rwanda",
                    "Saint Kitts and Nevis",
                    "Saint Lucia",
                    "Saint Vincent and the Grenadines",
                    "Samoa",
                    "Sao Tome and Principe",
                    "Saudi Arabia",
                    "Senegal",
                    "Serbia",
                    "Seychelles",
                    "Sierra Leone",
                    "Solomon Islands",
                    "Somalia",
                    "South Africa",
                    "South Sudan",
                    "Sri Lanka",
                    "Sudan",
                    "Suriname",
                    "Tajikistan",
                    "Thailand",
                    "Togo",
                    "Tonga",
                    "Trinidad and Tobago",
                    "Tunisia",
                    "Turkey",
                    "Turkmenistan",
                    "Tuvalu",
                    "Uganda",
                    "Ukraine",
                    "Uruguay",
                    "Uzbekistan",
                    "Vanuatu",
                    "Yemen",
                    "Zambia",
                    "Zimbabwe"
                  ],
                  "name": "",
                  "type": "choropleth",
                  "z": [
                    43,
                    98,
                    81,
                    64.5,
                    95,
                    99,
                    95,
                    95,
                    95,
                    97,
                    75,
                    95,
                    100,
                    95,
                    42,
                    64.5,
                    99,
                    95,
                    93,
                    99,
                    41,
                    64.5,
                    64.5,
                    77,
                    37,
                    64.5,
                    95,
                    97,
                    95,
                    59,
                    98,
                    64.5,
                    64.5,
                    95,
                    95,
                    95,
                    95,
                    89,
                    95,
                    77,
                    88,
                    64.5,
                    95,
                    85,
                    64.5,
                    95,
                    79,
                    95,
                    95,
                    64.5,
                    64.5,
                    95,
                    64.5,
                    87,
                    74,
                    96,
                    95,
                    95,
                    98,
                    100,
                    82,
                    64.5,
                    96,
                    100,
                    95,
                    64.5,
                    64.5,
                    95,
                    75,
                    64.5,
                    95,
                    95,
                    35,
                    95,
                    64.5,
                    91,
                    95,
                    98,
                    99,
                    74,
                    64.5,
                    64.5,
                    92,
                    95,
                    68,
                    95,
                    35,
                    62,
                    99,
                    96,
                    95,
                    95,
                    95,
                    95,
                    94,
                    94,
                    95,
                    99,
                    95,
                    99,
                    73,
                    95,
                    95,
                    95,
                    99,
                    93,
                    95,
                    64.5,
                    99,
                    96,
                    43,
                    64.5,
                    64.5,
                    95,
                    35,
                    92,
                    61,
                    94,
                    95,
                    94,
                    64.5,
                    99,
                    95,
                    95,
                    95,
                    95,
                    64.5,
                    77,
                    99,
                    99,
                    100,
                    88,
                    64.5,
                    87,
                    95
                  ]
                }
              ],
              "layout": {
                "coloraxis": {
                  "cmax": 100,
                  "cmin": 0,
                  "colorbar": {
                    "title": {
                      "text": "Adult_Literacy_Rate_Total"
                    }
                  },
                  "colorscale": [
                    [
                      0,
                      "#0d0887"
                    ],
                    [
                      0.1111111111111111,
                      "#46039f"
                    ],
                    [
                      0.2222222222222222,
                      "#7201a8"
                    ],
                    [
                      0.3333333333333333,
                      "#9c179e"
                    ],
                    [
                      0.4444444444444444,
                      "#bd3786"
                    ],
                    [
                      0.5555555555555556,
                      "#d8576b"
                    ],
                    [
                      0.6666666666666666,
                      "#ed7953"
                    ],
                    [
                      0.7777777777777778,
                      "#fb9f3a"
                    ],
                    [
                      0.8888888888888888,
                      "#fdca26"
                    ],
                    [
                      1,
                      "#f0f921"
                    ]
                  ]
                },
                "geo": {
                  "center": {},
                  "domain": {
                    "x": [
                      0,
                      1
                    ],
                    "y": [
                      0,
                      1
                    ]
                  }
                },
                "legend": {
                  "tracegroupgap": 0
                },
                "template": {
                  "data": {
                    "bar": [
                      {
                        "error_x": {
                          "color": "#2a3f5f"
                        },
                        "error_y": {
                          "color": "#2a3f5f"
                        },
                        "marker": {
                          "line": {
                            "color": "#E5ECF6",
                            "width": 0.5
                          },
                          "pattern": {
                            "fillmode": "overlay",
                            "size": 10,
                            "solidity": 0.2
                          }
                        },
                        "type": "bar"
                      }
                    ],
                    "barpolar": [
                      {
                        "marker": {
                          "line": {
                            "color": "#E5ECF6",
                            "width": 0.5
                          },
                          "pattern": {
                            "fillmode": "overlay",
                            "size": 10,
                            "solidity": 0.2
                          }
                        },
                        "type": "barpolar"
                      }
                    ],
                    "carpet": [
                      {
                        "aaxis": {
                          "endlinecolor": "#2a3f5f",
                          "gridcolor": "white",
                          "linecolor": "white",
                          "minorgridcolor": "white",
                          "startlinecolor": "#2a3f5f"
                        },
                        "baxis": {
                          "endlinecolor": "#2a3f5f",
                          "gridcolor": "white",
                          "linecolor": "white",
                          "minorgridcolor": "white",
                          "startlinecolor": "#2a3f5f"
                        },
                        "type": "carpet"
                      }
                    ],
                    "choropleth": [
                      {
                        "colorbar": {
                          "outlinewidth": 0,
                          "ticks": ""
                        },
                        "type": "choropleth"
                      }
                    ],
                    "contour": [
                      {
                        "colorbar": {
                          "outlinewidth": 0,
                          "ticks": ""
                        },
                        "colorscale": [
                          [
                            0,
                            "#0d0887"
                          ],
                          [
                            0.1111111111111111,
                            "#46039f"
                          ],
                          [
                            0.2222222222222222,
                            "#7201a8"
                          ],
                          [
                            0.3333333333333333,
                            "#9c179e"
                          ],
                          [
                            0.4444444444444444,
                            "#bd3786"
                          ],
                          [
                            0.5555555555555556,
                            "#d8576b"
                          ],
                          [
                            0.6666666666666666,
                            "#ed7953"
                          ],
                          [
                            0.7777777777777778,
                            "#fb9f3a"
                          ],
                          [
                            0.8888888888888888,
                            "#fdca26"
                          ],
                          [
                            1,
                            "#f0f921"
                          ]
                        ],
                        "type": "contour"
                      }
                    ],
                    "contourcarpet": [
                      {
                        "colorbar": {
                          "outlinewidth": 0,
                          "ticks": ""
                        },
                        "type": "contourcarpet"
                      }
                    ],
                    "heatmap": [
                      {
                        "colorbar": {
                          "outlinewidth": 0,
                          "ticks": ""
                        },
                        "colorscale": [
                          [
                            0,
                            "#0d0887"
                          ],
                          [
                            0.1111111111111111,
                            "#46039f"
                          ],
                          [
                            0.2222222222222222,
                            "#7201a8"
                          ],
                          [
                            0.3333333333333333,
                            "#9c179e"
                          ],
                          [
                            0.4444444444444444,
                            "#bd3786"
                          ],
                          [
                            0.5555555555555556,
                            "#d8576b"
                          ],
                          [
                            0.6666666666666666,
                            "#ed7953"
                          ],
                          [
                            0.7777777777777778,
                            "#fb9f3a"
                          ],
                          [
                            0.8888888888888888,
                            "#fdca26"
                          ],
                          [
                            1,
                            "#f0f921"
                          ]
                        ],
                        "type": "heatmap"
                      }
                    ],
                    "heatmapgl": [
                      {
                        "colorbar": {
                          "outlinewidth": 0,
                          "ticks": ""
                        },
                        "colorscale": [
                          [
                            0,
                            "#0d0887"
                          ],
                          [
                            0.1111111111111111,
                            "#46039f"
                          ],
                          [
                            0.2222222222222222,
                            "#7201a8"
                          ],
                          [
                            0.3333333333333333,
                            "#9c179e"
                          ],
                          [
                            0.4444444444444444,
                            "#bd3786"
                          ],
                          [
                            0.5555555555555556,
                            "#d8576b"
                          ],
                          [
                            0.6666666666666666,
                            "#ed7953"
                          ],
                          [
                            0.7777777777777778,
                            "#fb9f3a"
                          ],
                          [
                            0.8888888888888888,
                            "#fdca26"
                          ],
                          [
                            1,
                            "#f0f921"
                          ]
                        ],
                        "type": "heatmapgl"
                      }
                    ],
                    "histogram": [
                      {
                        "marker": {
                          "pattern": {
                            "fillmode": "overlay",
                            "size": 10,
                            "solidity": 0.2
                          }
                        },
                        "type": "histogram"
                      }
                    ],
                    "histogram2d": [
                      {
                        "colorbar": {
                          "outlinewidth": 0,
                          "ticks": ""
                        },
                        "colorscale": [
                          [
                            0,
                            "#0d0887"
                          ],
                          [
                            0.1111111111111111,
                            "#46039f"
                          ],
                          [
                            0.2222222222222222,
                            "#7201a8"
                          ],
                          [
                            0.3333333333333333,
                            "#9c179e"
                          ],
                          [
                            0.4444444444444444,
                            "#bd3786"
                          ],
                          [
                            0.5555555555555556,
                            "#d8576b"
                          ],
                          [
                            0.6666666666666666,
                            "#ed7953"
                          ],
                          [
                            0.7777777777777778,
                            "#fb9f3a"
                          ],
                          [
                            0.8888888888888888,
                            "#fdca26"
                          ],
                          [
                            1,
                            "#f0f921"
                          ]
                        ],
                        "type": "histogram2d"
                      }
                    ],
                    "histogram2dcontour": [
                      {
                        "colorbar": {
                          "outlinewidth": 0,
                          "ticks": ""
                        },
                        "colorscale": [
                          [
                            0,
                            "#0d0887"
                          ],
                          [
                            0.1111111111111111,
                            "#46039f"
                          ],
                          [
                            0.2222222222222222,
                            "#7201a8"
                          ],
                          [
                            0.3333333333333333,
                            "#9c179e"
                          ],
                          [
                            0.4444444444444444,
                            "#bd3786"
                          ],
                          [
                            0.5555555555555556,
                            "#d8576b"
                          ],
                          [
                            0.6666666666666666,
                            "#ed7953"
                          ],
                          [
                            0.7777777777777778,
                            "#fb9f3a"
                          ],
                          [
                            0.8888888888888888,
                            "#fdca26"
                          ],
                          [
                            1,
                            "#f0f921"
                          ]
                        ],
                        "type": "histogram2dcontour"
                      }
                    ],
                    "mesh3d": [
                      {
                        "colorbar": {
                          "outlinewidth": 0,
                          "ticks": ""
                        },
                        "type": "mesh3d"
                      }
                    ],
                    "parcoords": [
                      {
                        "line": {
                          "colorbar": {
                            "outlinewidth": 0,
                            "ticks": ""
                          }
                        },
                        "type": "parcoords"
                      }
                    ],
                    "pie": [
                      {
                        "automargin": true,
                        "type": "pie"
                      }
                    ],
                    "scatter": [
                      {
                        "fillpattern": {
                          "fillmode": "overlay",
                          "size": 10,
                          "solidity": 0.2
                        },
                        "type": "scatter"
                      }
                    ],
                    "scatter3d": [
                      {
                        "line": {
                          "colorbar": {
                            "outlinewidth": 0,
                            "ticks": ""
                          }
                        },
                        "marker": {
                          "colorbar": {
                            "outlinewidth": 0,
                            "ticks": ""
                          }
                        },
                        "type": "scatter3d"
                      }
                    ],
                    "scattercarpet": [
                      {
                        "marker": {
                          "colorbar": {
                            "outlinewidth": 0,
                            "ticks": ""
                          }
                        },
                        "type": "scattercarpet"
                      }
                    ],
                    "scattergeo": [
                      {
                        "marker": {
                          "colorbar": {
                            "outlinewidth": 0,
                            "ticks": ""
                          }
                        },
                        "type": "scattergeo"
                      }
                    ],
                    "scattergl": [
                      {
                        "marker": {
                          "colorbar": {
                            "outlinewidth": 0,
                            "ticks": ""
                          }
                        },
                        "type": "scattergl"
                      }
                    ],
                    "scattermapbox": [
                      {
                        "marker": {
                          "colorbar": {
                            "outlinewidth": 0,
                            "ticks": ""
                          }
                        },
                        "type": "scattermapbox"
                      }
                    ],
                    "scatterpolar": [
                      {
                        "marker": {
                          "colorbar": {
                            "outlinewidth": 0,
                            "ticks": ""
                          }
                        },
                        "type": "scatterpolar"
                      }
                    ],
                    "scatterpolargl": [
                      {
                        "marker": {
                          "colorbar": {
                            "outlinewidth": 0,
                            "ticks": ""
                          }
                        },
                        "type": "scatterpolargl"
                      }
                    ],
                    "scatterternary": [
                      {
                        "marker": {
                          "colorbar": {
                            "outlinewidth": 0,
                            "ticks": ""
                          }
                        },
                        "type": "scatterternary"
                      }
                    ],
                    "surface": [
                      {
                        "colorbar": {
                          "outlinewidth": 0,
                          "ticks": ""
                        },
                        "colorscale": [
                          [
                            0,
                            "#0d0887"
                          ],
                          [
                            0.1111111111111111,
                            "#46039f"
                          ],
                          [
                            0.2222222222222222,
                            "#7201a8"
                          ],
                          [
                            0.3333333333333333,
                            "#9c179e"
                          ],
                          [
                            0.4444444444444444,
                            "#bd3786"
                          ],
                          [
                            0.5555555555555556,
                            "#d8576b"
                          ],
                          [
                            0.6666666666666666,
                            "#ed7953"
                          ],
                          [
                            0.7777777777777778,
                            "#fb9f3a"
                          ],
                          [
                            0.8888888888888888,
                            "#fdca26"
                          ],
                          [
                            1,
                            "#f0f921"
                          ]
                        ],
                        "type": "surface"
                      }
                    ],
                    "table": [
                      {
                        "cells": {
                          "fill": {
                            "color": "#EBF0F8"
                          },
                          "line": {
                            "color": "white"
                          }
                        },
                        "header": {
                          "fill": {
                            "color": "#C8D4E3"
                          },
                          "line": {
                            "color": "white"
                          }
                        },
                        "type": "table"
                      }
                    ]
                  },
                  "layout": {
                    "annotationdefaults": {
                      "arrowcolor": "#2a3f5f",
                      "arrowhead": 0,
                      "arrowwidth": 1
                    },
                    "autotypenumbers": "strict",
                    "coloraxis": {
                      "colorbar": {
                        "outlinewidth": 0,
                        "ticks": ""
                      }
                    },
                    "colorscale": {
                      "diverging": [
                        [
                          0,
                          "#8e0152"
                        ],
                        [
                          0.1,
                          "#c51b7d"
                        ],
                        [
                          0.2,
                          "#de77ae"
                        ],
                        [
                          0.3,
                          "#f1b6da"
                        ],
                        [
                          0.4,
                          "#fde0ef"
                        ],
                        [
                          0.5,
                          "#f7f7f7"
                        ],
                        [
                          0.6,
                          "#e6f5d0"
                        ],
                        [
                          0.7,
                          "#b8e186"
                        ],
                        [
                          0.8,
                          "#7fbc41"
                        ],
                        [
                          0.9,
                          "#4d9221"
                        ],
                        [
                          1,
                          "#276419"
                        ]
                      ],
                      "sequential": [
                        [
                          0,
                          "#0d0887"
                        ],
                        [
                          0.1111111111111111,
                          "#46039f"
                        ],
                        [
                          0.2222222222222222,
                          "#7201a8"
                        ],
                        [
                          0.3333333333333333,
                          "#9c179e"
                        ],
                        [
                          0.4444444444444444,
                          "#bd3786"
                        ],
                        [
                          0.5555555555555556,
                          "#d8576b"
                        ],
                        [
                          0.6666666666666666,
                          "#ed7953"
                        ],
                        [
                          0.7777777777777778,
                          "#fb9f3a"
                        ],
                        [
                          0.8888888888888888,
                          "#fdca26"
                        ],
                        [
                          1,
                          "#f0f921"
                        ]
                      ],
                      "sequentialminus": [
                        [
                          0,
                          "#0d0887"
                        ],
                        [
                          0.1111111111111111,
                          "#46039f"
                        ],
                        [
                          0.2222222222222222,
                          "#7201a8"
                        ],
                        [
                          0.3333333333333333,
                          "#9c179e"
                        ],
                        [
                          0.4444444444444444,
                          "#bd3786"
                        ],
                        [
                          0.5555555555555556,
                          "#d8576b"
                        ],
                        [
                          0.6666666666666666,
                          "#ed7953"
                        ],
                        [
                          0.7777777777777778,
                          "#fb9f3a"
                        ],
                        [
                          0.8888888888888888,
                          "#fdca26"
                        ],
                        [
                          1,
                          "#f0f921"
                        ]
                      ]
                    },
                    "colorway": [
                      "#636efa",
                      "#EF553B",
                      "#00cc96",
                      "#ab63fa",
                      "#FFA15A",
                      "#19d3f3",
                      "#FF6692",
                      "#B6E880",
                      "#FF97FF",
                      "#FECB52"
                    ],
                    "font": {
                      "color": "#2a3f5f"
                    },
                    "geo": {
                      "bgcolor": "white",
                      "lakecolor": "white",
                      "landcolor": "#E5ECF6",
                      "showlakes": true,
                      "showland": true,
                      "subunitcolor": "white"
                    },
                    "hoverlabel": {
                      "align": "left"
                    },
                    "hovermode": "closest",
                    "mapbox": {
                      "style": "light"
                    },
                    "paper_bgcolor": "white",
                    "plot_bgcolor": "#E5ECF6",
                    "polar": {
                      "angularaxis": {
                        "gridcolor": "white",
                        "linecolor": "white",
                        "ticks": ""
                      },
                      "bgcolor": "#E5ECF6",
                      "radialaxis": {
                        "gridcolor": "white",
                        "linecolor": "white",
                        "ticks": ""
                      }
                    },
                    "scene": {
                      "xaxis": {
                        "backgroundcolor": "#E5ECF6",
                        "gridcolor": "white",
                        "gridwidth": 2,
                        "linecolor": "white",
                        "showbackground": true,
                        "ticks": "",
                        "zerolinecolor": "white"
                      },
                      "yaxis": {
                        "backgroundcolor": "#E5ECF6",
                        "gridcolor": "white",
                        "gridwidth": 2,
                        "linecolor": "white",
                        "showbackground": true,
                        "ticks": "",
                        "zerolinecolor": "white"
                      },
                      "zaxis": {
                        "backgroundcolor": "#E5ECF6",
                        "gridcolor": "white",
                        "gridwidth": 2,
                        "linecolor": "white",
                        "showbackground": true,
                        "ticks": "",
                        "zerolinecolor": "white"
                      }
                    },
                    "shapedefaults": {
                      "line": {
                        "color": "#2a3f5f"
                      }
                    },
                    "ternary": {
                      "aaxis": {
                        "gridcolor": "white",
                        "linecolor": "white",
                        "ticks": ""
                      },
                      "baxis": {
                        "gridcolor": "white",
                        "linecolor": "white",
                        "ticks": ""
                      },
                      "bgcolor": "#E5ECF6",
                      "caxis": {
                        "gridcolor": "white",
                        "linecolor": "white",
                        "ticks": ""
                      }
                    },
                    "title": {
                      "x": 0.05
                    },
                    "xaxis": {
                      "automargin": true,
                      "gridcolor": "white",
                      "linecolor": "white",
                      "ticks": "",
                      "title": {
                        "standoff": 15
                      },
                      "zerolinecolor": "white",
                      "zerolinewidth": 2
                    },
                    "yaxis": {
                      "automargin": true,
                      "gridcolor": "white",
                      "linecolor": "white",
                      "ticks": "",
                      "title": {
                        "standoff": 15
                      },
                      "zerolinecolor": "white",
                      "zerolinewidth": 2
                    }
                  }
                },
                "title": {
                  "text": "Percentage of Total Adult Literacy Rate in Developing Countries"
                }
              }
            }
          },
          "metadata": {},
          "output_type": "display_data"
        }
      ],
      "source": [
        "# percentage of total adult literacy rate in developing countries\n",
        "fig = px.choropleth(developing_countries, locations='Countries and areas', locationmode='country names',\n",
        "                   color='Adult_Literacy_Rate_Total', range_color=[0, 100],\n",
        "                   title='Percentage of Total Adult Literacy Rate in Developing Countries')\n",
        "\n",
        "fig.show()"
      ]
    },
    {
      "cell_type": "code",
      "execution_count": 121,
      "id": "df137286",
      "metadata": {
        "id": "df137286"
      },
      "outputs": [],
      "source": [
        "# save the dataframe\n",
        "modified_df.to_csv('Literacy_Rates.csv', index = False)"
      ]
    }
  ],
  "metadata": {
    "colab": {
      "provenance": []
    },
    "kernelspec": {
      "display_name": "Python 3 (ipykernel)",
      "language": "python",
      "name": "python3"
    },
    "language_info": {
      "codemirror_mode": {
        "name": "ipython",
        "version": 3
      },
      "file_extension": ".py",
      "mimetype": "text/x-python",
      "name": "python",
      "nbconvert_exporter": "python",
      "pygments_lexer": "ipython3",
      "version": "3.10.0"
    }
  },
  "nbformat": 4,
  "nbformat_minor": 5
}
